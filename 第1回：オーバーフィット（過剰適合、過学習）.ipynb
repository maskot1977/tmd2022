{
  "cells": [
    {
      "cell_type": "markdown",
      "metadata": {
        "id": "view-in-github",
        "colab_type": "text"
      },
      "source": [
        "<a href=\"https://colab.research.google.com/github/maskot1977/tmd2022/blob/szEovMYL2isa1DFd/%E7%AC%AC1%E5%9B%9E%EF%BC%9A%E3%82%AA%E3%83%BC%E3%83%90%E3%83%BC%E3%83%95%E3%82%A3%E3%83%83%E3%83%88%EF%BC%88%E9%81%8E%E5%89%B0%E9%81%A9%E5%90%88%E3%80%81%E9%81%8E%E5%AD%A6%E7%BF%92%EF%BC%89.ipynb\" target=\"_parent\"><img src=\"https://colab.research.google.com/assets/colab-badge.svg\" alt=\"Open In Colab\"/></a>"
      ]
    },
    {
      "cell_type": "markdown",
      "metadata": {
        "id": "U8moFn5Uqs31"
      },
      "source": [
        "# 第1回：オーバーフィット（過剰適合、過学習）"
      ]
    },
    {
      "cell_type": "code",
      "execution_count": null,
      "metadata": {
        "id": "UYlbWygHiIoO"
      },
      "outputs": [],
      "source": [
        "import numpy as np\n",
        "\n",
        "f = (\n",
        "    lambda x: 0.2 * np.sin(1.9 * x) / (1 + 0.05 * np.abs(x))\n",
        "    + 1 / (1 + np.exp(-3 * x))\n",
        "    + 1 / (1 + x ** 2)\n",
        ")"
      ]
    },
    {
      "cell_type": "code",
      "execution_count": null,
      "metadata": {
        "id": "Lbq0dIqjpmel"
      },
      "outputs": [],
      "source": [
        "x_observed = np.concatenate([np.linspace(-10, -3, 6), np.linspace(3, 10, 14)])"
      ]
    },
    {
      "cell_type": "code",
      "execution_count": null,
      "metadata": {
        "id": "R2PndnAjia57"
      },
      "outputs": [],
      "source": [
        "import matplotlib.pyplot as plt\n",
        "\n",
        "plt.scatter(x_observed, f(x_observed), label=\"observed\")\n",
        "plt.legend()\n",
        "plt.xlabel(\"X\")\n",
        "plt.ylabel(\"Y\")\n",
        "plt.show()"
      ]
    },
    {
      "cell_type": "code",
      "execution_count": null,
      "metadata": {
        "id": "WX3NUwZJCdaN"
      },
      "outputs": [],
      "source": [
        "models = []"
      ]
    },
    {
      "cell_type": "markdown",
      "metadata": {
        "id": "uPO_uTQeq7B_"
      },
      "source": [
        "# 線形回帰（Linear Regression）"
      ]
    },
    {
      "cell_type": "code",
      "execution_count": null,
      "metadata": {
        "id": "az5IkWAECJfN"
      },
      "outputs": [],
      "source": [
        "from sklearn.linear_model import LinearRegression\n",
        "\n",
        "model = LinearRegression()\n",
        "model.fit(x_observed.reshape(-1, 1), f(x_observed))"
      ]
    },
    {
      "cell_type": "code",
      "execution_count": null,
      "metadata": {
        "id": "3kauaVVSCxSm"
      },
      "outputs": [],
      "source": [
        "models.append([\"Linear\", model])"
      ]
    },
    {
      "cell_type": "code",
      "execution_count": null,
      "metadata": {
        "id": "VEVtJKIWiXBw"
      },
      "outputs": [],
      "source": [
        "x_latent = np.linspace(-12, 12, 100)"
      ]
    },
    {
      "cell_type": "code",
      "execution_count": null,
      "metadata": {
        "id": "k9DknnKWBzkj"
      },
      "outputs": [],
      "source": [
        "import matplotlib.pyplot as plt\n",
        "\n",
        "plt.scatter(x_observed, f(x_observed), label=\"observed\")\n",
        "for model_name, model in models:\n",
        "    plt.plot(x_latent, model.predict(x_latent.reshape(-1, 1)), label=model_name)\n",
        "\n",
        "plt.legend()\n",
        "plt.xlabel(\"X\")\n",
        "plt.ylabel(\"Y\")\n",
        "plt.show()"
      ]
    },
    {
      "cell_type": "markdown",
      "metadata": {
        "id": "-zp6chC5rAh0"
      },
      "source": [
        "# サポートベクター回帰 (SVM Regressor)"
      ]
    },
    {
      "cell_type": "code",
      "execution_count": null,
      "metadata": {
        "id": "NFjms4dDifHB"
      },
      "outputs": [],
      "source": [
        "from sklearn.svm import SVR\n",
        "\n",
        "model = SVR()\n",
        "model.fit(x_observed.reshape(-1, 1), f(x_observed))"
      ]
    },
    {
      "cell_type": "code",
      "execution_count": null,
      "metadata": {
        "id": "3Jwz33x-pwJ3"
      },
      "outputs": [],
      "source": [
        "models.append([\"SVM\", model])"
      ]
    },
    {
      "cell_type": "code",
      "execution_count": null,
      "metadata": {
        "id": "FzeBO3N7p2kX"
      },
      "outputs": [],
      "source": [
        "import matplotlib.pyplot as plt\n",
        "\n",
        "plt.scatter(x_observed, f(x_observed), label=\"observed\")\n",
        "for model_name, model in models:\n",
        "    plt.plot(x_latent, model.predict(x_latent.reshape(-1, 1)), label=model_name)\n",
        "\n",
        "plt.legend()\n",
        "plt.xlabel(\"X\")\n",
        "plt.ylabel(\"Y\")\n",
        "plt.show()"
      ]
    },
    {
      "cell_type": "markdown",
      "metadata": {
        "id": "zt8WHlwhrPkn"
      },
      "source": [
        "# K-近傍法"
      ]
    },
    {
      "cell_type": "code",
      "execution_count": null,
      "metadata": {
        "id": "Tz_VqAjvD-Rx"
      },
      "outputs": [],
      "source": [
        "from sklearn.neighbors import KNeighborsRegressor\n",
        "\n",
        "model = KNeighborsRegressor()\n",
        "model.fit(x_observed.reshape(-1, 1), f(x_observed))\n",
        "models.append([\"KN\", model])"
      ]
    },
    {
      "cell_type": "code",
      "execution_count": null,
      "metadata": {
        "id": "HQKJDx_ysANa"
      },
      "outputs": [],
      "source": [
        "import matplotlib.pyplot as plt\n",
        "\n",
        "plt.scatter(x_observed, f(x_observed), label=\"observed\")\n",
        "for model_name, model in models:\n",
        "    plt.plot(x_latent, model.predict(x_latent.reshape(-1, 1)), label=model_name)\n",
        "\n",
        "plt.legend()\n",
        "plt.xlabel(\"X\")\n",
        "plt.ylabel(\"Y\")\n",
        "plt.show()"
      ]
    },
    {
      "cell_type": "markdown",
      "metadata": {
        "id": "fbBZxS_yrfP6"
      },
      "source": [
        "# ガウス過程回帰"
      ]
    },
    {
      "cell_type": "code",
      "execution_count": null,
      "metadata": {
        "id": "2aXLcdKhENoC"
      },
      "outputs": [],
      "source": [
        "from sklearn.gaussian_process import GaussianProcessRegressor\n",
        "\n",
        "model = GaussianProcessRegressor()\n",
        "model.fit(x_observed.reshape(-1, 1), f(x_observed))\n",
        "models.append([\"GP\", model])"
      ]
    },
    {
      "cell_type": "code",
      "execution_count": null,
      "metadata": {
        "id": "cIa1GnMREVZy"
      },
      "outputs": [],
      "source": [
        "import matplotlib.pyplot as plt\n",
        "\n",
        "plt.scatter(x_observed, f(x_observed), label=\"observed\")\n",
        "for model_name, model in models:\n",
        "    plt.plot(x_latent, model.predict(x_latent.reshape(-1, 1)), label=model_name)\n",
        "\n",
        "plt.legend()\n",
        "plt.xlabel(\"X\")\n",
        "plt.ylabel(\"Y\")\n",
        "plt.show()"
      ]
    },
    {
      "cell_type": "markdown",
      "metadata": {
        "id": "kX9LA8AgrmBB"
      },
      "source": [
        "# 決定木"
      ]
    },
    {
      "cell_type": "code",
      "execution_count": null,
      "metadata": {
        "id": "pX7ZIBjYEvo8"
      },
      "outputs": [],
      "source": [
        "from sklearn.tree import DecisionTreeRegressor\n",
        "\n",
        "model = DecisionTreeRegressor()\n",
        "model.fit(x_observed.reshape(-1, 1), f(x_observed))\n",
        "models.append([\"DT\", model])"
      ]
    },
    {
      "cell_type": "code",
      "execution_count": null,
      "metadata": {
        "id": "Lmk7Qh7qE4Yc"
      },
      "outputs": [],
      "source": [
        "import matplotlib.pyplot as plt\n",
        "\n",
        "plt.scatter(x_observed, f(x_observed), label=\"observed\")\n",
        "for model_name, model in models:\n",
        "    plt.plot(x_latent, model.predict(x_latent.reshape(-1, 1)), label=model_name)\n",
        "\n",
        "plt.legend()\n",
        "plt.xlabel(\"X\")\n",
        "plt.ylabel(\"Y\")\n",
        "plt.show()"
      ]
    },
    {
      "cell_type": "markdown",
      "metadata": {
        "id": "zaDU1_XsrpXV"
      },
      "source": [
        "# ランダムフォレスト"
      ]
    },
    {
      "cell_type": "code",
      "execution_count": null,
      "metadata": {
        "id": "dMXGVALTqAk-"
      },
      "outputs": [],
      "source": [
        "from sklearn.ensemble import RandomForestRegressor\n",
        "\n",
        "model = RandomForestRegressor()\n",
        "model.fit(x_observed.reshape(-1, 1), f(x_observed))\n",
        "models.append([\"RF\", model])"
      ]
    },
    {
      "cell_type": "code",
      "execution_count": null,
      "metadata": {
        "id": "I3iNQiYJqUqx"
      },
      "outputs": [],
      "source": [
        "import matplotlib.pyplot as plt\n",
        "\n",
        "plt.scatter(x_observed, f(x_observed), label=\"observed\")\n",
        "for model_name, model in models:\n",
        "    plt.plot(x_latent, model.predict(x_latent.reshape(-1, 1)), label=model_name)\n",
        "\n",
        "plt.legend()\n",
        "plt.xlabel(\"X\")\n",
        "plt.ylabel(\"Y\")\n",
        "plt.show()"
      ]
    },
    {
      "cell_type": "markdown",
      "metadata": {
        "id": "S18yhhqSrwZo"
      },
      "source": [
        "# エクストラツリー"
      ]
    },
    {
      "cell_type": "code",
      "execution_count": null,
      "metadata": {
        "id": "OZ2KVbevGpVR"
      },
      "outputs": [],
      "source": [
        "from sklearn.ensemble import ExtraTreesRegressor\n",
        "\n",
        "model = ExtraTreesRegressor()\n",
        "model.fit(x_observed.reshape(-1, 1), f(x_observed))\n",
        "models.append([\"ET\", model])"
      ]
    },
    {
      "cell_type": "code",
      "execution_count": null,
      "metadata": {
        "id": "_E-L70lAGs9U"
      },
      "outputs": [],
      "source": [
        "import matplotlib.pyplot as plt\n",
        "\n",
        "plt.scatter(x_observed, f(x_observed), label=\"observed\")\n",
        "for model_name, model in models:\n",
        "    plt.plot(x_latent, model.predict(x_latent.reshape(-1, 1)), label=model_name)\n",
        "\n",
        "plt.legend()\n",
        "plt.xlabel(\"X\")\n",
        "plt.ylabel(\"Y\")\n",
        "plt.show()"
      ]
    },
    {
      "cell_type": "markdown",
      "metadata": {
        "id": "T_MyCDUnr17l"
      },
      "source": [
        "# 勾配ブースティング"
      ]
    },
    {
      "cell_type": "code",
      "execution_count": null,
      "metadata": {
        "id": "nKK0hnISFiQf"
      },
      "outputs": [],
      "source": [
        "from sklearn.ensemble import HistGradientBoostingRegressor\n",
        "\n",
        "model = HistGradientBoostingRegressor()\n",
        "model.fit(x_observed.reshape(-1, 1), f(x_observed))\n",
        "models.append([\"GB\", model])"
      ]
    },
    {
      "cell_type": "code",
      "execution_count": null,
      "metadata": {
        "id": "USeU_K04FqFr"
      },
      "outputs": [],
      "source": [
        "import matplotlib.pyplot as plt\n",
        "\n",
        "plt.scatter(x_observed, f(x_observed), label=\"observed\")\n",
        "for model_name, model in models:\n",
        "    plt.plot(x_latent, model.predict(x_latent.reshape(-1, 1)), label=model_name)\n",
        "\n",
        "plt.legend()\n",
        "plt.xlabel(\"X\")\n",
        "plt.ylabel(\"Y\")\n",
        "plt.show()"
      ]
    },
    {
      "cell_type": "markdown",
      "metadata": {
        "id": "1xELc8mkr4p0"
      },
      "source": [
        "# 多層パーセプトロン"
      ]
    },
    {
      "cell_type": "code",
      "execution_count": null,
      "metadata": {
        "id": "GHFd-vnnF0DS"
      },
      "outputs": [],
      "source": [
        "from sklearn.neural_network import MLPRegressor\n",
        "\n",
        "model = MLPRegressor()\n",
        "model.fit(x_observed.reshape(-1, 1), f(x_observed))\n",
        "models.append([\"MLP\", model])"
      ]
    },
    {
      "cell_type": "code",
      "execution_count": null,
      "metadata": {
        "id": "WgJmb9FNqWhN"
      },
      "outputs": [],
      "source": [
        "import matplotlib.pyplot as plt\n",
        "\n",
        "plt.scatter(x_observed, f(x_observed), label=\"observed\")\n",
        "for model_name, model in models:\n",
        "    plt.plot(x_latent, model.predict(x_latent.reshape(-1, 1)), label=model_name)\n",
        "\n",
        "plt.legend()\n",
        "plt.xlabel(\"X\")\n",
        "plt.ylabel(\"Y\")\n",
        "plt.show()"
      ]
    },
    {
      "cell_type": "markdown",
      "metadata": {
        "id": "zdOEOkS2r7uX"
      },
      "source": [
        "# ９つの回帰手法を比較"
      ]
    },
    {
      "cell_type": "code",
      "execution_count": null,
      "metadata": {
        "id": "4cfB_i9FsRJ6"
      },
      "outputs": [],
      "source": [
        "import matplotlib.pyplot as plt\n",
        "from sklearn.metrics import mean_absolute_error\n",
        "\n",
        "fig, axes = plt.subplots(nrows=3, ncols=3, figsize=(12, 12))\n",
        "for idx, (model_name, model) in enumerate(models):\n",
        "    axes[int(idx / 3)][idx % 3].set_title(\n",
        "        \"MAE={:.5f}\".format(\n",
        "            mean_absolute_error(f(x_observed), model.predict(x_observed.reshape(-1, 1)))\n",
        "        )\n",
        "    )\n",
        "    axes[int(idx / 3)][idx % 3].scatter(x_observed, f(x_observed), label=\"observed\")\n",
        "    axes[int(idx / 3)][idx % 3].plot(\n",
        "        x_latent, model.predict(x_latent.reshape(-1, 1)), label=model_name\n",
        "    )\n",
        "    axes[int(idx / 3)][idx % 3].legend()\n",
        "plt.show()"
      ]
    },
    {
      "cell_type": "markdown",
      "metadata": {
        "id": "dY98Q9MusCeY"
      },
      "source": [
        "# 真の関数と比較"
      ]
    },
    {
      "cell_type": "code",
      "execution_count": null,
      "metadata": {
        "id": "S2iTOQjTH3lZ"
      },
      "outputs": [],
      "source": [
        "import matplotlib.pyplot as plt\n",
        "from sklearn.metrics import mean_absolute_error\n",
        "\n",
        "fig, axes = plt.subplots(nrows=3, ncols=3, figsize=(12, 12))\n",
        "for idx, (model_name, model) in enumerate(models):\n",
        "    axes[int(idx / 3)][idx % 3].set_title(\n",
        "        \"MAE={:.5f}\".format(\n",
        "            mean_absolute_error(f(x_observed), model.predict(x_observed.reshape(-1, 1)))\n",
        "        )\n",
        "    )\n",
        "    axes[int(idx / 3)][idx % 3].plot(x_latent, f(x_latent), label=\"true func\")\n",
        "    axes[int(idx / 3)][idx % 3].scatter(x_observed, f(x_observed), label=\"observed\")\n",
        "    axes[int(idx / 3)][idx % 3].plot(\n",
        "        x_latent, model.predict(x_latent.reshape(-1, 1)), label=model_name\n",
        "    )\n",
        "    axes[int(idx / 3)][idx % 3].legend()\n",
        "plt.show()"
      ]
    },
    {
      "cell_type": "markdown",
      "metadata": {
        "id": "CW9QZAePsNHq"
      },
      "source": [
        "# グリッドサーチによるハイパーパラメーターチューニング"
      ]
    },
    {
      "cell_type": "code",
      "execution_count": null,
      "metadata": {
        "id": "ZxkL-2_AJAOB"
      },
      "outputs": [],
      "source": [
        "from sklearn.metrics import mean_absolute_error\n",
        "\n",
        "\n",
        "def three_by_three(method, fix_param, param1, param2):\n",
        "    fig, axes = plt.subplots(nrows=3, ncols=3, figsize=(14, 14))\n",
        "    for i1, v1 in enumerate(param1[1]):\n",
        "        for i2, v2 in enumerate(param2[1]):\n",
        "            param = fix_param\n",
        "            param[param1[0]] = v1\n",
        "            param[param2[0]] = v2\n",
        "            model = method(**param)\n",
        "            model.fit(x_observed.reshape(-1, 1), f(x_observed))\n",
        "            axes[i1][i2].set_title(\n",
        "                \"MAE={:.5f}\".format(\n",
        "                    mean_absolute_error(\n",
        "                        f(x_observed), model.predict(x_observed.reshape(-1, 1))\n",
        "                    )\n",
        "                )\n",
        "            )\n",
        "            axes[i1][i2].plot(x_latent, f(x_latent), label=\"true func\")\n",
        "            axes[i1][i2].scatter(x_observed, f(x_observed), label=\"observed\")\n",
        "            axes[i1][i2].plot(\n",
        "                x_latent,\n",
        "                model.predict(x_latent.reshape(-1, 1)),\n",
        "                label=\"{}={}, {}={}\".format(param1[0], v1, param2[0], v2),\n",
        "            )\n",
        "            axes[i1][i2].legend()\n",
        "    plt.show()"
      ]
    },
    {
      "cell_type": "markdown",
      "metadata": {
        "id": "h0OZ7MHYsWwk"
      },
      "source": [
        "# SVM のチューニング"
      ]
    },
    {
      "cell_type": "code",
      "execution_count": null,
      "metadata": {
        "id": "cz6TbdF2A0dr"
      },
      "outputs": [],
      "source": [
        "method = SVR\n",
        "param1 = [\"C\", [1, 10, 100]]\n",
        "param2 = [\"epsilon\", [0.01, 0.1, 1]]\n",
        "fix_param = {}\n",
        "three_by_three(method, fix_param, param1, param2)"
      ]
    },
    {
      "cell_type": "markdown",
      "metadata": {
        "id": "7otkeoYdsje8"
      },
      "source": [
        "# K近傍法のチューニング"
      ]
    },
    {
      "cell_type": "code",
      "execution_count": null,
      "metadata": {
        "id": "5nl_t5nfGl8u"
      },
      "outputs": [],
      "source": [
        "method = KNeighborsRegressor\n",
        "param1 = [\"algorithm\", [\"ball_tree\", \"kd_tree\", \"brute\"]]\n",
        "param2 = [\"n_neighbors\", [1, 5, 10]]\n",
        "fix_param = {}\n",
        "three_by_three(method, fix_param, param1, param2)"
      ]
    },
    {
      "cell_type": "markdown",
      "metadata": {
        "id": "8U4XyTeysn-J"
      },
      "source": [
        "# 決定木のチューニング"
      ]
    },
    {
      "cell_type": "code",
      "execution_count": null,
      "metadata": {
        "id": "8-KcTX1kHPU8"
      },
      "outputs": [],
      "source": [
        "method = DecisionTreeRegressor\n",
        "param1 = [\"max_depth\", [1, 2, None]]\n",
        "param2 = [\"min_samples_leaf\", [1, 2, 4]]\n",
        "fix_param = {}\n",
        "three_by_three(method, fix_param, param1, param2)"
      ]
    },
    {
      "cell_type": "markdown",
      "metadata": {
        "id": "yG8XGX7rsrMH"
      },
      "source": [
        "# ランダムフォレストのチューニング"
      ]
    },
    {
      "cell_type": "code",
      "execution_count": null,
      "metadata": {
        "id": "MnI7Dpx3I6yt"
      },
      "outputs": [],
      "source": [
        "method = RandomForestRegressor\n",
        "param1 = [\"max_depth\", [1, 2, None]]\n",
        "param2 = [\"min_samples_leaf\", [1, 2, 4]]\n",
        "fix_param = {}\n",
        "three_by_three(method, fix_param, param1, param2)"
      ]
    },
    {
      "cell_type": "markdown",
      "metadata": {
        "id": "yysl7okBsuKk"
      },
      "source": [
        "# エクストラツリーのチューニング"
      ]
    },
    {
      "cell_type": "code",
      "execution_count": null,
      "metadata": {
        "id": "CafZrEIHJfu2"
      },
      "outputs": [],
      "source": [
        "method = ExtraTreesRegressor\n",
        "param1 = [\"max_depth\", [1, 2, None]]\n",
        "param2 = [\"min_samples_leaf\", [1, 2, 4]]\n",
        "fix_param = {}\n",
        "three_by_three(method, fix_param, param1, param2)"
      ]
    },
    {
      "cell_type": "markdown",
      "metadata": {
        "id": "l66uPXZnsxu3"
      },
      "source": [
        "# 勾配ブースティングのチューニング"
      ]
    },
    {
      "cell_type": "code",
      "execution_count": null,
      "metadata": {
        "id": "P-bC_1QzJ4al"
      },
      "outputs": [],
      "source": [
        "method = HistGradientBoostingRegressor\n",
        "param1 = [\"max_depth\", [1, 2, None]]\n",
        "param2 = [\"min_samples_leaf\", [1, 2, 4]]\n",
        "fix_param = {}\n",
        "three_by_three(method, fix_param, param1, param2)"
      ]
    },
    {
      "cell_type": "markdown",
      "metadata": {
        "id": "zB5771Zzs3Ef"
      },
      "source": [
        "# 多層パーセプトロンのチューニング"
      ]
    },
    {
      "cell_type": "code",
      "execution_count": null,
      "metadata": {
        "id": "X9cKpM2-KGO0"
      },
      "outputs": [],
      "source": [
        "method = MLPRegressor\n",
        "param1 = [\"hidden_layer_sizes\", [(100), (100, 100), (100, 100, 100)]]\n",
        "param2 = [\"activation\", [\"logistic\", \"tanh\", \"relu\"]]\n",
        "fix_param = {}\n",
        "three_by_three(method, fix_param, param1, param2)"
      ]
    },
    {
      "cell_type": "markdown",
      "metadata": {
        "id": "vGIDoCqYs7hL"
      },
      "source": [
        "# Optuna によるハイパーパラメーターチューニング"
      ]
    },
    {
      "cell_type": "code",
      "execution_count": null,
      "metadata": {
        "id": "lWknyuurLFh8"
      },
      "outputs": [],
      "source": [
        "!pip install optuna"
      ]
    },
    {
      "cell_type": "markdown",
      "metadata": {
        "id": "9lEw0gvBtAwm"
      },
      "source": [
        "# SVM を Optuna でチューニング"
      ]
    },
    {
      "cell_type": "code",
      "execution_count": null,
      "metadata": {
        "id": "tBGNiba7LqzV"
      },
      "outputs": [],
      "source": [
        "import copy\n",
        "\n",
        "\n",
        "class best_SVR:\n",
        "    def __init__(self, x_train, x_valid, t_train, t_valid):\n",
        "        # 訓練データを格納\n",
        "        self.x_train = x_train\n",
        "        self.t_train = t_train\n",
        "\n",
        "        # 検証データを格納\n",
        "        self.x_valid = x_valid\n",
        "        self.t_valid = t_valid\n",
        "\n",
        "        # ベストモデルとスコアを格納\n",
        "        self.best_score = None\n",
        "        self.best_model = None\n",
        "\n",
        "    def __call__(self, trial):\n",
        "        # チューニングしたいパラメータの範囲を設定\n",
        "        model_params = {}\n",
        "        model_params[\"C\"] = trial.suggest_float(\"C\", 1e-10, 1e10, log=True)\n",
        "        model_params[\"gamma\"] = trial.suggest_float(\"gamma\", 1e-10, 1e10, log=True)\n",
        "        model_params[\"epsilon\"] = trial.suggest_float(\"epsilon\", 1e-10, 1e10, log=True)\n",
        "        model_params[\"max_iter\"] = 530000\n",
        "\n",
        "        # SVMモデルを作成し訓練データを学習\n",
        "        model = SVR(**model_params)\n",
        "        model.fit(self.x_train.reshape(-1, 1), self.t_train)\n",
        "\n",
        "        # 検証データの予測性能を評価\n",
        "        score = mean_absolute_error(\n",
        "            model.predict(self.x_valid.reshape(-1, 1)), self.t_valid\n",
        "        )\n",
        "\n",
        "        # ベストスコアが出れば、そのベストモデルを記録\n",
        "        if self.best_model is None or self.best_score > score:\n",
        "            self.best_score = score\n",
        "            self.best_model = copy.deepcopy(model)\n",
        "\n",
        "        # スコアを返す\n",
        "        return score"
      ]
    },
    {
      "cell_type": "code",
      "execution_count": null,
      "metadata": {
        "id": "TtkrmrFpXCUZ"
      },
      "outputs": [],
      "source": [
        "import optuna\n",
        "\n",
        "# 各種設定\n",
        "optuna.logging.set_verbosity(optuna.logging.WARN)\n",
        "timeout = 50\n",
        "n_trials = 100\n",
        "show_progress_bar = True\n",
        "\n",
        "# 目的変数（最小化または最大化したい値）の設定\n",
        "objective = best_SVR(x_observed, x_observed, f(x_observed), f(x_observed))\n",
        "\n",
        "# 学習環境を立ち上げる\n",
        "study = optuna.create_study(direction=\"minimize\")\n",
        "\n",
        "# 学習する\n",
        "study.optimize(\n",
        "    objective,\n",
        "    timeout=timeout,\n",
        "    n_trials=n_trials,\n",
        "    show_progress_bar=show_progress_bar,\n",
        ")"
      ]
    },
    {
      "cell_type": "code",
      "execution_count": null,
      "metadata": {
        "id": "5O2xYvBOXHCT"
      },
      "outputs": [],
      "source": [
        "# 性能評価指標の推移\n",
        "import matplotlib.pyplot as plt\n",
        "\n",
        "plt.plot([trial.value for trial in study.trials], label=\"value\")\n",
        "plt.grid()\n",
        "plt.legend()\n",
        "plt.yscale(\"log\")\n",
        "plt.show()"
      ]
    },
    {
      "cell_type": "code",
      "execution_count": null,
      "metadata": {
        "id": "lrLhgXXxXjw6"
      },
      "outputs": [],
      "source": [
        "# C の推移\n",
        "import matplotlib.pyplot as plt\n",
        "\n",
        "plt.plot([trial.params[\"C\"] for trial in study.trials], label=\"C\")\n",
        "plt.grid()\n",
        "plt.legend()\n",
        "plt.yscale(\"log\")\n",
        "plt.show()"
      ]
    },
    {
      "cell_type": "code",
      "execution_count": null,
      "metadata": {
        "id": "dMubtpl_Y1Ew"
      },
      "outputs": [],
      "source": [
        "# epsilon の推移\n",
        "import matplotlib.pyplot as plt\n",
        "\n",
        "plt.plot([trial.params[\"epsilon\"] for trial in study.trials], label=\"epsilon\")\n",
        "plt.grid()\n",
        "plt.legend()\n",
        "plt.yscale(\"log\")\n",
        "plt.show()"
      ]
    },
    {
      "cell_type": "code",
      "execution_count": null,
      "metadata": {
        "id": "JadSEqqJXp2Z"
      },
      "outputs": [],
      "source": [
        "# gamma の推移\n",
        "import matplotlib.pyplot as plt\n",
        "\n",
        "plt.plot([trial.params[\"gamma\"] for trial in study.trials], label=\"gamma\")\n",
        "plt.grid()\n",
        "plt.legend()\n",
        "plt.yscale(\"log\")\n",
        "plt.show()"
      ]
    },
    {
      "cell_type": "code",
      "execution_count": null,
      "metadata": {
        "id": "sIdxhO8bXvzc"
      },
      "outputs": [],
      "source": [
        "# C と epsilon の推移\n",
        "import matplotlib.pyplot as plt\n",
        "\n",
        "plt.plot(\n",
        "    [trial.params[\"epsilon\"] for trial in study.trials],\n",
        "    [trial.params[\"C\"] for trial in study.trials],\n",
        "    marker=\"o\",\n",
        "    alpha=0.8,\n",
        ")\n",
        "plt.grid()\n",
        "plt.xscale(\"log\")\n",
        "plt.yscale(\"log\")\n",
        "plt.xlabel(\"epsilon\")\n",
        "plt.ylabel(\"C\")\n",
        "plt.show()"
      ]
    },
    {
      "cell_type": "code",
      "execution_count": null,
      "metadata": {
        "id": "JBtBfVnKX8Q-"
      },
      "outputs": [],
      "source": [
        "import matplotlib.pyplot as plt\n",
        "\n",
        "plt.title(\n",
        "    \"MAE={:.5f}\".format(\n",
        "        mean_absolute_error(\n",
        "            f(x_observed), objective.best_model.predict(x_observed.reshape(-1, 1))\n",
        "        )\n",
        "    )\n",
        ")\n",
        "plt.plot(x_latent, f(x_latent), label=\"true func\")\n",
        "plt.scatter(x_observed, f(x_observed), label=\"observed\")\n",
        "plt.plot(\n",
        "    x_latent, objective.best_model.predict(x_latent.reshape(-1, 1)), label=\"best_model\"\n",
        ")\n",
        "plt.legend()\n",
        "plt.xlabel(\"X\")\n",
        "plt.ylabel(\"Y\")\n",
        "plt.show()\n",
        "objective.best_model"
      ]
    },
    {
      "cell_type": "code",
      "execution_count": null,
      "metadata": {
        "id": "YuoipkXIZ-D8"
      },
      "outputs": [],
      "source": [
        "index = np.arange(x_observed.size)\n",
        "train_index = index[index % 2 != 0]\n",
        "test_index = index[index % 2 == 0]\n",
        "\n",
        "x_train = x_observed[train_index]\n",
        "x_test = x_observed[test_index]"
      ]
    },
    {
      "cell_type": "code",
      "execution_count": null,
      "metadata": {
        "id": "7t1PNjIFYKzm"
      },
      "outputs": [],
      "source": [
        "import optuna\n",
        "\n",
        "# 各種設定\n",
        "optuna.logging.set_verbosity(optuna.logging.WARN)\n",
        "timeout = 50\n",
        "n_trials = 100\n",
        "show_progress_bar = True\n",
        "\n",
        "# 目的変数（最小化または最大化したい値）の設定\n",
        "objective = best_SVR(x_train, x_test, f(x_train), f(x_test))\n",
        "\n",
        "# 学習環境を立ち上げる\n",
        "study = optuna.create_study(direction=\"minimize\")\n",
        "\n",
        "# 学習する\n",
        "study.optimize(\n",
        "    objective,\n",
        "    timeout=timeout,\n",
        "    n_trials=n_trials,\n",
        "    show_progress_bar=show_progress_bar,\n",
        ")"
      ]
    },
    {
      "cell_type": "code",
      "execution_count": null,
      "metadata": {
        "id": "RAzZnM0Saw6s"
      },
      "outputs": [],
      "source": [
        "import matplotlib.pyplot as plt\n",
        "\n",
        "plt.title(\n",
        "    \"MAE={:.5f}\".format(\n",
        "        mean_absolute_error(\n",
        "            f(x_observed), objective.best_model.predict(x_observed.reshape(-1, 1))\n",
        "        )\n",
        "    )\n",
        ")\n",
        "plt.plot(x_latent, f(x_latent), label=\"true func\")\n",
        "plt.scatter(x_train, f(x_train), label=\"training data\")\n",
        "plt.scatter(x_test, f(x_test), label=\"test data\")\n",
        "plt.plot(\n",
        "    x_latent, objective.best_model.predict(x_latent.reshape(-1, 1)), label=\"best_model\"\n",
        ")\n",
        "plt.legend()\n",
        "plt.xlabel(\"X\")\n",
        "plt.ylabel(\"Y\")\n",
        "plt.show()\n",
        "objective.best_model"
      ]
    },
    {
      "cell_type": "markdown",
      "metadata": {
        "id": "I2Q320iMtKVe"
      },
      "source": [
        "# K近傍法を Optuna でチューニング"
      ]
    },
    {
      "cell_type": "code",
      "execution_count": null,
      "metadata": {
        "id": "780xhreXa0nT"
      },
      "outputs": [],
      "source": [
        "import copy\n",
        "\n",
        "\n",
        "class best_KN:\n",
        "    def __init__(self, x_train, x_valid, t_train, t_valid):\n",
        "        # 訓練データを格納\n",
        "        self.x_train = x_train\n",
        "        self.t_train = t_train\n",
        "\n",
        "        # 検証データを格納\n",
        "        self.x_valid = x_valid\n",
        "        self.t_valid = t_valid\n",
        "\n",
        "        # ベストモデルとスコアを格納\n",
        "        self.best_score = None\n",
        "        self.best_model = None\n",
        "\n",
        "    def __call__(self, trial):\n",
        "        # チューニングしたいパラメータの範囲を設定\n",
        "        model_params = {}\n",
        "        model_params[\"algorithm\"] = trial.suggest_categorical(\n",
        "            \"algorithm\", [\"ball_tree\", \"kd_tree\", \"brute\"]\n",
        "        )\n",
        "        model_params[\"n_neighbors\"] = trial.suggest_int(\"n_neighbors\", 1, 10)\n",
        "        model_params[\"weights\"] = trial.suggest_categorical(\n",
        "            \"weights\", [\"uniform\", \"distance\"]\n",
        "        )\n",
        "\n",
        "        # SVMモデルを作成し訓練データを学習\n",
        "        model = KNeighborsRegressor(**model_params)\n",
        "        model.fit(self.x_train.reshape(-1, 1), self.t_train)\n",
        "\n",
        "        # 検証データの予測性能を評価\n",
        "        score = mean_absolute_error(\n",
        "            model.predict(self.x_valid.reshape(-1, 1)), self.t_valid\n",
        "        )\n",
        "\n",
        "        # ベストスコアが出れば、そのベストモデルを記録\n",
        "        if self.best_model is None or self.best_score > score:\n",
        "            self.best_score = score\n",
        "            self.best_model = copy.deepcopy(model)\n",
        "\n",
        "        # スコアを返す\n",
        "        return score"
      ]
    },
    {
      "cell_type": "code",
      "execution_count": null,
      "metadata": {
        "id": "-W_JBypPdJgE"
      },
      "outputs": [],
      "source": [
        "import optuna\n",
        "\n",
        "# 各種設定\n",
        "optuna.logging.set_verbosity(optuna.logging.WARN)\n",
        "timeout = 50\n",
        "n_trials = 100\n",
        "show_progress_bar = True\n",
        "\n",
        "# 目的変数（最小化または最大化したい値）の設定\n",
        "objective = best_KN(x_observed, x_observed, f(x_observed), f(x_observed))\n",
        "\n",
        "# 学習環境を立ち上げる\n",
        "study = optuna.create_study(direction=\"minimize\")\n",
        "\n",
        "# 学習する\n",
        "study.optimize(\n",
        "    objective,\n",
        "    timeout=timeout,\n",
        "    n_trials=n_trials,\n",
        "    show_progress_bar=show_progress_bar,\n",
        ")"
      ]
    },
    {
      "cell_type": "code",
      "execution_count": null,
      "metadata": {
        "id": "HlfxhGdudQiJ"
      },
      "outputs": [],
      "source": [
        "import matplotlib.pyplot as plt\n",
        "\n",
        "plt.title(\n",
        "    \"MAE={:.5f}\".format(\n",
        "        mean_absolute_error(\n",
        "            f(x_observed), objective.best_model.predict(x_observed.reshape(-1, 1))\n",
        "        )\n",
        "    )\n",
        ")\n",
        "plt.plot(x_latent, f(x_latent), label=\"true func\")\n",
        "plt.scatter(x_train, f(x_train), label=\"training data\")\n",
        "plt.scatter(x_test, f(x_test), label=\"test data\")\n",
        "plt.plot(\n",
        "    x_latent, objective.best_model.predict(x_latent.reshape(-1, 1)), label=\"best_model\"\n",
        ")\n",
        "plt.legend()\n",
        "plt.xlabel(\"X\")\n",
        "plt.ylabel(\"Y\")\n",
        "plt.show()\n",
        "objective.best_model"
      ]
    },
    {
      "cell_type": "code",
      "execution_count": null,
      "metadata": {
        "id": "WHVWWXdVdX-8"
      },
      "outputs": [],
      "source": [
        "import optuna\n",
        "\n",
        "# 各種設定\n",
        "optuna.logging.set_verbosity(optuna.logging.WARN)\n",
        "timeout = 50\n",
        "n_trials = 100\n",
        "show_progress_bar = True\n",
        "\n",
        "# 目的変数（最小化または最大化したい値）の設定\n",
        "objective = best_KN(x_train, x_test, f(x_train), f(x_test))\n",
        "\n",
        "# 学習環境を立ち上げる\n",
        "study = optuna.create_study(direction=\"minimize\")\n",
        "\n",
        "# 学習する\n",
        "study.optimize(\n",
        "    objective,\n",
        "    timeout=timeout,\n",
        "    n_trials=n_trials,\n",
        "    show_progress_bar=show_progress_bar,\n",
        ")"
      ]
    },
    {
      "cell_type": "code",
      "execution_count": null,
      "metadata": {
        "id": "5i5Wx05HdkMY"
      },
      "outputs": [],
      "source": [
        "import matplotlib.pyplot as plt\n",
        "\n",
        "plt.title(\n",
        "    \"MAE={:.5f}\".format(\n",
        "        mean_absolute_error(\n",
        "            f(x_observed), objective.best_model.predict(x_observed.reshape(-1, 1))\n",
        "        )\n",
        "    )\n",
        ")\n",
        "plt.plot(x_latent, f(x_latent), label=\"true func\")\n",
        "plt.plot(\n",
        "    x_latent, objective.best_model.predict(x_latent.reshape(-1, 1)), label=\"best_model\"\n",
        ")\n",
        "plt.scatter(x_train, f(x_train), label=\"training data\")\n",
        "plt.scatter(x_test, f(x_test), label=\"test data\")\n",
        "plt.legend()\n",
        "plt.xlabel(\"X\")\n",
        "plt.ylabel(\"Y\")\n",
        "plt.show()\n",
        "objective.best_model"
      ]
    },
    {
      "cell_type": "markdown",
      "metadata": {
        "id": "JsfjrROqtTIE"
      },
      "source": [
        "# 決定木を Optuna でチューニング"
      ]
    },
    {
      "cell_type": "code",
      "execution_count": null,
      "metadata": {
        "id": "TVu3r64ddmb6"
      },
      "outputs": [],
      "source": [
        "import copy\n",
        "\n",
        "\n",
        "class best_DT:\n",
        "    def __init__(self, x_train, x_valid, t_train, t_valid):\n",
        "        # 訓練データを格納\n",
        "        self.x_train = x_train\n",
        "        self.t_train = t_train\n",
        "\n",
        "        # 検証データを格納\n",
        "        self.x_valid = x_valid\n",
        "        self.t_valid = t_valid\n",
        "\n",
        "        # ベストモデルとスコアを格納\n",
        "        self.best_score = None\n",
        "        self.best_model = None\n",
        "\n",
        "    def __call__(self, trial):\n",
        "        # チューニングしたいパラメータの範囲を設定\n",
        "        model_params = {}\n",
        "        model_params[\"max_depth\"] = trial.suggest_int(\"max_depth\", 1, 10)\n",
        "        model_params[\"min_samples_leaf\"] = trial.suggest_int(\"min_samples_leaf\", 1, 10)\n",
        "        model_params[\"criterion\"] = trial.suggest_categorical(\n",
        "            \"criterion\", [\"squared_error\", \"friedman_mse\", \"absolute_error\"]\n",
        "        )\n",
        "\n",
        "        # SVMモデルを作成し訓練データを学習\n",
        "        model = DecisionTreeRegressor(**model_params)\n",
        "        model.fit(self.x_train.reshape(-1, 1), self.t_train)\n",
        "\n",
        "        # 検証データの予測性能を評価\n",
        "        score = mean_absolute_error(\n",
        "            model.predict(self.x_valid.reshape(-1, 1)), self.t_valid\n",
        "        )\n",
        "\n",
        "        # ベストスコアが出れば、そのベストモデルを記録\n",
        "        if self.best_model is None or self.best_score > score:\n",
        "            self.best_score = score\n",
        "            self.best_model = copy.deepcopy(model)\n",
        "\n",
        "        # スコアを返す\n",
        "        return score"
      ]
    },
    {
      "cell_type": "code",
      "execution_count": null,
      "metadata": {
        "id": "KMqoOSW3gp8s"
      },
      "outputs": [],
      "source": [
        "import optuna\n",
        "\n",
        "# 各種設定\n",
        "optuna.logging.set_verbosity(optuna.logging.WARN)\n",
        "timeout = 50\n",
        "n_trials = 100\n",
        "show_progress_bar = True\n",
        "\n",
        "# 目的変数（最小化または最大化したい値）の設定\n",
        "objective = best_DT(x_observed, x_observed, f(x_observed), f(x_observed))\n",
        "\n",
        "# 学習環境を立ち上げる\n",
        "study = optuna.create_study(direction=\"minimize\")\n",
        "\n",
        "# 学習する\n",
        "study.optimize(\n",
        "    objective,\n",
        "    timeout=timeout,\n",
        "    n_trials=n_trials,\n",
        "    show_progress_bar=show_progress_bar,\n",
        ")"
      ]
    },
    {
      "cell_type": "code",
      "execution_count": null,
      "metadata": {
        "id": "ByYNb7zYjMQi"
      },
      "outputs": [],
      "source": [
        "import matplotlib.pyplot as plt\n",
        "\n",
        "plt.title(\n",
        "    \"MAE={:.5f}\".format(\n",
        "        mean_absolute_error(\n",
        "            f(x_observed), objective.best_model.predict(x_observed.reshape(-1, 1))\n",
        "        )\n",
        "    )\n",
        ")\n",
        "plt.plot(x_latent, f(x_latent), label=\"true func\")\n",
        "plt.scatter(x_train, f(x_train), label=\"training data\")\n",
        "plt.scatter(x_test, f(x_test), label=\"test data\")\n",
        "plt.plot(\n",
        "    x_latent, objective.best_model.predict(x_latent.reshape(-1, 1)), label=\"best_model\"\n",
        ")\n",
        "plt.legend()\n",
        "plt.xlabel(\"X\")\n",
        "plt.ylabel(\"Y\")\n",
        "plt.show()\n",
        "objective.best_model"
      ]
    },
    {
      "cell_type": "code",
      "execution_count": null,
      "metadata": {
        "id": "lWuWdz2WjQFl"
      },
      "outputs": [],
      "source": [
        "import optuna\n",
        "\n",
        "# 各種設定\n",
        "optuna.logging.set_verbosity(optuna.logging.WARN)\n",
        "timeout = 50\n",
        "n_trials = 100\n",
        "show_progress_bar = True\n",
        "\n",
        "# 目的変数（最小化または最大化したい値）の設定\n",
        "objective = best_DT(x_train, x_test, f(x_train), f(x_test))\n",
        "\n",
        "# 学習環境を立ち上げる\n",
        "study = optuna.create_study(direction=\"minimize\")\n",
        "\n",
        "# 学習する\n",
        "study.optimize(\n",
        "    objective,\n",
        "    timeout=timeout,\n",
        "    n_trials=n_trials,\n",
        "    show_progress_bar=show_progress_bar,\n",
        ")"
      ]
    },
    {
      "cell_type": "code",
      "execution_count": null,
      "metadata": {
        "id": "EyJBw5cQjeKP"
      },
      "outputs": [],
      "source": [
        "import matplotlib.pyplot as plt\n",
        "\n",
        "plt.title(\n",
        "    \"MAE={:.5f}\".format(\n",
        "        mean_absolute_error(\n",
        "            f(x_observed), objective.best_model.predict(x_observed.reshape(-1, 1))\n",
        "        )\n",
        "    )\n",
        ")\n",
        "plt.plot(x_latent, f(x_latent), label=\"true func\")\n",
        "plt.scatter(x_train, f(x_train), label=\"training data\")\n",
        "plt.scatter(x_test, f(x_test), label=\"test data\")\n",
        "plt.plot(\n",
        "    x_latent, objective.best_model.predict(x_latent.reshape(-1, 1)), label=\"best_model\"\n",
        ")\n",
        "plt.legend()\n",
        "plt.xlabel(\"X\")\n",
        "plt.ylabel(\"Y\")\n",
        "plt.show()\n",
        "objective.best_model"
      ]
    },
    {
      "cell_type": "markdown",
      "metadata": {
        "id": "MKs6dRZ9td_5"
      },
      "source": [
        "# ランダムフォレストを Optuna でチューニング"
      ]
    },
    {
      "cell_type": "code",
      "execution_count": null,
      "metadata": {
        "id": "42RxhAWFjgd9"
      },
      "outputs": [],
      "source": [
        "import copy\n",
        "\n",
        "\n",
        "class best_RF:\n",
        "    def __init__(self, x_train, x_valid, t_train, t_valid):\n",
        "        # 訓練データを格納\n",
        "        self.x_train = x_train\n",
        "        self.t_train = t_train\n",
        "\n",
        "        # 検証データを格納\n",
        "        self.x_valid = x_valid\n",
        "        self.t_valid = t_valid\n",
        "\n",
        "        # ベストモデルとスコアを格納\n",
        "        self.best_score = None\n",
        "        self.best_model = None\n",
        "\n",
        "    def __call__(self, trial):\n",
        "        # チューニングしたいパラメータの範囲を設定\n",
        "        model_params = {}\n",
        "        model_params[\"max_depth\"] = trial.suggest_int(\"max_depth\", 1, 10)\n",
        "        model_params[\"min_samples_leaf\"] = trial.suggest_int(\"min_samples_leaf\", 1, 10)\n",
        "        model_params[\"criterion\"] = trial.suggest_categorical(\n",
        "            \"criterion\", [\"squared_error\", \"friedman_mse\", \"absolute_error\"]\n",
        "        )\n",
        "\n",
        "        # SVMモデルを作成し訓練データを学習\n",
        "        model = RandomForestRegressor(**model_params)\n",
        "        model.fit(self.x_train.reshape(-1, 1), self.t_train)\n",
        "\n",
        "        # 検証データの予測性能を評価\n",
        "        score = mean_absolute_error(\n",
        "            model.predict(self.x_valid.reshape(-1, 1)), self.t_valid\n",
        "        )\n",
        "\n",
        "        # ベストスコアが出れば、そのベストモデルを記録\n",
        "        if self.best_model is None or self.best_score > score:\n",
        "            self.best_score = score\n",
        "            self.best_model = copy.deepcopy(model)\n",
        "\n",
        "        # スコアを返す\n",
        "        return score"
      ]
    },
    {
      "cell_type": "code",
      "execution_count": null,
      "metadata": {
        "id": "R3WegOWLj1oR"
      },
      "outputs": [],
      "source": [
        "import optuna\n",
        "\n",
        "# 各種設定\n",
        "optuna.logging.set_verbosity(optuna.logging.WARN)\n",
        "timeout = 50\n",
        "n_trials = 100\n",
        "show_progress_bar = True\n",
        "\n",
        "# 目的変数（最小化または最大化したい値）の設定\n",
        "objective = best_RF(x_observed, x_observed, f(x_observed), f(x_observed))\n",
        "\n",
        "# 学習環境を立ち上げる\n",
        "study = optuna.create_study(direction=\"minimize\")\n",
        "\n",
        "# 学習する\n",
        "study.optimize(\n",
        "    objective,\n",
        "    timeout=timeout,\n",
        "    n_trials=n_trials,\n",
        "    show_progress_bar=show_progress_bar,\n",
        ")"
      ]
    },
    {
      "cell_type": "code",
      "execution_count": null,
      "metadata": {
        "id": "1e3wm6v5j4r5"
      },
      "outputs": [],
      "source": [
        "import matplotlib.pyplot as plt\n",
        "\n",
        "plt.title(\n",
        "    \"MAE={:.5f}\".format(\n",
        "        mean_absolute_error(\n",
        "            f(x_observed), objective.best_model.predict(x_observed.reshape(-1, 1))\n",
        "        )\n",
        "    )\n",
        ")\n",
        "plt.plot(x_latent, f(x_latent), label=\"true func\")\n",
        "plt.scatter(x_train, f(x_train), label=\"training data\")\n",
        "plt.scatter(x_test, f(x_test), label=\"test data\")\n",
        "plt.plot(\n",
        "    x_latent, objective.best_model.predict(x_latent.reshape(-1, 1)), label=\"best_model\"\n",
        ")\n",
        "plt.legend()\n",
        "plt.xlabel(\"X\")\n",
        "plt.ylabel(\"Y\")\n",
        "plt.show()\n",
        "objective.best_model"
      ]
    },
    {
      "cell_type": "code",
      "execution_count": null,
      "metadata": {
        "id": "-JpGacrbj9qp"
      },
      "outputs": [],
      "source": [
        "import optuna\n",
        "\n",
        "# 各種設定\n",
        "optuna.logging.set_verbosity(optuna.logging.WARN)\n",
        "timeout = 50\n",
        "n_trials = 100\n",
        "show_progress_bar = True\n",
        "\n",
        "# 目的変数（最小化または最大化したい値）の設定\n",
        "objective = best_RF(x_train, x_test, f(x_train), f(x_test))\n",
        "\n",
        "# 学習環境を立ち上げる\n",
        "study = optuna.create_study(direction=\"minimize\")\n",
        "\n",
        "# 学習する\n",
        "study.optimize(\n",
        "    objective,\n",
        "    timeout=timeout,\n",
        "    n_trials=n_trials,\n",
        "    show_progress_bar=show_progress_bar,\n",
        ")"
      ]
    },
    {
      "cell_type": "code",
      "execution_count": null,
      "metadata": {
        "id": "AEgfIqx4kF4L"
      },
      "outputs": [],
      "source": [
        "import matplotlib.pyplot as plt\n",
        "\n",
        "plt.title(\n",
        "    \"MAE={:.5f}\".format(\n",
        "        mean_absolute_error(\n",
        "            f(x_observed), objective.best_model.predict(x_observed.reshape(-1, 1))\n",
        "        )\n",
        "    )\n",
        ")\n",
        "plt.plot(x_latent, f(x_latent), label=\"true func\")\n",
        "plt.scatter(x_train, f(x_train), label=\"training data\")\n",
        "plt.scatter(x_test, f(x_test), label=\"test data\")\n",
        "plt.plot(\n",
        "    x_latent, objective.best_model.predict(x_latent.reshape(-1, 1)), label=\"best_model\"\n",
        ")\n",
        "plt.legend()\n",
        "plt.xlabel(\"X\")\n",
        "plt.ylabel(\"Y\")\n",
        "plt.show()\n",
        "objective.best_model"
      ]
    },
    {
      "cell_type": "markdown",
      "metadata": {
        "id": "nqm42NIjtoVb"
      },
      "source": [
        "# エクストラツリーを Optuna でチューニング"
      ]
    },
    {
      "cell_type": "code",
      "execution_count": null,
      "metadata": {
        "id": "gD4McXVQkKay"
      },
      "outputs": [],
      "source": [
        "import copy\n",
        "\n",
        "\n",
        "class best_ET:\n",
        "    def __init__(self, x_train, x_valid, t_train, t_valid):\n",
        "        # 訓練データを格納\n",
        "        self.x_train = x_train\n",
        "        self.t_train = t_train\n",
        "\n",
        "        # 検証データを格納\n",
        "        self.x_valid = x_valid\n",
        "        self.t_valid = t_valid\n",
        "\n",
        "        # ベストモデルとスコアを格納\n",
        "        self.best_score = None\n",
        "        self.best_model = None\n",
        "\n",
        "    def __call__(self, trial):\n",
        "        # チューニングしたいパラメータの範囲を設定\n",
        "        model_params = {}\n",
        "        model_params[\"max_depth\"] = trial.suggest_int(\"max_depth\", 1, 10)\n",
        "        model_params[\"min_samples_leaf\"] = trial.suggest_int(\"min_samples_leaf\", 1, 10)\n",
        "        model_params[\"criterion\"] = trial.suggest_categorical(\n",
        "            \"criterion\", [\"squared_error\", \"friedman_mse\", \"absolute_error\"]\n",
        "        )\n",
        "\n",
        "        # SVMモデルを作成し訓練データを学習\n",
        "        model = ExtraTreesRegressor(**model_params)\n",
        "        model.fit(self.x_train.reshape(-1, 1), self.t_train)\n",
        "\n",
        "        # 検証データの予測性能を評価\n",
        "        score = mean_absolute_error(\n",
        "            model.predict(self.x_valid.reshape(-1, 1)), self.t_valid\n",
        "        )\n",
        "\n",
        "        # ベストスコアが出れば、そのベストモデルを記録\n",
        "        if self.best_model is None or self.best_score > score:\n",
        "            self.best_score = score\n",
        "            self.best_model = copy.deepcopy(model)\n",
        "\n",
        "        # スコアを返す\n",
        "        return score"
      ]
    },
    {
      "cell_type": "code",
      "execution_count": null,
      "metadata": {
        "id": "TXyk5VlnkazL"
      },
      "outputs": [],
      "source": [
        "import optuna\n",
        "\n",
        "# 各種設定\n",
        "optuna.logging.set_verbosity(optuna.logging.WARN)\n",
        "timeout = 50\n",
        "n_trials = 100\n",
        "show_progress_bar = True\n",
        "\n",
        "# 目的変数（最小化または最大化したい値）の設定\n",
        "objective = best_ET(x_observed, x_observed, f(x_observed), f(x_observed))\n",
        "\n",
        "# 学習環境を立ち上げる\n",
        "study = optuna.create_study(direction=\"minimize\")\n",
        "\n",
        "# 学習する\n",
        "study.optimize(\n",
        "    objective,\n",
        "    timeout=timeout,\n",
        "    n_trials=n_trials,\n",
        "    show_progress_bar=show_progress_bar,\n",
        ")"
      ]
    },
    {
      "cell_type": "code",
      "execution_count": null,
      "metadata": {
        "id": "m5563d8xkiSA"
      },
      "outputs": [],
      "source": [
        "import matplotlib.pyplot as plt\n",
        "\n",
        "plt.title(\n",
        "    \"MAE={:.5f}\".format(\n",
        "        mean_absolute_error(\n",
        "            f(x_observed), objective.best_model.predict(x_observed.reshape(-1, 1))\n",
        "        )\n",
        "    )\n",
        ")\n",
        "plt.plot(x_latent, f(x_latent), label=\"true func\")\n",
        "plt.scatter(x_train, f(x_train), label=\"training data\")\n",
        "plt.scatter(x_test, f(x_test), label=\"test data\")\n",
        "plt.plot(\n",
        "    x_latent, objective.best_model.predict(x_latent.reshape(-1, 1)), label=\"best_model\"\n",
        ")\n",
        "plt.legend()\n",
        "plt.xlabel(\"X\")\n",
        "plt.ylabel(\"Y\")\n",
        "plt.show()\n",
        "objective.best_model"
      ]
    },
    {
      "cell_type": "code",
      "execution_count": null,
      "metadata": {
        "id": "I6EDqcq7kwS-"
      },
      "outputs": [],
      "source": [
        "import optuna\n",
        "\n",
        "# 各種設定\n",
        "optuna.logging.set_verbosity(optuna.logging.WARN)\n",
        "timeout = 50\n",
        "n_trials = 100\n",
        "show_progress_bar = True\n",
        "\n",
        "# 目的変数（最小化または最大化したい値）の設定\n",
        "objective = best_ET(x_train, x_test, f(x_train), f(x_test))\n",
        "\n",
        "# 学習環境を立ち上げる\n",
        "study = optuna.create_study(direction=\"minimize\")\n",
        "\n",
        "# 学習する\n",
        "study.optimize(\n",
        "    objective,\n",
        "    timeout=timeout,\n",
        "    n_trials=n_trials,\n",
        "    show_progress_bar=show_progress_bar,\n",
        ")"
      ]
    },
    {
      "cell_type": "code",
      "execution_count": null,
      "metadata": {
        "id": "h33E1B3Qk2B8"
      },
      "outputs": [],
      "source": [
        "import matplotlib.pyplot as plt\n",
        "\n",
        "plt.title(\n",
        "    \"MAE={:.5f}\".format(\n",
        "        mean_absolute_error(\n",
        "            f(x_observed), objective.best_model.predict(x_observed.reshape(-1, 1))\n",
        "        )\n",
        "    )\n",
        ")\n",
        "plt.plot(x_latent, f(x_latent), label=\"true func\")\n",
        "plt.scatter(x_train, f(x_train), label=\"training data\")\n",
        "plt.scatter(x_test, f(x_test), label=\"test data\")\n",
        "plt.plot(\n",
        "    x_latent, objective.best_model.predict(x_latent.reshape(-1, 1)), label=\"best_model\"\n",
        ")\n",
        "plt.legend()\n",
        "plt.xlabel(\"X\")\n",
        "plt.ylabel(\"Y\")\n",
        "plt.show()\n",
        "objective.best_model"
      ]
    },
    {
      "cell_type": "markdown",
      "metadata": {
        "id": "mx7Acq7UtuTB"
      },
      "source": [
        "# 勾配ブースティングを Optuna でチューニング"
      ]
    },
    {
      "cell_type": "code",
      "execution_count": null,
      "metadata": {
        "id": "jFM_DUyNk7X-"
      },
      "outputs": [],
      "source": [
        "import copy\n",
        "\n",
        "\n",
        "class best_GB:\n",
        "    def __init__(self, x_train, x_valid, t_train, t_valid):\n",
        "        # 訓練データを格納\n",
        "        self.x_train = x_train\n",
        "        self.t_train = t_train\n",
        "\n",
        "        # 検証データを格納\n",
        "        self.x_valid = x_valid\n",
        "        self.t_valid = t_valid\n",
        "\n",
        "        # ベストモデルとスコアを格納\n",
        "        self.best_score = None\n",
        "        self.best_model = None\n",
        "\n",
        "    def __call__(self, trial):\n",
        "        # チューニングしたいパラメータの範囲を設定\n",
        "        model_params = {}\n",
        "        model_params[\"max_depth\"] = trial.suggest_int(\"max_depth\", 1, 10)\n",
        "        model_params[\"min_samples_leaf\"] = trial.suggest_int(\"min_samples_leaf\", 1, 10)\n",
        "        model_params[\"loss\"] = trial.suggest_categorical(\n",
        "            \"loss\", [\"squared_error\", \"absolute_error\"]\n",
        "        )\n",
        "\n",
        "        # SVMモデルを作成し訓練データを学習\n",
        "        model = HistGradientBoostingRegressor(**model_params)\n",
        "        model.fit(self.x_train.reshape(-1, 1), self.t_train)\n",
        "\n",
        "        # 検証データの予測性能を評価\n",
        "        score = mean_absolute_error(\n",
        "            model.predict(self.x_valid.reshape(-1, 1)), self.t_valid\n",
        "        )\n",
        "\n",
        "        # ベストスコアが出れば、そのベストモデルを記録\n",
        "        if self.best_model is None or self.best_score > score:\n",
        "            self.best_score = score\n",
        "            self.best_model = copy.deepcopy(model)\n",
        "\n",
        "        # スコアを返す\n",
        "        return score"
      ]
    },
    {
      "cell_type": "code",
      "execution_count": null,
      "metadata": {
        "id": "-PLrPtRzlHAZ"
      },
      "outputs": [],
      "source": [
        "import optuna\n",
        "\n",
        "# 各種設定\n",
        "optuna.logging.set_verbosity(optuna.logging.WARN)\n",
        "timeout = 50\n",
        "n_trials = 100\n",
        "show_progress_bar = True\n",
        "\n",
        "# 目的変数（最小化または最大化したい値）の設定\n",
        "objective = best_GB(x_observed, x_observed, f(x_observed), f(x_observed))\n",
        "\n",
        "# 学習環境を立ち上げる\n",
        "study = optuna.create_study(direction=\"minimize\")\n",
        "\n",
        "# 学習する\n",
        "study.optimize(\n",
        "    objective,\n",
        "    timeout=timeout,\n",
        "    n_trials=n_trials,\n",
        "    show_progress_bar=show_progress_bar,\n",
        ")"
      ]
    },
    {
      "cell_type": "code",
      "execution_count": null,
      "metadata": {
        "id": "6XK0oqAblSAW"
      },
      "outputs": [],
      "source": [
        "import matplotlib.pyplot as plt\n",
        "\n",
        "plt.title(\n",
        "    \"MAE={:.5f}\".format(\n",
        "        mean_absolute_error(\n",
        "            f(x_observed), objective.best_model.predict(x_observed.reshape(-1, 1))\n",
        "        )\n",
        "    )\n",
        ")\n",
        "plt.plot(x_latent, f(x_latent), label=\"true func\")\n",
        "plt.scatter(x_train, f(x_train), label=\"training data\")\n",
        "plt.scatter(x_test, f(x_test), label=\"test data\")\n",
        "plt.plot(\n",
        "    x_latent, objective.best_model.predict(x_latent.reshape(-1, 1)), label=\"best_model\"\n",
        ")\n",
        "plt.legend()\n",
        "plt.xlabel(\"X\")\n",
        "plt.ylabel(\"Y\")\n",
        "plt.show()\n",
        "objective.best_model"
      ]
    },
    {
      "cell_type": "code",
      "execution_count": null,
      "metadata": {
        "id": "9AJ1C_mmlYge"
      },
      "outputs": [],
      "source": [
        "import optuna\n",
        "\n",
        "# 各種設定\n",
        "optuna.logging.set_verbosity(optuna.logging.WARN)\n",
        "timeout = 50\n",
        "n_trials = 100\n",
        "show_progress_bar = True\n",
        "\n",
        "# 目的変数（最小化または最大化したい値）の設定\n",
        "objective = best_GB(x_train, x_test, f(x_train), f(x_test))\n",
        "\n",
        "# 学習環境を立ち上げる\n",
        "study = optuna.create_study(direction=\"minimize\")\n",
        "\n",
        "# 学習する\n",
        "study.optimize(\n",
        "    objective,\n",
        "    timeout=timeout,\n",
        "    n_trials=n_trials,\n",
        "    show_progress_bar=show_progress_bar,\n",
        ")"
      ]
    },
    {
      "cell_type": "code",
      "execution_count": null,
      "metadata": {
        "id": "AUvJrASnlcOq"
      },
      "outputs": [],
      "source": [
        "import matplotlib.pyplot as plt\n",
        "\n",
        "plt.title(\n",
        "    \"MAE={:.5f}\".format(\n",
        "        mean_absolute_error(\n",
        "            f(x_observed), objective.best_model.predict(x_observed.reshape(-1, 1))\n",
        "        )\n",
        "    )\n",
        ")\n",
        "plt.plot(x_latent, f(x_latent), label=\"true func\")\n",
        "plt.scatter(x_train, f(x_train), label=\"training data\")\n",
        "plt.scatter(x_test, f(x_test), label=\"test data\")\n",
        "plt.plot(\n",
        "    x_latent, objective.best_model.predict(x_latent.reshape(-1, 1)), label=\"best_model\"\n",
        ")\n",
        "plt.legend()\n",
        "plt.xlabel(\"X\")\n",
        "plt.ylabel(\"Y\")\n",
        "plt.show()\n",
        "objective.best_model"
      ]
    },
    {
      "cell_type": "markdown",
      "metadata": {
        "id": "ltilPpM_t3kr"
      },
      "source": [
        "# 多層パーセプトロンを Optuna でチューニング"
      ]
    },
    {
      "cell_type": "code",
      "execution_count": null,
      "metadata": {
        "id": "2jryHNZTlha1"
      },
      "outputs": [],
      "source": [
        "import copy\n",
        "\n",
        "\n",
        "class best_MLP:\n",
        "    def __init__(self, x_train, x_valid, t_train, t_valid):\n",
        "        # 訓練データを格納\n",
        "        self.x_train = x_train\n",
        "        self.t_train = t_train\n",
        "\n",
        "        # 検証データを格納\n",
        "        self.x_valid = x_valid\n",
        "        self.t_valid = t_valid\n",
        "\n",
        "        # ベストモデルとスコアを格納\n",
        "        self.best_score = None\n",
        "        self.best_model = None\n",
        "\n",
        "    def __call__(self, trial):\n",
        "        # チューニングしたいパラメータの範囲を設定\n",
        "        model_params = {}\n",
        "        n_layer = trial.suggest_int(\"n_layer\", 1, 10)\n",
        "        n_neuron = trial.suggest_int(\"n_neuron\", 1, 200)\n",
        "        model_params[\"hidden_layer_sizes\"] = [n_neuron] * n_layer\n",
        "        model_params[\"activation\"] = trial.suggest_categorical(\n",
        "            \"activation\", [\"logistic\", \"tanh\", \"relu\"]\n",
        "        )\n",
        "        model_params[\"learning_rate\"] = trial.suggest_categorical(\n",
        "            \"learning_rate\", [\"constant\", \"invscaling\", \"adaptive\"]\n",
        "        )\n",
        "        model_params[\"max_iter\"] = 530000\n",
        "\n",
        "        # SVMモデルを作成し訓練データを学習\n",
        "        model = MLPRegressor(**model_params)\n",
        "        model.fit(self.x_train.reshape(-1, 1), self.t_train)\n",
        "\n",
        "        # 検証データの予測性能を評価\n",
        "        score = mean_absolute_error(\n",
        "            model.predict(self.x_valid.reshape(-1, 1)), self.t_valid\n",
        "        )\n",
        "\n",
        "        # ベストスコアが出れば、そのベストモデルを記録\n",
        "        if self.best_model is None or self.best_score > score:\n",
        "            self.best_score = score\n",
        "            self.best_model = copy.deepcopy(model)\n",
        "\n",
        "        # スコアを返す\n",
        "        return score"
      ]
    },
    {
      "cell_type": "code",
      "execution_count": null,
      "metadata": {
        "id": "gmNVPI_JmyQF"
      },
      "outputs": [],
      "source": [
        "import optuna\n",
        "\n",
        "# 各種設定\n",
        "optuna.logging.set_verbosity(optuna.logging.WARN)\n",
        "timeout = 50\n",
        "n_trials = 100\n",
        "show_progress_bar = True\n",
        "\n",
        "# 目的変数（最小化または最大化したい値）の設定\n",
        "objective = best_MLP(x_observed, x_observed, f(x_observed), f(x_observed))\n",
        "\n",
        "# 学習環境を立ち上げる\n",
        "study = optuna.create_study(direction=\"minimize\")\n",
        "\n",
        "# 学習する\n",
        "study.optimize(\n",
        "    objective,\n",
        "    timeout=timeout,\n",
        "    n_trials=n_trials,\n",
        "    show_progress_bar=show_progress_bar,\n",
        ")"
      ]
    },
    {
      "cell_type": "code",
      "execution_count": null,
      "metadata": {
        "id": "DUQtTqM4m2sj"
      },
      "outputs": [],
      "source": [
        "import matplotlib.pyplot as plt\n",
        "\n",
        "plt.title(\n",
        "    \"MAE={:.5f}\".format(\n",
        "        mean_absolute_error(\n",
        "            f(x_observed), objective.best_model.predict(x_observed.reshape(-1, 1))\n",
        "        )\n",
        "    )\n",
        ")\n",
        "plt.plot(x_latent, f(x_latent), label=\"true func\")\n",
        "plt.scatter(x_train, f(x_train), label=\"training data\")\n",
        "plt.scatter(x_test, f(x_test), label=\"test data\")\n",
        "plt.plot(\n",
        "    x_latent, objective.best_model.predict(x_latent.reshape(-1, 1)), label=\"best_model\"\n",
        ")\n",
        "plt.legend()\n",
        "plt.xlabel(\"X\")\n",
        "plt.ylabel(\"Y\")\n",
        "plt.show()\n",
        "objective.best_model"
      ]
    },
    {
      "cell_type": "code",
      "execution_count": null,
      "metadata": {
        "id": "s-ah-cIsnDjs"
      },
      "outputs": [],
      "source": [
        "import optuna\n",
        "\n",
        "# 各種設定\n",
        "optuna.logging.set_verbosity(optuna.logging.WARN)\n",
        "timeout = 50\n",
        "n_trials = 100\n",
        "show_progress_bar = True\n",
        "\n",
        "# 目的変数（最小化または最大化したい値）の設定\n",
        "objective = best_MLP(x_train, x_test, f(x_train), f(x_test))\n",
        "\n",
        "# 学習環境を立ち上げる\n",
        "study = optuna.create_study(direction=\"minimize\")\n",
        "\n",
        "# 学習する\n",
        "study.optimize(\n",
        "    objective,\n",
        "    timeout=timeout,\n",
        "    n_trials=n_trials,\n",
        "    show_progress_bar=show_progress_bar,\n",
        ")"
      ]
    },
    {
      "cell_type": "code",
      "execution_count": null,
      "metadata": {
        "id": "jf9t6TjDnYiz"
      },
      "outputs": [],
      "source": [
        "import matplotlib.pyplot as plt\n",
        "\n",
        "plt.title(\n",
        "    \"MAE={:.5f}\".format(\n",
        "        mean_absolute_error(\n",
        "            f(x_observed), objective.best_model.predict(x_observed.reshape(-1, 1))\n",
        "        )\n",
        "    )\n",
        ")\n",
        "plt.plot(x_latent, f(x_latent), label=\"true func\")\n",
        "plt.scatter(x_train, f(x_train), label=\"training data\")\n",
        "plt.scatter(x_test, f(x_test), label=\"test data\")\n",
        "plt.plot(\n",
        "    x_latent, objective.best_model.predict(x_latent.reshape(-1, 1)), label=\"best_model\"\n",
        ")\n",
        "plt.legend()\n",
        "plt.xlabel(\"X\")\n",
        "plt.ylabel(\"Y\")\n",
        "plt.show()\n",
        "objective.best_model"
      ]
    },
    {
      "cell_type": "markdown",
      "metadata": {
        "id": "Wpfa7T9LuJLO"
      },
      "source": [
        "# 次回\n",
        "\n",
        "第2回 モデルの適用範囲 というテーマでお話しいたします。"
      ]
    }
  ],
  "metadata": {
    "colab": {
      "provenance": [],
      "include_colab_link": true
    },
    "kernelspec": {
      "display_name": "Python 3 (ipykernel)",
      "language": "python",
      "name": "python3"
    },
    "language_info": {
      "codemirror_mode": {
        "name": "ipython",
        "version": 3
      },
      "file_extension": ".py",
      "mimetype": "text/x-python",
      "name": "python",
      "nbconvert_exporter": "python",
      "pygments_lexer": "ipython3",
      "version": "3.9.12"
    }
  },
  "nbformat": 4,
  "nbformat_minor": 0
}