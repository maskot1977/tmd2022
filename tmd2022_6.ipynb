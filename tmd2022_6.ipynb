{
  "cells": [
    {
      "cell_type": "markdown",
      "metadata": {
        "id": "view-in-github",
        "colab_type": "text"
      },
      "source": [
        "<a href=\"https://colab.research.google.com/github/maskot1977/tmd2022/blob/UU7bJsBfSEyE/tmd2022_6.ipynb\" target=\"_parent\"><img src=\"https://colab.research.google.com/assets/colab-badge.svg\" alt=\"Open In Colab\"/></a>"
      ]
    },
    {
      "cell_type": "markdown",
      "metadata": {
        "id": "DI12Ihi9fzd3"
      },
      "source": [
        "「AI創薬・ケモインフォマティクス入門」講義資料　（講師：小寺正明）\n",
        "\n",
        "3月25日（土）19:40～21:10　第6回  「計算機実験2」\n",
        "\n",
        "# RDKit インストール"
      ]
    },
    {
      "cell_type": "code",
      "execution_count": null,
      "metadata": {
        "id": "LbKsoE_ykEW4"
      },
      "outputs": [],
      "source": [
        "!pip install rdkit-pypi"
      ]
    },
    {
      "cell_type": "markdown",
      "metadata": {
        "id": "f7H-VM39gAj0"
      },
      "source": [
        "# 化合物データ取得"
      ]
    },
    {
      "cell_type": "code",
      "execution_count": null,
      "metadata": {
        "id": "qW7Vb-U_gDU7"
      },
      "outputs": [],
      "source": [
        "import pandas as pd\n",
        "\n",
        "# csvからのデータ読み込み_\n",
        "url = \"https://raw.githubusercontent.com/maskot1977/toydata/main/data/data_18.csv\"\n",
        "database1 = pd.read_csv(url)\n",
        "database1"
      ]
    },
    {
      "cell_type": "markdown",
      "metadata": {
        "id": "9Ko2ZXTy09qO"
      },
      "source": [
        "# 回帰問題用目的変数とその分布"
      ]
    },
    {
      "cell_type": "code",
      "execution_count": null,
      "metadata": {
        "id": "kyk48sWf08sq"
      },
      "outputs": [],
      "source": [
        "import matplotlib.pyplot as plt\n",
        "\n",
        "plt.title(\"Melting point as continus value Y1\")\n",
        "Y1 = database1[\"Melting point\"]\n",
        "Y1.hist(bins=20)\n",
        "plt.show()"
      ]
    },
    {
      "cell_type": "markdown",
      "metadata": {
        "id": "a3Ht5RHEgOef"
      },
      "source": [
        "# 分類用目的変数とその分布（練習のため）"
      ]
    },
    {
      "cell_type": "code",
      "execution_count": null,
      "metadata": {
        "id": "ZcB7mfrStMMC"
      },
      "outputs": [],
      "source": [
        "import matplotlib.pyplot as plt\n",
        "import numpy as np\n",
        "\n",
        "Y2 = pd.DataFrame(\n",
        "    np.where(\n",
        "        database1[\"Melting point\"]\n",
        "        > database1[\"Melting point\"].describe().median() * 0.9,\n",
        "        1,\n",
        "        0,\n",
        "    ),\n",
        "    columns=[\"Melting point as discrete value Y2\"],\n",
        ")\n",
        "Y2.hist(bins=20)\n",
        "plt.show()"
      ]
    },
    {
      "cell_type": "markdown",
      "metadata": {
        "id": "l1PM5GGwkEW8"
      },
      "source": [
        "# バイアスのある分類用目的変数とその分布（練習のため）"
      ]
    },
    {
      "cell_type": "code",
      "execution_count": null,
      "metadata": {
        "id": "ypmo6pJggN8o"
      },
      "outputs": [],
      "source": [
        "import numpy as np\n",
        "\n",
        "Y3 = pd.DataFrame(\n",
        "    np.where(\n",
        "        database1[\"Melting point\"]\n",
        "        > database1[\"Melting point\"].describe().median() * 2.2,\n",
        "        1,\n",
        "        0,\n",
        "    ),\n",
        "    columns=[\"Melting point as biased discrete value Y3\"],\n",
        ")\n",
        "Y3.hist(bins=20)\n",
        "plt.show()"
      ]
    },
    {
      "cell_type": "markdown",
      "metadata": {
        "id": "5qreJv2rYJKg"
      },
      "source": [
        "# RDKit supporter\n",
        "\n",
        "RDKit supporter は、RDKit や ML 周りで便利な関数やクラスを私が書き溜めたものです。インストールしてみましょう。"
      ]
    },
    {
      "cell_type": "code",
      "execution_count": null,
      "metadata": {
        "id": "fmpj76TGboXi"
      },
      "outputs": [],
      "source": [
        "!pip install git+https://github.com/maskot1977/rdkit_supporter.git"
      ]
    },
    {
      "cell_type": "markdown",
      "metadata": {
        "id": "1Sz0nlqCkoxy"
      },
      "source": [
        "# RDKit 記述子"
      ]
    },
    {
      "cell_type": "code",
      "execution_count": null,
      "metadata": {
        "id": "eynPQyDecJ4j"
      },
      "outputs": [],
      "source": [
        "%%time\n",
        "import rdkit\n",
        "from rdkit_supporter.descriptors import calc_descriptors\n",
        "\n",
        "rdkit_df = calc_descriptors(database1[\"Open Babel SMILES\"])\n",
        "display(rdkit_df)"
      ]
    },
    {
      "cell_type": "markdown",
      "metadata": {
        "id": "soO9nM_z3ybI"
      },
      "source": [
        "# 説明変数\n",
        "\n",
        "今回は、説明変数 X として RDKit descriptors を用います。"
      ]
    },
    {
      "cell_type": "code",
      "execution_count": null,
      "metadata": {
        "id": "eddngk41m_JO"
      },
      "outputs": [],
      "source": [
        "X = rdkit_df"
      ]
    },
    {
      "cell_type": "markdown",
      "metadata": {
        "id": "or6KmwfmkEW-"
      },
      "source": [
        "# 欠損値の補間の例"
      ]
    },
    {
      "cell_type": "code",
      "execution_count": null,
      "metadata": {
        "id": "E4fqDYrVBYVG"
      },
      "outputs": [],
      "source": [
        "from sklearn.impute import KNNImputer\n",
        "\n",
        "imputer = KNNImputer()\n",
        "X = pd.DataFrame(imputer.fit_transform(X), columns=X.columns)"
      ]
    },
    {
      "cell_type": "markdown",
      "metadata": {
        "id": "-CFLhzU7kEW-"
      },
      "source": [
        "# データ分割"
      ]
    },
    {
      "cell_type": "code",
      "execution_count": null,
      "metadata": {
        "id": "lF7ARVzskEW-"
      },
      "outputs": [],
      "source": [
        "from sklearn.model_selection import train_test_split\n",
        "\n",
        "# 訓練データ（広義）とテストデータに分割する\n",
        "(\n",
        "    X_train,\n",
        "    X_test,\n",
        "    Y1_train,\n",
        "    Y1_test,\n",
        "    Y2_train,\n",
        "    Y2_test,\n",
        "    Y3_train,\n",
        "    Y3_test,\n",
        ") = train_test_split(X, Y1, Y2, Y3, test_size=0.5, random_state=53, stratify=Y3)\n",
        "\n",
        "# 訓練データ（狭義）と検証データに分割する\n",
        "(X_tra, X_val, Y1_tra, Y1_val, Y2_tra, Y2_val, Y3_tra, Y3_val) = train_test_split(\n",
        "    X_train,\n",
        "    Y1_train,\n",
        "    Y2_train,\n",
        "    Y3_train,\n",
        "    test_size=0.5,\n",
        "    random_state=53,\n",
        "    stratify=Y3_train,\n",
        ")"
      ]
    },
    {
      "cell_type": "markdown",
      "metadata": {
        "id": "fOwRiEfBkEW_"
      },
      "source": [
        "# 結果表示用関数"
      ]
    },
    {
      "cell_type": "code",
      "execution_count": null,
      "metadata": {
        "id": "KEULqD3mkEW_"
      },
      "outputs": [],
      "source": [
        "import matplotlib.pyplot as plt\n",
        "\n",
        "\n",
        "# 学習曲線の図示\n",
        "def learning_curve(\n",
        "    train_loss_history, valid_loss_history, train_score_history, valid_score_history\n",
        "):\n",
        "    fig, axes = plt.subplots(nrows=1, ncols=2, figsize=(12, 4))\n",
        "    axes[0].plot(train_loss_history, label=\"Train Loss\")\n",
        "    axes[0].plot(valid_loss_history, label=\"Valid Loss\")\n",
        "    axes[0].set_yscale(\"log\")\n",
        "    axes[0].set_xlabel(\"Epoch\")\n",
        "    axes[0].set_ylabel(\"Loss\")\n",
        "    axes[0].grid()\n",
        "    axes[0].legend()\n",
        "    axes[1].plot(train_score_history, label=\"Train Score\")\n",
        "    axes[1].plot(valid_score_history, label=\"Valid Score\")\n",
        "    axes[1].set_xlabel(\"Epoch\")\n",
        "    axes[1].set_ylabel(\"Score\")\n",
        "    axes[1].set_ylim([0, 1])\n",
        "    axes[1].set_yticks(np.linspace(0, 1, 11))\n",
        "    axes[1].grid()\n",
        "    axes[1].legend()\n",
        "    plt.show()"
      ]
    },
    {
      "cell_type": "code",
      "execution_count": null,
      "metadata": {
        "id": "Fafs-zeRkEW_"
      },
      "outputs": [],
      "source": [
        "import matplotlib.pyplot as plt\n",
        "\n",
        "\n",
        "# 回帰問題用性能評価指標の図示\n",
        "def regression_metrics(Y, Y_pred):\n",
        "    scores = []\n",
        "    scores.append([\"MedAE\", metrics.median_absolute_error(Y, Y_pred)])\n",
        "    scores.append([\"MAE\", metrics.mean_absolute_error(Y, Y_pred)])\n",
        "    scores.append([\"RMSE\", metrics.mean_squared_error(Y, Y_pred, squared=False)])\n",
        "    r = np.corrcoef(Y, Y_pred)[0][1]\n",
        "    r2 = metrics.r2_score(Y, Y_pred)\n",
        "    y_max = max(Y.max(), Y_pred.max())\n",
        "    y_min = min(Y.min(), Y_pred.min())\n",
        "    y_height = abs(y_max - y_min) / 2\n",
        "    fig, axes = plt.subplots(nrows=1, ncols=3, figsize=(12, 3))\n",
        "    axes[0].barh([x[0] for x in scores], [x[1] for x in scores])\n",
        "    axes[0].set_xlabel(\"Score\")\n",
        "    axes[0].grid()\n",
        "    axes[1].set_title(\"R={}\".format(r))\n",
        "    axes[1].scatter(Y, Y_pred, alpha=0.5, c=Y)\n",
        "    axes[1].plot([y_min, y_max], [y_min, y_max], c=\"r\")\n",
        "    axes[1].set_xlabel(\"Y_true\")\n",
        "    axes[1].set_ylabel(\"Y_pred\")\n",
        "    axes[1].grid()\n",
        "    axes[1].set_aspect(\"equal\")\n",
        "    axes[2].set_title(\"R2={}\".format(r2))\n",
        "    axes[2].scatter(Y, Y_pred - Y, alpha=0.5, c=Y)\n",
        "    axes[2].plot([y_min, y_max], [0, 0], c=\"r\")\n",
        "    axes[2].set_xlabel(\"Y_true\")\n",
        "    axes[2].set_ylabel(\"Y_err\")\n",
        "    axes[2].set_ylim([-y_height, y_height])\n",
        "    axes[2].grid()\n",
        "    plt.show()"
      ]
    },
    {
      "cell_type": "code",
      "execution_count": null,
      "metadata": {
        "id": "kAVVX5SmkEXA"
      },
      "outputs": [],
      "source": [
        "import matplotlib.pyplot as plt\n",
        "\n",
        "\n",
        "# 分類問題用性能評価指標の図示\n",
        "def classification_metrics(Y, Y_pred):\n",
        "    scores = []\n",
        "    precision = metrics.precision_score(Y, Y_pred)\n",
        "    recall = metrics.recall_score(Y, Y_pred)\n",
        "    scores.append([\"MCC\", metrics.matthews_corrcoef(Y, Y_pred)])\n",
        "    scores.append([\"Cohen's Kappa\", metrics.cohen_kappa_score(Y, Y_pred)])\n",
        "    scores.append([\"F1\", metrics.f1_score(Y, Y_pred)])\n",
        "    scores.append([\"Average Precision\", metrics.average_precision_score(Y, Y_pred)])\n",
        "    scores.append([\"Precision\", precision])\n",
        "    scores.append([\"Recall\", recall])\n",
        "    scores.append([\"AUC\", metrics.balanced_accuracy_score(Y, Y_pred)])\n",
        "    # scores.append([\"TopK ACC\", metrics.top_k_accuracy_score(Y, Y_pred)])\n",
        "    scores.append([\"Balanced ACC\", metrics.balanced_accuracy_score(Y, Y_pred)])\n",
        "    scores.append([\"ACC\", metrics.accuracy_score(Y, Y_pred)])\n",
        "\n",
        "    fig, axes = plt.subplots(nrows=1, ncols=2, figsize=(10, 4))\n",
        "    axes[0].barh([x[0] for x in scores], [x[1] for x in scores])\n",
        "    axes[0].set_xlim([0, 1])\n",
        "    axes[0].set_xlabel(\"Score\")\n",
        "    axes[0].grid()\n",
        "\n",
        "    tn, fp, fn, tp = metrics.confusion_matrix(Y, Y_pred).ravel()\n",
        "    axes[1].set_title(\"tn, fp, fn, tp = {} {} {} {}\".format(tn, fp, fn, tp))\n",
        "    axes[1].bar([\"Positive\", \"Negative\"], [tp, tn])\n",
        "    axes[1].bar([\"Positive\", \"Negative\"], [-fn, -fp])\n",
        "    axes[1].grid()\n",
        "    plt.show()"
      ]
    },
    {
      "cell_type": "markdown",
      "metadata": {
        "id": "k_oBrmKfkEXA"
      },
      "source": [
        "# PyTorchで回帰問題を解く （1層モデル）"
      ]
    },
    {
      "cell_type": "code",
      "execution_count": null,
      "metadata": {
        "id": "DEzXkghAkEXB"
      },
      "outputs": [],
      "source": [
        "import torch\n",
        "\n",
        "# 　もし GPU が使用可能なら GPU を使う。もしなければ CPU を使う\n",
        "device = torch.device(\"cuda\" if torch.cuda.is_available() else \"cpu\")\n",
        "device"
      ]
    },
    {
      "cell_type": "code",
      "execution_count": null,
      "metadata": {
        "id": "_Y5jB83XkEXB"
      },
      "outputs": [],
      "source": [
        "import torch\n",
        "\n",
        "\n",
        "# 1層モデル（回帰問題なら線形重回帰、分類問題ならロジスティック回帰に相当）\n",
        "class SLP(torch.nn.Module):\n",
        "    def __init__(self, n_input, n_output):\n",
        "        super(SLP, self).__init__()\n",
        "        self.l1 = torch.nn.Linear(n_input, n_output)  # 全結合層\n",
        "\n",
        "    def forward(self, x):\n",
        "        x = self.l1(x)\n",
        "        return x"
      ]
    },
    {
      "cell_type": "code",
      "execution_count": null,
      "metadata": {
        "id": "Rma5D8sukEXB"
      },
      "outputs": [],
      "source": [
        "# 回帰問題用データセット Y1\n",
        "\n",
        "# 訓練データ（狭義）を説明変数と目的変数の組にする\n",
        "training_data1 = torch.utils.data.TensorDataset(\n",
        "    torch.tensor(X_tra.values).float(),\n",
        "    torch.tensor(Y1_tra.values.reshape((-1, 1))).float(),\n",
        ")\n",
        "\n",
        "# 検証データを説明変数と目的変数の組にする\n",
        "validation_data1 = torch.utils.data.TensorDataset(\n",
        "    torch.tensor(X_val.values).float(),\n",
        "    torch.tensor(Y1_val.values.reshape((-1, 1))).float(),\n",
        ")\n",
        "\n",
        "# テストデータを説明変数と目的変数の組にする\n",
        "test_data1 = torch.utils.data.TensorDataset(\n",
        "    torch.tensor(X_test.values).float(),\n",
        "    torch.tensor(Y1_test.values.reshape((-1, 1))).float(),\n",
        ")"
      ]
    },
    {
      "cell_type": "code",
      "execution_count": null,
      "metadata": {
        "id": "WgLV9RxKkEXB"
      },
      "outputs": [],
      "source": [
        "# 各種パラメーター\n",
        "\n",
        "batch_size = 20\n",
        "lr = 0.01\n",
        "n_hidden = 100  # 1層モデルでは使わない\n",
        "n_epoch = 100\n",
        "\n",
        "# 学習モデル\n",
        "model = SLP(len(training_data1[0][0]), 1).to(device)"
      ]
    },
    {
      "cell_type": "code",
      "execution_count": null,
      "metadata": {
        "id": "e0IZWyaRkEXC"
      },
      "outputs": [],
      "source": [
        "# データをバッチごとに取り出すデータローダーにセットする\n",
        "train_loader = torch.utils.data.DataLoader(\n",
        "    training_data1, batch_size=batch_size, shuffle=True\n",
        ")\n",
        "valid_loader = torch.utils.data.DataLoader(\n",
        "    validation_data1, batch_size=batch_size, shuffle=True\n",
        ")\n",
        "test_loader = torch.utils.data.DataLoader(\n",
        "    test_data1, batch_size=batch_size, shuffle=True\n",
        ")"
      ]
    },
    {
      "cell_type": "code",
      "execution_count": null,
      "metadata": {
        "id": "Mc4hZAVbkEXC"
      },
      "outputs": [],
      "source": [
        "from sklearn import metrics\n",
        "\n",
        "measure = metrics.r2_score  # 回帰問題の評価関数\n",
        "\n",
        "# 各種履歴\n",
        "train_loss_history = []\n",
        "valid_loss_history = []\n",
        "train_score_history = []\n",
        "valid_score_history = []\n",
        "\n",
        "optimizer = torch.optim.Adam(model.parameters(), lr=lr)  # 最適化手法（オプティマイザ）\n",
        "criterion = torch.nn.MSELoss()  # 誤差関数\n",
        "\n",
        "# n_epoch回繰り返す\n",
        "for epoch in range(n_epoch):\n",
        "\n",
        "    # トレーニング（訓練）\n",
        "    model.train()\n",
        "    train_loss = 0\n",
        "    Y_pred = np.array([])\n",
        "    Y_true = np.array([])\n",
        "    for x, y in train_loader:  # バッチを取り出す\n",
        "        x = torch.autograd.Variable(x).to(device)  # 自動微分可能な変数に変換\n",
        "        y = torch.autograd.Variable(y).to(device)  # 自動微分可能な変数に変換\n",
        "        optimizer.zero_grad()  # オプティマイザの勾配を初期化\n",
        "        y_pred = model(x).to(device)  # 予測\n",
        "        loss = criterion(y_pred, y)  # 誤差を計算\n",
        "        loss.backward()  # 誤差逆伝搬\n",
        "        optimizer.step()  # オプティマイザを更新\n",
        "        train_loss += loss.item() / x.shape[0]  # そのバッチの誤差を蓄積\n",
        "        Y_true = np.concatenate([Y_true, y.detach().cpu().numpy().flatten()])  # 実測値を記録\n",
        "        Y_pred = np.concatenate(\n",
        "            [Y_pred, y_pred.detach().cpu().numpy().flatten()]\n",
        "        )  # 予測値を記録\n",
        "\n",
        "    train_loss_history.append(train_loss)  # トレーニング誤差の履歴を記録\n",
        "\n",
        "    train_score = measure(Y_pred, Y_true)  # トレーニングデータに対する評価関数のスコア\n",
        "    train_score_history.append(train_score)  # 履歴を記録\n",
        "\n",
        "    # バリデーション（検証）\n",
        "    model.eval()\n",
        "    valid_loss = 0\n",
        "    Y_pred = np.array([])\n",
        "    Y_true = np.array([])\n",
        "    for x, y in valid_loader:\n",
        "        x = torch.autograd.Variable(x, requires_grad=False).to(\n",
        "            device\n",
        "        )  # 自動微分は必要ないが同じ形式の変数を用意する\n",
        "        y = torch.autograd.Variable(y, requires_grad=False).to(\n",
        "            device\n",
        "        )  # 自動微分は必要ないが同じ形式の変数を用意する\n",
        "        y_pred = model(x)  # 予測\n",
        "        loss = criterion(y_pred, y)  # 誤差を計算\n",
        "        valid_loss += loss.item() / x.shape[0]  # そのバッチの誤差を蓄積\n",
        "        Y_true = np.concatenate([Y_true, y.detach().cpu().numpy().flatten()])  # 実測値を記録\n",
        "        Y_pred = np.concatenate(\n",
        "            [Y_pred, y_pred.detach().cpu().numpy().flatten()]\n",
        "        )  # 予測値を記録\n",
        "\n",
        "    valid_loss_history.append(valid_loss)  # バリデーション誤差の履歴を記録\n",
        "\n",
        "    valid_score = measure(Y_pred, Y_true)  # バリデーションデータに対する評価関数のスコア\n",
        "    valid_score_history.append(valid_score)  # 履歴を記録\n",
        "\n",
        "    if (epoch + 1) % (n_epoch / 10) == 0:\n",
        "        print(  # 途中経過を表示\n",
        "            \"Epoch={}\\tLoss(train)={:.4f}\\tLoss(valid)={:.4f}\\tScore(train)={:.4f}\\tScore(valid)={:.4f} \".format(\n",
        "                epoch + 1, train_loss, valid_loss, train_score, valid_score\n",
        "            )\n",
        "        )\n",
        "\n",
        "    if min(valid_score_history) == valid_score:\n",
        "        best_model = model  # ベストモデルを保存"
      ]
    },
    {
      "cell_type": "code",
      "execution_count": null,
      "metadata": {
        "id": "p6oeAbepkEXD"
      },
      "outputs": [],
      "source": [
        "# 学習曲線の描画\n",
        "learning_curve(\n",
        "    train_loss_history, valid_loss_history, train_score_history, valid_score_history\n",
        ")"
      ]
    },
    {
      "cell_type": "code",
      "execution_count": null,
      "metadata": {
        "id": "8EovJHxukEXD"
      },
      "outputs": [],
      "source": [
        "from sklearn import metrics\n",
        "\n",
        "# テストデータによる性能評価\n",
        "test_loss = 0\n",
        "Y_pred = np.array([])\n",
        "Y_true = np.array([])\n",
        "for x, y in test_loader:\n",
        "    x = torch.autograd.Variable(x, requires_grad=False).to(device)\n",
        "    y = torch.autograd.Variable(y, requires_grad=False).to(device)\n",
        "    y_pred = best_model(x)\n",
        "    loss = criterion(y_pred, y)\n",
        "    test_loss += loss.item() / x.shape[0]\n",
        "\n",
        "    Y_pred = np.concatenate([Y_pred, y_pred.detach().cpu().numpy().flatten()])\n",
        "    Y_true = np.concatenate([Y_true, y.detach().cpu().numpy().flatten()])\n",
        "\n",
        "print(\n",
        "    \"Loss(test)={}\\tScore(test)={}\".format(test_loss, metrics.r2_score(Y_true, Y_pred))\n",
        ")"
      ]
    },
    {
      "cell_type": "code",
      "execution_count": null,
      "metadata": {
        "id": "uJMtJNXckEXD"
      },
      "outputs": [],
      "source": [
        "regression_metrics(Y_true, Y_pred)"
      ]
    },
    {
      "cell_type": "code",
      "execution_count": null,
      "metadata": {
        "id": "Q8rBJ5pFkEXD"
      },
      "outputs": [],
      "source": [
        "# 学習済みモデルのパラメーター\n",
        "best_model.l1.weight, best_model.l1.bias"
      ]
    },
    {
      "cell_type": "markdown",
      "metadata": {
        "id": "XdP9ftwWkEXE"
      },
      "source": [
        "# PyTorchで回帰問題を解く （多層モデル）"
      ]
    },
    {
      "cell_type": "code",
      "execution_count": null,
      "metadata": {
        "id": "fc79KbUukEXE"
      },
      "outputs": [],
      "source": [
        "import torch\n",
        "\n",
        "\n",
        "# シンプルな多層パーセプトロン（3層）\n",
        "class MLP(torch.nn.Module):\n",
        "    def __init__(self, n_input, n_hidden, n_output):\n",
        "        super(MLP, self).__init__()\n",
        "        self.l1 = torch.nn.Linear(n_input, n_hidden)\n",
        "        self.l2 = torch.nn.Linear(n_hidden, n_hidden)\n",
        "        self.l3 = torch.nn.Linear(n_hidden, n_output)\n",
        "\n",
        "    def forward(self, x):\n",
        "        x = torch.relu(self.l1(x))\n",
        "        x = torch.relu(self.l2(x))\n",
        "        x = self.l3(x)\n",
        "        return x"
      ]
    },
    {
      "cell_type": "code",
      "execution_count": null,
      "metadata": {
        "id": "V93fuY3_kEXE"
      },
      "outputs": [],
      "source": [
        "# 各種パラメーター\n",
        "\n",
        "batch_size = 20\n",
        "lr = 0.01\n",
        "n_hidden = 100\n",
        "n_epoch = 100\n",
        "\n",
        "# 学習モデル\n",
        "model = MLP(len(training_data1[0][0]), n_hidden, 1).to(device)"
      ]
    },
    {
      "cell_type": "code",
      "execution_count": null,
      "metadata": {
        "id": "ykfY9YxYkEXE"
      },
      "outputs": [],
      "source": [
        "from sklearn import metrics\n",
        "\n",
        "measure = metrics.r2_score  # 回帰問題の評価関数\n",
        "\n",
        "# 各種履歴\n",
        "train_loss_history = []\n",
        "valid_loss_history = []\n",
        "train_score_history = []\n",
        "valid_score_history = []\n",
        "\n",
        "optimizer = torch.optim.Adam(model.parameters(), lr=lr)  # 最適化手法（オプティマイザ）\n",
        "criterion = torch.nn.MSELoss()  # 誤差関数\n",
        "\n",
        "# n_epoch回繰り返す\n",
        "for epoch in range(n_epoch):\n",
        "\n",
        "    # トレーニング（訓練）\n",
        "    model.train()\n",
        "    train_loss = 0\n",
        "    Y_pred = np.array([])\n",
        "    Y_true = np.array([])\n",
        "    for x, y in train_loader:  # バッチを取り出す\n",
        "        x = torch.autograd.Variable(x).to(device)  # 自動微分可能な変数に変換\n",
        "        y = torch.autograd.Variable(y).to(device)  # 自動微分可能な変数に変換\n",
        "        optimizer.zero_grad()  # オプティマイザの勾配を初期化\n",
        "        y_pred = model(x).to(device)  # 予測\n",
        "        loss = criterion(y_pred, y)  # 誤差を計算\n",
        "        loss.backward()  # 誤差逆伝搬\n",
        "        optimizer.step()  # オプティマイザを更新\n",
        "        train_loss += loss.item() / x.shape[0]  # そのバッチの誤差を蓄積\n",
        "        Y_true = np.concatenate([Y_true, y.detach().cpu().numpy().flatten()])  # 実測値を記録\n",
        "        Y_pred = np.concatenate(\n",
        "            [Y_pred, y_pred.detach().cpu().numpy().flatten()]\n",
        "        )  # 予測値を記録\n",
        "\n",
        "    train_loss_history.append(train_loss)  # トレーニング誤差の履歴を記録\n",
        "\n",
        "    train_score = measure(Y_pred, Y_true)  # トレーニングデータに対する評価関数のスコア\n",
        "    train_score_history.append(train_score)  # 履歴を記録\n",
        "\n",
        "    # バリデーション（検証）\n",
        "    model.eval()\n",
        "    valid_loss = 0\n",
        "    Y_pred = np.array([])\n",
        "    Y_true = np.array([])\n",
        "    for x, y in valid_loader:\n",
        "        x = torch.autograd.Variable(x, requires_grad=False).to(\n",
        "            device\n",
        "        )  # 自動微分は必要ないが同じ形式の変数を用意する\n",
        "        y = torch.autograd.Variable(y, requires_grad=False).to(\n",
        "            device\n",
        "        )  # 自動微分は必要ないが同じ形式の変数を用意する\n",
        "        y_pred = model(x)  # 予測\n",
        "        loss = criterion(y_pred, y)  # 誤差を計算\n",
        "        valid_loss += loss.item() / x.shape[0]  # そのバッチの誤差を蓄積\n",
        "        Y_true = np.concatenate([Y_true, y.detach().cpu().numpy().flatten()])  # 実測値を記録\n",
        "        Y_pred = np.concatenate(\n",
        "            [Y_pred, y_pred.detach().cpu().numpy().flatten()]\n",
        "        )  # 予測値を記録\n",
        "\n",
        "    valid_loss_history.append(valid_loss)  # バリデーション誤差の履歴を記録\n",
        "\n",
        "    valid_score = measure(Y_pred, Y_true)  # バリデーションデータに対する評価関数のスコア\n",
        "    valid_score_history.append(valid_score)  # 履歴を記録\n",
        "\n",
        "    if (epoch + 1) % (n_epoch / 10) == 0:\n",
        "        print(  # 途中経過を表示\n",
        "            \"Epoch={}\\tLoss(train)={:.4f}\\tLoss(valid)={:.4f}\\tScore(train)={:.4f}\\tScore(valid)={:.4f} \".format(\n",
        "                epoch + 1, train_loss, valid_loss, train_score, valid_score\n",
        "            )\n",
        "        )\n",
        "\n",
        "    if min(valid_score_history) == valid_score:\n",
        "        best_model = model  # ベストモデルを保存"
      ]
    },
    {
      "cell_type": "code",
      "execution_count": null,
      "metadata": {
        "id": "fpqhXKCjkEXF"
      },
      "outputs": [],
      "source": [
        "# 学習曲線の描画\n",
        "learning_curve(\n",
        "    train_loss_history, valid_loss_history, train_score_history, valid_score_history\n",
        ")"
      ]
    },
    {
      "cell_type": "code",
      "execution_count": null,
      "metadata": {
        "id": "kOXWy2CYkEXF"
      },
      "outputs": [],
      "source": [
        "from sklearn import metrics\n",
        "\n",
        "# テストデータによる性能評価\n",
        "test_loss = 0\n",
        "Y_pred = np.array([])\n",
        "Y_true = np.array([])\n",
        "for x, y in test_loader:\n",
        "    x = torch.autograd.Variable(x, requires_grad=False).to(device)\n",
        "    y = torch.autograd.Variable(y, requires_grad=False).to(device)\n",
        "    y_pred = best_model(x)\n",
        "    loss = criterion(y_pred, y)\n",
        "    test_loss += loss.item() / x.shape[0]\n",
        "\n",
        "    Y_pred = np.concatenate([Y_pred, y_pred.detach().cpu().numpy().flatten()])\n",
        "    Y_true = np.concatenate([Y_true, y.detach().cpu().numpy().flatten()])\n",
        "\n",
        "print(\n",
        "    \"Loss(test)={}\\tScore(test)={}\".format(test_loss, metrics.r2_score(Y_true, Y_pred))\n",
        ")"
      ]
    },
    {
      "cell_type": "code",
      "execution_count": null,
      "metadata": {
        "id": "1-pJozh7kEXF"
      },
      "outputs": [],
      "source": [
        "regression_metrics(Y_true, Y_pred)"
      ]
    },
    {
      "cell_type": "markdown",
      "metadata": {
        "id": "j78ti4J2kEXG"
      },
      "source": [
        "# PyTorchで分類問題を解く （1層モデル）"
      ]
    },
    {
      "cell_type": "code",
      "execution_count": null,
      "metadata": {
        "id": "TRgRrVixkEXG"
      },
      "outputs": [],
      "source": [
        "import torch\n",
        "\n",
        "training_data2 = torch.utils.data.TensorDataset(\n",
        "    torch.tensor(X_tra.values).float(),\n",
        "    torch.tensor(Y2_tra.values.reshape((-1, 1))).float(),\n",
        ")\n",
        "\n",
        "validation_data2 = torch.utils.data.TensorDataset(\n",
        "    torch.tensor(X_val.values).float(),\n",
        "    torch.tensor(Y2_val.values.reshape((-1, 1))).float(),\n",
        ")\n",
        "\n",
        "test_data2 = torch.utils.data.TensorDataset(\n",
        "    torch.tensor(X_test.values).float(),\n",
        "    torch.tensor(Y2_test.values.reshape((-1, 1))).float(),\n",
        ")"
      ]
    },
    {
      "cell_type": "code",
      "execution_count": null,
      "metadata": {
        "id": "LAe1g7L4kEXG"
      },
      "outputs": [],
      "source": [
        "batch_size = 20\n",
        "lr = 0.01\n",
        "n_hidden = 100  # 1層モデルでは使わない\n",
        "n_epoch = 100\n",
        "\n",
        "# 学習モデル\n",
        "model = SLP(len(training_data2[0][0]), 1).to(device)"
      ]
    },
    {
      "cell_type": "code",
      "execution_count": null,
      "metadata": {
        "id": "QFn6i9lckEXG"
      },
      "outputs": [],
      "source": [
        "train_loader = torch.utils.data.DataLoader(\n",
        "    training_data2, batch_size=batch_size, shuffle=True\n",
        ")\n",
        "valid_loader = torch.utils.data.DataLoader(\n",
        "    validation_data2, batch_size=batch_size, shuffle=True\n",
        ")\n",
        "test_loader = torch.utils.data.DataLoader(\n",
        "    test_data2, batch_size=batch_size, shuffle=True\n",
        ")"
      ]
    },
    {
      "cell_type": "code",
      "execution_count": null,
      "metadata": {
        "id": "Tz-dEw5lkEXG"
      },
      "outputs": [],
      "source": [
        "from sklearn import metrics\n",
        "\n",
        "measure = metrics.f1_score  # 分類問題の評価関数\n",
        "\n",
        "# 各種履歴\n",
        "train_loss_history = []\n",
        "valid_loss_history = []\n",
        "train_score_history = []\n",
        "valid_score_history = []\n",
        "\n",
        "optimizer = torch.optim.Adam(model.parameters(), lr=lr)  # 最適化手法（オプティマイザ）\n",
        "criterion = torch.nn.MSELoss()  # 誤差関数\n",
        "\n",
        "# n_epoch回繰り返す\n",
        "for epoch in range(n_epoch):\n",
        "\n",
        "    # トレーニング（訓練）\n",
        "    model.train()\n",
        "    train_loss = 0\n",
        "    Y_pred = np.array([])\n",
        "    Y_true = np.array([])\n",
        "    for x, y in train_loader:  # バッチを取り出す\n",
        "        x = torch.autograd.Variable(x).to(device)  # 自動微分可能な変数に変換\n",
        "        y = torch.autograd.Variable(y).to(device)  # 自動微分可能な変数に変換\n",
        "        optimizer.zero_grad()  # オプティマイザの勾配を初期化\n",
        "        y_pred = model(x).to(device)  # 予測\n",
        "        loss = criterion(y_pred, y)  # 誤差を計算\n",
        "        loss.backward()  # 誤差逆伝搬\n",
        "        optimizer.step()  # オプティマイザを更新\n",
        "        train_loss += loss.item() / x.shape[0]  # そのバッチの誤差を蓄積\n",
        "        Y_true = np.concatenate([Y_true, y.detach().cpu().numpy().flatten()])  # 実測値を記録\n",
        "        Y_pred = np.concatenate(\n",
        "            [Y_pred, y_pred.detach().cpu().numpy().flatten()]\n",
        "        )  # 予測値を記録\n",
        "\n",
        "    train_loss_history.append(train_loss)  # トレーニング誤差の履歴を記録\n",
        "\n",
        "    Y_pred = np.where(Y_pred >= 0.5, 1, 0)  # 分類モデル用に 0 or 1 に変換\n",
        "    train_score = measure(Y_pred, Y_true)  # トレーニングデータに対する評価関数のスコア\n",
        "    train_score_history.append(train_score)  # 履歴を記録\n",
        "\n",
        "    # バリデーション（検証）\n",
        "    model.eval()\n",
        "    valid_loss = 0\n",
        "    Y_pred = np.array([])\n",
        "    Y_true = np.array([])\n",
        "    for x, y in valid_loader:\n",
        "        x = torch.autograd.Variable(x, requires_grad=False).to(\n",
        "            device\n",
        "        )  # 自動微分は必要ないが同じ形式の変数を用意する\n",
        "        y = torch.autograd.Variable(y, requires_grad=False).to(\n",
        "            device\n",
        "        )  # 自動微分は必要ないが同じ形式の変数を用意する\n",
        "        y_pred = model(x)  # 予測\n",
        "        loss = criterion(y_pred, y)  # 誤差を計算\n",
        "        valid_loss += loss.item() / x.shape[0]  # そのバッチの誤差を蓄積\n",
        "        Y_true = np.concatenate([Y_true, y.detach().cpu().numpy().flatten()])  # 実測値を記録\n",
        "        Y_pred = np.concatenate(\n",
        "            [Y_pred, y_pred.detach().cpu().numpy().flatten()]\n",
        "        )  # 予測値を記録\n",
        "\n",
        "    valid_loss_history.append(valid_loss)  # バリデーション誤差の履歴を記録\n",
        "\n",
        "    Y_pred = np.where(Y_pred >= 0.5, 1, 0)  # 分類モデル用に 0 or 1 に変換\n",
        "    valid_score = measure(Y_pred, Y_true)  # バリデーションデータに対する評価関数のスコア\n",
        "    valid_score_history.append(valid_score)  # 履歴を記録\n",
        "\n",
        "    if (epoch + 1) % (n_epoch / 10) == 0:\n",
        "        print(  # 途中経過を表示\n",
        "            \"Epoch={}\\tLoss(train)={:.4f}\\tLoss(valid)={:.4f}\\tScore(train)={:.4f}\\tScore(valid)={:.4f} \".format(\n",
        "                epoch + 1, train_loss, valid_loss, train_score, valid_score\n",
        "            )\n",
        "        )\n",
        "\n",
        "    if min(valid_score_history) == valid_score:\n",
        "        best_model = model  # ベストモデルを保存"
      ]
    },
    {
      "cell_type": "code",
      "execution_count": null,
      "metadata": {
        "id": "QqoCpb_ykEXH"
      },
      "outputs": [],
      "source": [
        "# 学習曲線の描画\n",
        "learning_curve(\n",
        "    train_loss_history, valid_loss_history, train_score_history, valid_score_history\n",
        ")"
      ]
    },
    {
      "cell_type": "code",
      "execution_count": null,
      "metadata": {
        "id": "VtYZ1p3jkEXH"
      },
      "outputs": [],
      "source": [
        "from sklearn import metrics\n",
        "\n",
        "test_loss = 0\n",
        "n_data = 0\n",
        "Y_pred = np.array([])\n",
        "Y_true = np.array([])\n",
        "for x, y in test_loader:\n",
        "    x = torch.autograd.Variable(x, requires_grad=False).to(device)\n",
        "    y = torch.autograd.Variable(y, requires_grad=False).to(device)\n",
        "    y_pred = best_model(x)\n",
        "    loss = criterion(y_pred, y)\n",
        "    test_loss += loss.item()\n",
        "    n_data += x.shape[0]\n",
        "\n",
        "    Y_pred = np.concatenate([Y_pred, y_pred.detach().cpu().numpy().flatten()])\n",
        "    Y_true = np.concatenate([Y_true, y.detach().cpu().numpy().flatten()])\n",
        "\n",
        "Y_pred = np.where(Y_pred >= 0.5, 1, 0)\n",
        "test_loss /= n_data\n",
        "print(test_loss, metrics.f1_score(Y_true, Y_pred))"
      ]
    },
    {
      "cell_type": "code",
      "execution_count": null,
      "metadata": {
        "id": "feJg-YctkEXH"
      },
      "outputs": [],
      "source": [
        "classification_metrics(Y_true, Y_pred)"
      ]
    },
    {
      "cell_type": "markdown",
      "metadata": {
        "id": "qVNhx5-WkEXH"
      },
      "source": [
        "# PyTorchで分類問題を解く （多層モデル）"
      ]
    },
    {
      "cell_type": "code",
      "execution_count": null,
      "metadata": {
        "id": "3QUzIgykkEXH"
      },
      "outputs": [],
      "source": [
        "batch_size = 20\n",
        "lr = 0.01\n",
        "n_hidden = 100\n",
        "n_epoch = 100\n",
        "\n",
        "model = MLP(len(training_data2[0][0]), n_hidden, 1).to(device)"
      ]
    },
    {
      "cell_type": "code",
      "execution_count": null,
      "metadata": {
        "id": "45oXMk-WkEXI"
      },
      "outputs": [],
      "source": [
        "from sklearn import metrics\n",
        "\n",
        "measure = metrics.f1_score  # 分類問題の評価関数\n",
        "\n",
        "# 各種履歴\n",
        "train_loss_history = []\n",
        "valid_loss_history = []\n",
        "train_score_history = []\n",
        "valid_score_history = []\n",
        "\n",
        "optimizer = torch.optim.Adam(model.parameters(), lr=lr)  # 最適化手法（オプティマイザ）\n",
        "criterion = torch.nn.MSELoss()  # 誤差関数\n",
        "\n",
        "# n_epoch回繰り返す\n",
        "for epoch in range(n_epoch):\n",
        "\n",
        "    # トレーニング（訓練）\n",
        "    model.train()\n",
        "    train_loss = 0\n",
        "    Y_pred = np.array([])\n",
        "    Y_true = np.array([])\n",
        "    for x, y in train_loader:  # バッチを取り出す\n",
        "        x = torch.autograd.Variable(x).to(device)  # 自動微分可能な変数に変換\n",
        "        y = torch.autograd.Variable(y).to(device)  # 自動微分可能な変数に変換\n",
        "        optimizer.zero_grad()  # オプティマイザの勾配を初期化\n",
        "        y_pred = model(x).to(device)  # 予測\n",
        "        loss = criterion(y_pred, y)  # 誤差を計算\n",
        "        loss.backward()  # 誤差逆伝搬\n",
        "        optimizer.step()  # オプティマイザを更新\n",
        "        train_loss += loss.item() / x.shape[0]  # そのバッチの誤差を蓄積\n",
        "        Y_true = np.concatenate([Y_true, y.detach().cpu().numpy().flatten()])  # 実測値を記録\n",
        "        Y_pred = np.concatenate(\n",
        "            [Y_pred, y_pred.detach().cpu().numpy().flatten()]\n",
        "        )  # 予測値を記録\n",
        "\n",
        "    train_loss_history.append(train_loss)  # トレーニング誤差の履歴を記録\n",
        "\n",
        "    Y_pred = np.where(Y_pred >= 0.5, 1, 0)  # 分類モデル用に 0 or 1 に変換\n",
        "    train_score = measure(Y_pred, Y_true)  # トレーニングデータに対する評価関数のスコア\n",
        "    train_score_history.append(train_score)  # 履歴を記録\n",
        "\n",
        "    # バリデーション（検証）\n",
        "    model.eval()\n",
        "    valid_loss = 0\n",
        "    Y_pred = np.array([])\n",
        "    Y_true = np.array([])\n",
        "    for x, y in valid_loader:\n",
        "        x = torch.autograd.Variable(x, requires_grad=False).to(\n",
        "            device\n",
        "        )  # 自動微分は必要ないが同じ形式の変数を用意する\n",
        "        y = torch.autograd.Variable(y, requires_grad=False).to(\n",
        "            device\n",
        "        )  # 自動微分は必要ないが同じ形式の変数を用意する\n",
        "        y_pred = model(x)  # 予測\n",
        "        loss = criterion(y_pred, y)  # 誤差を計算\n",
        "        valid_loss += loss.item() / x.shape[0]  # そのバッチの誤差を蓄積\n",
        "        Y_true = np.concatenate([Y_true, y.detach().cpu().numpy().flatten()])  # 実測値を記録\n",
        "        Y_pred = np.concatenate(\n",
        "            [Y_pred, y_pred.detach().cpu().numpy().flatten()]\n",
        "        )  # 予測値を記録\n",
        "\n",
        "    valid_loss_history.append(valid_loss)  # バリデーション誤差の履歴を記録\n",
        "\n",
        "    Y_pred = np.where(Y_pred >= 0.5, 1, 0)  # 分類モデル用に 0 or 1 に変換\n",
        "    valid_score = measure(Y_pred, Y_true)  # バリデーションデータに対する評価関数のスコア\n",
        "    valid_score_history.append(valid_score)  # 履歴を記録\n",
        "\n",
        "    if (epoch + 1) % (n_epoch / 10) == 0:\n",
        "        print(  # 途中経過を表示\n",
        "            \"Epoch={}\\tLoss(train)={:.4f}\\tLoss(valid)={:.4f}\\tScore(train)={:.4f}\\tScore(valid)={:.4f} \".format(\n",
        "                epoch + 1, train_loss, valid_loss, train_score, valid_score\n",
        "            )\n",
        "        )\n",
        "\n",
        "    if min(valid_score_history) == valid_score:\n",
        "        best_model = model  # ベストモデルを保存"
      ]
    },
    {
      "cell_type": "code",
      "execution_count": null,
      "metadata": {
        "id": "mwcVu774kEXI"
      },
      "outputs": [],
      "source": [
        "# 学習曲線の描画\n",
        "learning_curve(\n",
        "    train_loss_history, valid_loss_history, train_score_history, valid_score_history\n",
        ")"
      ]
    },
    {
      "cell_type": "code",
      "execution_count": null,
      "metadata": {
        "id": "oYZXIJQQkEXI"
      },
      "outputs": [],
      "source": [
        "from sklearn import metrics\n",
        "\n",
        "test_loss = 0\n",
        "n_data = 0\n",
        "Y_pred = np.array([])\n",
        "Y_true = np.array([])\n",
        "for x, y in test_loader:\n",
        "    x = torch.autograd.Variable(x, requires_grad=False).to(device)\n",
        "    y = torch.autograd.Variable(y, requires_grad=False).to(device)\n",
        "    y_pred = best_model(x)\n",
        "    loss = criterion(y_pred, y)\n",
        "    test_loss += loss.item()\n",
        "    n_data += x.shape[0]\n",
        "\n",
        "    Y_pred = np.concatenate([Y_pred, y_pred.detach().cpu().numpy().flatten()])\n",
        "    Y_true = np.concatenate([Y_true, y.detach().cpu().numpy().flatten()])\n",
        "\n",
        "Y_pred = np.where(Y_pred >= 0.5, 1, 0)\n",
        "test_loss /= n_data\n",
        "print(test_loss, metrics.f1_score(Y_true, Y_pred))"
      ]
    },
    {
      "cell_type": "code",
      "execution_count": null,
      "metadata": {
        "id": "Q97b74hHkEXI"
      },
      "outputs": [],
      "source": [
        "classification_metrics(Y_true, Y_pred)"
      ]
    },
    {
      "cell_type": "markdown",
      "metadata": {
        "id": "1wb7uB0XkEXJ"
      },
      "source": [
        "# PyTorch 回帰問題（バイアスあり）"
      ]
    },
    {
      "cell_type": "code",
      "execution_count": null,
      "metadata": {
        "id": "tQxVwHJakEXJ"
      },
      "outputs": [],
      "source": [
        "import torch\n",
        "\n",
        "training_data3 = torch.utils.data.TensorDataset(\n",
        "    torch.tensor(X_tra.values).float(),\n",
        "    torch.tensor(Y3_tra.values.reshape((-1, 1))).float(),\n",
        ")\n",
        "\n",
        "validation_data3 = torch.utils.data.TensorDataset(\n",
        "    torch.tensor(X_val.values).float(),\n",
        "    torch.tensor(Y3_val.values.reshape((-1, 1))).float(),\n",
        ")\n",
        "\n",
        "test_data3 = torch.utils.data.TensorDataset(\n",
        "    torch.tensor(X_test.values).float(),\n",
        "    torch.tensor(Y3_test.values.reshape((-1, 1))).float(),\n",
        ")"
      ]
    },
    {
      "cell_type": "code",
      "execution_count": null,
      "metadata": {
        "id": "ThkGfT2pkEXJ"
      },
      "outputs": [],
      "source": [
        "batch_size = 20\n",
        "lr = 0.01\n",
        "n_hidden = 100\n",
        "n_epoch = 100\n",
        "\n",
        "model = MLP(len(training_data3[0][0]), n_hidden, 1).to(device)"
      ]
    },
    {
      "cell_type": "code",
      "execution_count": null,
      "metadata": {
        "id": "JrvtmQnmkEXJ"
      },
      "outputs": [],
      "source": [
        "train_loader = torch.utils.data.DataLoader(\n",
        "    training_data3, batch_size=batch_size, shuffle=True\n",
        ")\n",
        "valid_loader = torch.utils.data.DataLoader(\n",
        "    validation_data3, batch_size=batch_size, shuffle=True\n",
        ")\n",
        "test_loader = torch.utils.data.DataLoader(\n",
        "    test_data3, batch_size=batch_size, shuffle=True\n",
        ")"
      ]
    },
    {
      "cell_type": "code",
      "execution_count": null,
      "metadata": {
        "id": "S_Ka55fykEXJ"
      },
      "outputs": [],
      "source": [
        "from sklearn import metrics\n",
        "\n",
        "measure = metrics.f1_score  # 分類問題の評価関数\n",
        "\n",
        "# 各種履歴\n",
        "train_loss_history = []\n",
        "valid_loss_history = []\n",
        "train_score_history = []\n",
        "valid_score_history = []\n",
        "\n",
        "optimizer = torch.optim.Adam(model.parameters(), lr=lr)  # 最適化手法（オプティマイザ）\n",
        "criterion = torch.nn.MSELoss()  # 誤差関数\n",
        "\n",
        "# n_epoch回繰り返す\n",
        "for epoch in range(n_epoch):\n",
        "\n",
        "    # トレーニング（訓練）\n",
        "    model.train()\n",
        "    train_loss = 0\n",
        "    Y_pred = np.array([])\n",
        "    Y_true = np.array([])\n",
        "    for x, y in train_loader:  # バッチを取り出す\n",
        "        x = torch.autograd.Variable(x).to(device)  # 自動微分可能な変数に変換\n",
        "        y = torch.autograd.Variable(y).to(device)  # 自動微分可能な変数に変換\n",
        "        optimizer.zero_grad()  # オプティマイザの勾配を初期化\n",
        "        y_pred = model(x).to(device)  # 予測\n",
        "        loss = criterion(y_pred, y)  # 誤差を計算\n",
        "        loss.backward()  # 誤差逆伝搬\n",
        "        optimizer.step()  # オプティマイザを更新\n",
        "        train_loss += loss.item() / x.shape[0]  # そのバッチの誤差を蓄積\n",
        "        Y_true = np.concatenate([Y_true, y.detach().cpu().numpy().flatten()])  # 実測値を記録\n",
        "        Y_pred = np.concatenate(\n",
        "            [Y_pred, y_pred.detach().cpu().numpy().flatten()]\n",
        "        )  # 予測値を記録\n",
        "\n",
        "    train_loss_history.append(train_loss)  # トレーニング誤差の履歴を記録\n",
        "\n",
        "    Y_pred = np.where(Y_pred >= 0.5, 1, 0)  # 分類モデル用に 0 or 1 に変換\n",
        "    train_score = measure(Y_pred, Y_true)  # トレーニングデータに対する評価関数のスコア\n",
        "    train_score_history.append(train_score)  # 履歴を記録\n",
        "\n",
        "    # バリデーション（検証）\n",
        "    model.eval()\n",
        "    valid_loss = 0\n",
        "    Y_pred = np.array([])\n",
        "    Y_true = np.array([])\n",
        "    for x, y in valid_loader:\n",
        "        x = torch.autograd.Variable(x, requires_grad=False).to(\n",
        "            device\n",
        "        )  # 自動微分は必要ないが同じ形式の変数を用意する\n",
        "        y = torch.autograd.Variable(y, requires_grad=False).to(\n",
        "            device\n",
        "        )  # 自動微分は必要ないが同じ形式の変数を用意する\n",
        "        y_pred = model(x)  # 予測\n",
        "        loss = criterion(y_pred, y)  # 誤差を計算\n",
        "        valid_loss += loss.item() / x.shape[0]  # そのバッチの誤差を蓄積\n",
        "        Y_true = np.concatenate([Y_true, y.detach().cpu().numpy().flatten()])  # 実測値を記録\n",
        "        Y_pred = np.concatenate(\n",
        "            [Y_pred, y_pred.detach().cpu().numpy().flatten()]\n",
        "        )  # 予測値を記録\n",
        "\n",
        "    valid_loss_history.append(valid_loss)  # バリデーション誤差の履歴を記録\n",
        "\n",
        "    Y_pred = np.where(Y_pred >= 0.5, 1, 0)  # 分類モデル用に 0 or 1 に変換\n",
        "    valid_score = measure(Y_pred, Y_true)  # バリデーションデータに対する評価関数のスコア\n",
        "    valid_score_history.append(valid_score)  # 履歴を記録\n",
        "\n",
        "    if (epoch + 1) % (n_epoch / 10) == 0:\n",
        "        print(  # 途中経過を表示\n",
        "            \"Epoch={}\\tLoss(train)={:.4f}\\tLoss(valid)={:.4f}\\tScore(train)={:.4f}\\tScore(valid)={:.4f} \".format(\n",
        "                epoch + 1, train_loss, valid_loss, train_score, valid_score\n",
        "            )\n",
        "        )\n",
        "\n",
        "    if min(valid_score_history) == valid_score:\n",
        "        best_model = model  # ベストモデルを保存"
      ]
    },
    {
      "cell_type": "code",
      "execution_count": null,
      "metadata": {
        "id": "PuO_6rfVkEXK"
      },
      "outputs": [],
      "source": [
        "# 学習曲線の描画\n",
        "learning_curve(\n",
        "    train_loss_history, valid_loss_history, train_score_history, valid_score_history\n",
        ")"
      ]
    },
    {
      "cell_type": "code",
      "execution_count": null,
      "metadata": {
        "id": "Xuv8yXB1kEXK"
      },
      "outputs": [],
      "source": [
        "from sklearn import metrics\n",
        "\n",
        "test_loss = 0\n",
        "n_data = 0\n",
        "Y_pred = np.array([])\n",
        "Y_true = np.array([])\n",
        "for x, y in test_loader:\n",
        "    x = torch.autograd.Variable(x, requires_grad=False).to(device)\n",
        "    y = torch.autograd.Variable(y, requires_grad=False).to(device)\n",
        "    y_pred = best_model(x)\n",
        "    loss = criterion(y_pred, y)\n",
        "    test_loss += loss.item()\n",
        "    n_data += x.shape[0]\n",
        "\n",
        "    Y_pred = np.concatenate([Y_pred, y_pred.detach().cpu().numpy().flatten()])\n",
        "    Y_true = np.concatenate([Y_true, y.detach().cpu().numpy().flatten()])\n",
        "\n",
        "Y_pred = np.where(Y_pred >= 0.5, 1, 0)\n",
        "test_loss /= n_data\n",
        "print(test_loss, metrics.f1_score(Y_true, Y_pred))"
      ]
    },
    {
      "cell_type": "code",
      "execution_count": null,
      "metadata": {
        "id": "3-nZUV_TkEXK"
      },
      "outputs": [],
      "source": [
        "classification_metrics(Y_true, Y_pred)"
      ]
    },
    {
      "cell_type": "markdown",
      "metadata": {
        "id": "FbQzjeFskEXK"
      },
      "source": [
        "# Optutnaによるチューニング"
      ]
    },
    {
      "cell_type": "code",
      "execution_count": null,
      "metadata": {
        "id": "OrmOiZgKl_pO"
      },
      "outputs": [],
      "source": [
        "# 以下の２つの設定は必要に応じて適宜調整してください。\n",
        "dateflag = \"0316b\"  # 解析日を記録するための変数\n",
        "MODEL_PATH = \"./drive/MyDrive/tmd2022-6/\"  # データの保存場所を指定するための変数\n",
        "learning_time_limit = 600  # １つの学習器あたりに許す最大の学習時間（秒）\n",
        "timeout_optuna = 600  # Optuna による反復計算に許す最大の学習時間（秒）\n",
        "n_trials_optuna = 2  # Optuna による反復計算の最大回数（普通は100や1000などの数字を入れる）"
      ]
    },
    {
      "cell_type": "code",
      "execution_count": null,
      "metadata": {
        "id": "D4lNvYVsmPbK"
      },
      "outputs": [],
      "source": [
        "# Google Colaboratory から Google Drive にマウント\n",
        "\n",
        "from google.colab import drive\n",
        "\n",
        "drive.mount(\"/content/drive\")"
      ]
    },
    {
      "cell_type": "code",
      "execution_count": null,
      "metadata": {
        "id": "dRmKDHvSmat8"
      },
      "outputs": [],
      "source": [
        "# もしデータ保存場所がなければ作る\n",
        "\n",
        "import os\n",
        "\n",
        "if not os.path.exists(MODEL_PATH):\n",
        "    os.makedirs(MODEL_PATH)"
      ]
    },
    {
      "cell_type": "code",
      "execution_count": null,
      "metadata": {
        "id": "TrQ619vsme1k"
      },
      "outputs": [],
      "source": [
        "!pip install optuna"
      ]
    },
    {
      "cell_type": "code",
      "execution_count": null,
      "metadata": {
        "id": "cBOcg_GhkEXL"
      },
      "outputs": [],
      "source": [
        "import torch\n",
        "\n",
        "\n",
        "# 層の深さまで調節できるモデル\n",
        "class MLP(torch.nn.Module):\n",
        "    def __init__(self, n_input, n_hidden, n_output, n_layer=3, p_dropout=0.5):\n",
        "        super(MLP, self).__init__()\n",
        "        self.l = torch.nn.ModuleList([])\n",
        "        self.l.append(torch.nn.Linear(n_input, n_hidden))  # 全結合層（第1層）\n",
        "        for _ in range(int(n_layer) - 2):\n",
        "            self.l.append(torch.nn.Linear(n_hidden, n_hidden))  # 全結合層（中間層）\n",
        "        self.l.append(torch.nn.Linear(n_hidden, n_output))  # 全結合層（最終層）\n",
        "        self.dropout = torch.nn.Dropout(p_dropout)  # ドロップアウト層\n",
        "\n",
        "    def forward(self, x):\n",
        "        for i in range(len(self.l) - 1):\n",
        "            x = torch.relu(self.l[i](x))\n",
        "            x = self.dropout(x)\n",
        "        x = self.l[-1](x)\n",
        "        return x"
      ]
    },
    {
      "cell_type": "code",
      "execution_count": null,
      "metadata": {
        "id": "v1hbPtkIkEXL"
      },
      "outputs": [],
      "source": [
        "from sklearn import metrics\n",
        "\n",
        "\n",
        "# 層の深さまで調節できるモデルをハイパラチューニングする\n",
        "class BestMLP:\n",
        "    def __init__(self, training_data, validation_data, measure=metrics.f1_score):\n",
        "        self.best_score = None\n",
        "        self.best_model = None\n",
        "        self.best_train_loss = None\n",
        "        self.best_valid_loss = None\n",
        "        self.training_data = training_data\n",
        "        self.validation_data = validation_data\n",
        "        self.measure = measure\n",
        "\n",
        "    def __call__(self, trial):\n",
        "        n_layer = trial.suggest_int(\"n_layer\", 3, 10)\n",
        "        n_hidden = trial.suggest_int(\"n_hidden\", 10, 100)\n",
        "        batch_size = trial.suggest_int(\"batch_size\", 10, 100)\n",
        "        lr = trial.suggest_float(\"lr\", 1e-4, 1e-1)\n",
        "        p_dropout = trial.suggest_float(\"p_dropout\", 0.0, 1.0)\n",
        "        n_epoch = 100\n",
        "\n",
        "        valid_score_history = []\n",
        "\n",
        "        model = MLP(\n",
        "            len(training_data[0][0]), n_hidden, 1, n_layer=n_layer, p_dropout=p_dropout\n",
        "        ).to(device)\n",
        "        optimizer = torch.optim.Adam(model.parameters(), lr=lr)\n",
        "        criterion = torch.nn.MSELoss()\n",
        "        train_loader = torch.utils.data.DataLoader(\n",
        "            self.training_data, batch_size=batch_size, shuffle=True\n",
        "        )\n",
        "        valid_loader = torch.utils.data.DataLoader(\n",
        "            self.validation_data, batch_size=batch_size, shuffle=True\n",
        "        )\n",
        "\n",
        "        for epoch in range(n_epoch):\n",
        "\n",
        "            for x, y in train_loader:\n",
        "                x = torch.autograd.Variable(x).to(device)\n",
        "                y = torch.autograd.Variable(y).to(device)\n",
        "                optimizer.zero_grad()\n",
        "                y_pred = model(x)\n",
        "                loss = criterion(y_pred, y)\n",
        "                loss.backward()\n",
        "                optimizer.step()\n",
        "\n",
        "            Y_pred = np.array([])\n",
        "            Y_true = np.array([])\n",
        "            for x, y in valid_loader:\n",
        "                x = torch.autograd.Variable(x, requires_grad=False).to(device)\n",
        "                y = torch.autograd.Variable(y, requires_grad=False).to(device)\n",
        "                y_pred = model(x)\n",
        "                loss = criterion(y_pred, y)\n",
        "\n",
        "                Y_pred = np.concatenate(\n",
        "                    [Y_pred, y_pred.detach().cpu().numpy().flatten()]\n",
        "                )\n",
        "                Y_true = np.concatenate([Y_true, y.detach().cpu().numpy().flatten()])\n",
        "\n",
        "            Y_pred = np.where(Y_pred >= 0.5, 1, 0)\n",
        "            score = self.measure(Y_pred, Y_true)\n",
        "            valid_score_history.append(score)\n",
        "\n",
        "        return max(valid_score_history)"
      ]
    },
    {
      "cell_type": "code",
      "execution_count": null,
      "metadata": {
        "id": "pDtXcQaIkEXL"
      },
      "outputs": [],
      "source": [
        "import optuna\n",
        "\n",
        "study_name = MODEL_PATH + dateflag\n",
        "training_data = training_data3\n",
        "objective = BestMLP(training_data3, validation_data3)\n",
        "\n",
        "# 学習環境を立ち上げる\n",
        "study = optuna.create_study(\n",
        "    study_name=dateflag,\n",
        "    storage=\"sqlite:///\" + study_name + \".sql\",\n",
        "    load_if_exists=True,\n",
        "    directions=[\"maximize\"],\n",
        ")"
      ]
    },
    {
      "cell_type": "code",
      "execution_count": null,
      "metadata": {
        "id": "EL3-r1tUkEXL"
      },
      "outputs": [],
      "source": [
        "study.optimize(\n",
        "    objective,\n",
        "    n_trials=2,\n",
        "    show_progress_bar=True,\n",
        ")"
      ]
    },
    {
      "cell_type": "code",
      "execution_count": null,
      "metadata": {
        "id": "68M_bUFpkEXM"
      },
      "outputs": [],
      "source": [
        "# ベスト結果を出したパラメーターを確認する\n",
        "\n",
        "best_trials_df = []\n",
        "for trial in study.best_trials:\n",
        "    params = trial.params\n",
        "    params[\"score\"] = trial.values[0]\n",
        "    best_trials_df.append(params)\n",
        "\n",
        "best_trials_df = pd.DataFrame(best_trials_df)\n",
        "best_trials_df"
      ]
    },
    {
      "cell_type": "code",
      "execution_count": null,
      "metadata": {
        "id": "BL-L_wKykEXM"
      },
      "outputs": [],
      "source": [
        "# すべてのトライアルを確認する\n",
        "\n",
        "trials_df = []\n",
        "for trial in study.trials:\n",
        "    if trial.values is not None:\n",
        "        params = trial.params\n",
        "        params[\"score\"] = trial.values[0]\n",
        "        trials_df.append(params)\n",
        "\n",
        "trials_df = pd.DataFrame(trials_df)\n",
        "trials_df"
      ]
    },
    {
      "cell_type": "code",
      "execution_count": null,
      "metadata": {
        "id": "bBGBFY1MkEXM"
      },
      "outputs": [],
      "source": [
        "# スコアとパラメータの履歴を確認する\n",
        "\n",
        "for x in trials_df.columns:\n",
        "    for y in [\"score\"]:\n",
        "        if x == y:\n",
        "            continue\n",
        "        plt.scatter(trials_df[x], trials_df[y], c=trials_df.index, cmap=\"Blues\")\n",
        "        plt.colorbar()\n",
        "        plt.xlabel(x)\n",
        "        plt.ylabel(y)\n",
        "        plt.grid()\n",
        "        plt.show()"
      ]
    },
    {
      "cell_type": "markdown",
      "metadata": {
        "id": "D_OwpsELkEXM"
      },
      "source": [
        "# ベストパラメータを用いて再学習"
      ]
    },
    {
      "cell_type": "code",
      "execution_count": null,
      "metadata": {
        "id": "XS2SqpjVkEXM"
      },
      "outputs": [],
      "source": [
        "study.best_params"
      ]
    },
    {
      "cell_type": "code",
      "execution_count": null,
      "metadata": {
        "id": "TEZ64tf9kEXN"
      },
      "outputs": [],
      "source": [
        "n_hidden = study.best_params[\"n_hidden\"]\n",
        "lr = study.best_params[\"lr\"]\n",
        "batch_size = study.best_params[\"batch_size\"]\n",
        "n_layer = study.best_params[\"n_layer\"]\n",
        "p_dropout = study.best_params[\"p_dropout\"]\n",
        "n_epoch = 100\n",
        "\n",
        "model = MLP(\n",
        "    len(training_data3[0][0]), n_hidden, 1, n_layer=n_layer, p_dropout=p_dropout\n",
        ").to(device)"
      ]
    },
    {
      "cell_type": "code",
      "execution_count": null,
      "metadata": {
        "id": "tc27z4FQkEXN"
      },
      "outputs": [],
      "source": [
        "from sklearn import metrics\n",
        "\n",
        "measure = metrics.f1_score  # 分類問題の評価関数\n",
        "\n",
        "# 各種履歴\n",
        "train_loss_history = []\n",
        "valid_loss_history = []\n",
        "train_score_history = []\n",
        "valid_score_history = []\n",
        "\n",
        "optimizer = torch.optim.Adam(model.parameters(), lr=lr)  # 最適化手法（オプティマイザ）\n",
        "criterion = torch.nn.MSELoss()  # 誤差関数\n",
        "\n",
        "# n_epoch回繰り返す\n",
        "for epoch in range(n_epoch):\n",
        "\n",
        "    # トレーニング（訓練）\n",
        "    model.train()\n",
        "    train_loss = 0\n",
        "    Y_pred = np.array([])\n",
        "    Y_true = np.array([])\n",
        "    for x, y in train_loader:  # バッチを取り出す\n",
        "        x = torch.autograd.Variable(x).to(device)  # 自動微分可能な変数に変換\n",
        "        y = torch.autograd.Variable(y).to(device)  # 自動微分可能な変数に変換\n",
        "        optimizer.zero_grad()  # オプティマイザの勾配を初期化\n",
        "        y_pred = model(x).to(device)  # 予測\n",
        "        loss = criterion(y_pred, y)  # 誤差を計算\n",
        "        loss.backward()  # 誤差逆伝搬\n",
        "        optimizer.step()  # オプティマイザを更新\n",
        "        train_loss += loss.item() / x.shape[0]  # そのバッチの誤差を蓄積\n",
        "        Y_true = np.concatenate([Y_true, y.detach().cpu().numpy().flatten()])  # 実測値を記録\n",
        "        Y_pred = np.concatenate(\n",
        "            [Y_pred, y_pred.detach().cpu().numpy().flatten()]\n",
        "        )  # 予測値を記録\n",
        "\n",
        "    train_loss_history.append(train_loss)  # トレーニング誤差の履歴を記録\n",
        "\n",
        "    Y_pred = np.where(Y_pred >= 0.5, 1, 0)  # 分類モデル用に 0 or 1 に変換\n",
        "    train_score = measure(Y_pred, Y_true)  # トレーニングデータに対する評価関数のスコア\n",
        "    train_score_history.append(train_score)  # 履歴を記録\n",
        "\n",
        "    # バリデーション（検証）\n",
        "    model.eval()\n",
        "    valid_loss = 0\n",
        "    Y_pred = np.array([])\n",
        "    Y_true = np.array([])\n",
        "    for x, y in valid_loader:\n",
        "        x = torch.autograd.Variable(x, requires_grad=False).to(\n",
        "            device\n",
        "        )  # 自動微分は必要ないが同じ形式の変数を用意する\n",
        "        y = torch.autograd.Variable(y, requires_grad=False).to(\n",
        "            device\n",
        "        )  # 自動微分は必要ないが同じ形式の変数を用意する\n",
        "        y_pred = model(x)  # 予測\n",
        "        loss = criterion(y_pred, y)  # 誤差を計算\n",
        "        valid_loss += loss.item() / x.shape[0]  # そのバッチの誤差を蓄積\n",
        "        Y_true = np.concatenate([Y_true, y.detach().cpu().numpy().flatten()])  # 実測値を記録\n",
        "        Y_pred = np.concatenate(\n",
        "            [Y_pred, y_pred.detach().cpu().numpy().flatten()]\n",
        "        )  # 予測値を記録\n",
        "\n",
        "    valid_loss_history.append(valid_loss)  # バリデーション誤差の履歴を記録\n",
        "\n",
        "    Y_pred = np.where(Y_pred >= 0.5, 1, 0)  # 分類モデル用に 0 or 1 に変換\n",
        "    valid_score = measure(Y_pred, Y_true)  # バリデーションデータに対する評価関数のスコア\n",
        "    valid_score_history.append(valid_score)  # 履歴を記録\n",
        "\n",
        "    if (epoch + 1) % (n_epoch / 10) == 0:\n",
        "        print(  # 途中経過を表示\n",
        "            \"Epoch={}\\tLoss(train)={:.4f}\\tLoss(valid)={:.4f}\\tScore(train)={:.4f}\\tScore(valid)={:.4f} \".format(\n",
        "                epoch + 1, train_loss, valid_loss, train_score, valid_score\n",
        "            )\n",
        "        )\n",
        "\n",
        "    if min(valid_score_history) == valid_score:\n",
        "        best_model = model  # ベストモデルを保存"
      ]
    },
    {
      "cell_type": "code",
      "execution_count": null,
      "metadata": {
        "id": "Act6T5NRkEXN"
      },
      "outputs": [],
      "source": [
        "# 学習曲線の描画\n",
        "learning_curve(\n",
        "    train_loss_history, valid_loss_history, train_score_history, valid_score_history\n",
        ")"
      ]
    },
    {
      "cell_type": "code",
      "execution_count": null,
      "metadata": {
        "id": "JGn-XQDwkEXN"
      },
      "outputs": [],
      "source": [
        "from sklearn import metrics\n",
        "\n",
        "test_loss = 0\n",
        "n_data = 0\n",
        "Y_pred = np.array([])\n",
        "Y_true = np.array([])\n",
        "for x, y in test_loader:\n",
        "    x = torch.autograd.Variable(x, requires_grad=False).to(device)\n",
        "    y = torch.autograd.Variable(y, requires_grad=False).to(device)\n",
        "    y_pred = best_model(x)\n",
        "    loss = criterion(y_pred, y)\n",
        "    test_loss += loss.item()\n",
        "    n_data += x.shape[0]\n",
        "\n",
        "    Y_pred = np.concatenate([Y_pred, y_pred.detach().cpu().numpy().flatten()])\n",
        "    Y_true = np.concatenate([Y_true, y.detach().cpu().numpy().flatten()])\n",
        "\n",
        "Y_pred = np.where(Y_pred >= 0.5, 1, 0)\n",
        "test_loss /= n_data\n",
        "print(test_loss, metrics.f1_score(Y_true, Y_pred))"
      ]
    },
    {
      "cell_type": "code",
      "execution_count": null,
      "metadata": {
        "id": "P8l_qiSjkEXN"
      },
      "outputs": [],
      "source": [
        "classification_metrics(Y_true, Y_pred)"
      ]
    },
    {
      "cell_type": "code",
      "execution_count": null,
      "metadata": {
        "id": "cNf7QBbmkEXO"
      },
      "outputs": [],
      "source": []
    }
  ],
  "metadata": {
    "colab": {
      "provenance": [],
      "include_colab_link": true
    },
    "kernelspec": {
      "display_name": "Python 3",
      "language": "python",
      "name": "python3"
    },
    "language_info": {
      "codemirror_mode": {
        "name": "ipython",
        "version": 3
      },
      "file_extension": ".py",
      "mimetype": "text/x-python",
      "name": "python",
      "nbconvert_exporter": "python",
      "pygments_lexer": "ipython3",
      "version": "3.8.0"
    }
  },
  "nbformat": 4,
  "nbformat_minor": 0
}