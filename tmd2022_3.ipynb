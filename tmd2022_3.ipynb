{
  "cells": [
    {
      "cell_type": "markdown",
      "metadata": {
        "id": "view-in-github",
        "colab_type": "text"
      },
      "source": [
        "<a href=\"https://colab.research.google.com/github/maskot1977/tmd2022/blob/o3VQO0cT5iFiBFJV/tmd2022_3.ipynb\" target=\"_parent\"><img src=\"https://colab.research.google.com/assets/colab-badge.svg\" alt=\"Open In Colab\"/></a>"
      ]
    },
    {
      "cell_type": "markdown",
      "metadata": {
        "id": "lh_35zNy_O02"
      },
      "source": [
        "「AI創薬・ケモインフォマティクス入門」講義資料　（講師：小寺正明）\n",
        "\n",
        "2月11日(土)19:40～21:10 第3回「分子構造情報処理」\n",
        "\n",
        "# 第3回　分子構造情報処理\n",
        "\n",
        "# RDKitのインストール"
      ]
    },
    {
      "cell_type": "code",
      "execution_count": null,
      "metadata": {
        "id": "y6ks-QVX9FFw"
      },
      "outputs": [],
      "source": [
        "!wget -c https://repo.continuum.io/miniconda/Miniconda3-latest-Linux-x86_64.sh\n",
        "!chmod +x Miniconda3-latest-Linux-x86_64.sh\n",
        "!bash ./Miniconda3-latest-Linux-x86_64.sh -b -f -p /usr/local\n",
        "!conda install -q -y -c rdkit rdkit python=3.7\n",
        "import sys\n",
        "\n",
        "sys.path.append(\"/usr/local/lib/python3.7/site-packages/\")"
      ]
    },
    {
      "cell_type": "code",
      "execution_count": null,
      "metadata": {
        "id": "OjkgI9LF73li"
      },
      "outputs": [],
      "source": [
        "import rdkit"
      ]
    },
    {
      "cell_type": "markdown",
      "metadata": {
        "id": "glkqn9VX_Vvt"
      },
      "source": [
        "# 化合物データのダウンロード\n"
      ]
    },
    {
      "cell_type": "code",
      "execution_count": null,
      "metadata": {
        "id": "e2lC17Vb9O7d"
      },
      "outputs": [],
      "source": [
        "import urllib.request\n",
        "\n",
        "# 化合物データのダウンロード\n",
        "url = \"https://raw.githubusercontent.com/maskot1977/tmd2020/main/data/data_1.csv\"\n",
        "urllib.request.urlretrieve(url, url.split(\"/\")[-1])"
      ]
    },
    {
      "cell_type": "markdown",
      "metadata": {
        "id": "wUKkkCJc_dRJ"
      },
      "source": [
        "# pandasのインポートとデータ読み込み"
      ]
    },
    {
      "cell_type": "code",
      "execution_count": null,
      "metadata": {
        "id": "9glGPKEe9mWq"
      },
      "outputs": [],
      "source": [
        "import pandas as pd\n",
        "\n",
        "# csvからのデータ読み込み\n",
        "df = pd.read_csv(\"data_1.csv\")\n",
        "df"
      ]
    },
    {
      "cell_type": "markdown",
      "metadata": {
        "id": "mup0U1c0_5EB"
      },
      "source": [
        "# RDKitを使った化学フォーマット変換"
      ]
    },
    {
      "cell_type": "code",
      "execution_count": null,
      "metadata": {
        "id": "UeKsJwWB_4lV"
      },
      "outputs": [],
      "source": [
        "# １つめのSMILES\n",
        "smile = df[\"Open Babel SMILES\"][0]\n",
        "smile"
      ]
    },
    {
      "cell_type": "code",
      "execution_count": null,
      "metadata": {
        "id": "uEGCcw52-xe6"
      },
      "outputs": [],
      "source": [
        "from rdkit import Chem\n",
        "\n",
        "# SMILES を RDKit Mol に変換\n",
        "mol = Chem.MolFromSmiles(smile)\n",
        "mol"
      ]
    },
    {
      "cell_type": "code",
      "execution_count": null,
      "metadata": {
        "id": "5JyELjxtc1xY"
      },
      "outputs": [],
      "source": [
        "# 名前をつける\n",
        "mol.SetProp(\"_Name\", \"Satan Miracle Special Ultra Super Megaton Punch\")"
      ]
    },
    {
      "cell_type": "code",
      "execution_count": null,
      "metadata": {
        "id": "6omMTyHqBB8z"
      },
      "outputs": [],
      "source": [
        "# InChI に変換\n",
        "inchi = Chem.MolToInchi(mol)\n",
        "inchi"
      ]
    },
    {
      "cell_type": "code",
      "execution_count": null,
      "metadata": {
        "id": "6cSSc_3GAJfk"
      },
      "outputs": [],
      "source": [
        "# MolBlock形式に変換\n",
        "molblock = Chem.MolToMolBlock(mol)\n",
        "print(molblock)"
      ]
    },
    {
      "cell_type": "code",
      "execution_count": null,
      "metadata": {
        "id": "Dwed0FqmBh2I"
      },
      "outputs": [],
      "source": [
        "# 水素原子を明記する\n",
        "mol = Chem.AddHs(mol)\n",
        "molblock = Chem.MolToMolBlock(mol)\n",
        "print(molblock)"
      ]
    },
    {
      "cell_type": "code",
      "execution_count": null,
      "metadata": {
        "id": "d6NzgbSJDGTz"
      },
      "outputs": [],
      "source": [
        "# 水素原子を省略する\n",
        "mol = Chem.RemoveHs(mol)\n",
        "molblock = Chem.MolToMolBlock(mol)\n",
        "print(molblock)"
      ]
    },
    {
      "cell_type": "code",
      "execution_count": null,
      "metadata": {
        "id": "57PZVBj9DMhE"
      },
      "outputs": [],
      "source": [
        "# ファイルに出力する\n",
        "filename = \"SatanMiracleSpecialUltraSuperMegatonPunch.mol\"\n",
        "print(Chem.MolToMolBlock(mol), file=open(filename, \"w+\"))"
      ]
    },
    {
      "cell_type": "markdown",
      "metadata": {
        "id": "0DHPlk1eGi49"
      },
      "source": [
        "# 描画\n",
        "\n",
        "## １分子の描画"
      ]
    },
    {
      "cell_type": "code",
      "execution_count": null,
      "metadata": {
        "id": "rv_EghuqD28o"
      },
      "outputs": [],
      "source": [
        "from rdkit.Chem import Draw\n",
        "\n",
        "smile = df[\"Open Babel SMILES\"][0]\n",
        "mol = Chem.MolFromSmiles(smile)\n",
        "mol.SetProp(\"_Name\", smile)\n",
        "\n",
        "# ノートブック上に描画\n",
        "Draw.MolToImage(mol, legend=mol.GetProp(\"_Name\"))"
      ]
    },
    {
      "cell_type": "code",
      "execution_count": null,
      "metadata": {
        "id": "yOtCeidGEgBh"
      },
      "outputs": [],
      "source": [
        "# ファイルに出力する\n",
        "filename = \"SatanMiracleSpecialUltraSuperMegatonPunch.png\"\n",
        "Chem.Draw.MolToFile(mol, filename, legend=mol.GetProp(\"_Name\"))"
      ]
    },
    {
      "cell_type": "markdown",
      "metadata": {
        "id": "IFvVf5N-WTN7"
      },
      "source": [
        "## 構造式描画をもっと詳しく"
      ]
    },
    {
      "cell_type": "code",
      "execution_count": null,
      "metadata": {
        "id": "U80XX-fcTvVu"
      },
      "outputs": [],
      "source": [
        "# どの原子にどの番号がついているか表示したい\n",
        "from IPython.display import SVG\n",
        "from rdkit.Chem.Draw import rdMolDraw2D\n",
        "\n",
        "view = rdMolDraw2D.MolDraw2DSVG(300, 350)\n",
        "view.SetFontSize(0.9 * view.FontSize())\n",
        "tm = rdMolDraw2D.PrepareMolForDrawing(mol)\n",
        "\n",
        "option = view.drawOptions()\n",
        "for atomidx, atom in enumerate(mol.GetAtoms()):\n",
        "    symbol = mol.GetAtomWithIdx(atomidx).GetSymbol()\n",
        "    option.atomLabels[atomidx] = symbol + str(atomidx)\n",
        "\n",
        "view.DrawMolecule(tm, legend=mol.GetProp(\"_Name\"))\n",
        "view.FinishDrawing()\n",
        "# 描画\n",
        "svg = view.GetDrawingText()\n",
        "SVG(svg)"
      ]
    },
    {
      "cell_type": "code",
      "execution_count": null,
      "metadata": {
        "id": "UuN75Z_ZXY50"
      },
      "outputs": [],
      "source": [
        "# 指定した原子をハイライトしたい\n",
        "from IPython.display import SVG\n",
        "from rdkit.Chem.Draw import rdMolDraw2D\n",
        "\n",
        "colors = {6: (1, 0, 0), 8: (0, 1, 0), 10: (0, 0, 1)}\n",
        "radii = {6: 0.25, 8: 0.50, 10: 0.2}\n",
        "\n",
        "view = rdMolDraw2D.MolDraw2DSVG(300, 350)\n",
        "view.SetFontSize(0.9 * view.FontSize())\n",
        "tm = rdMolDraw2D.PrepareMolForDrawing(mol)\n",
        "option = view.drawOptions()\n",
        "option.multipleBondOffset = 0.07\n",
        "option.padding = 0.11\n",
        "option.legendFontSize = 20\n",
        "view.DrawMolecule(\n",
        "    tm,\n",
        "    highlightAtoms=colors.keys(),\n",
        "    highlightAtomColors=colors,\n",
        "    highlightAtomRadii=radii,\n",
        "    legend=mol.GetProp(\"_Name\"),\n",
        ")\n",
        "view.FinishDrawing()\n",
        "# 描画\n",
        "svg = view.GetDrawingText()\n",
        "SVG(svg)"
      ]
    },
    {
      "cell_type": "markdown",
      "metadata": {
        "id": "TI2jsevUQCcV"
      },
      "source": [
        "## 複数分子の描画\n"
      ]
    },
    {
      "cell_type": "code",
      "execution_count": null,
      "metadata": {
        "id": "eKII535NDXel"
      },
      "outputs": [],
      "source": [
        "mols = []  # 複数の RDKit Mol を格納するリスト\n",
        "for smile, id in zip(df[\"Open Babel SMILES\"], df[\"PCCDB-ID\"]):\n",
        "    mol = Chem.MolFromSmiles(smile)  # SMILES を RDKit Mol に変換\n",
        "    mol.SetProp(\"_Name\", str(id))  # 名前をつける\n",
        "    mols.append(mol)  # リストに格納する"
      ]
    },
    {
      "cell_type": "code",
      "execution_count": null,
      "metadata": {
        "id": "sDbxP7n3Guy6"
      },
      "outputs": [],
      "source": [
        "x_start = 0  # 表示したい最初の化合物\n",
        "x_end = 100  # 表示したい最後の化合物の次\n",
        "img = Draw.MolsToGridImage(\n",
        "    mols[x_start:x_end],  # スライスで範囲を指定\n",
        "    molsPerRow=10,  # 列の数\n",
        "    subImgSize=(100, 100),  # 画像サイズ\n",
        "    legends=[x.GetProp(\"_Name\") for x in mols[x_start:x_end]],  # 注釈\n",
        ")\n",
        "display(img)"
      ]
    },
    {
      "cell_type": "code",
      "execution_count": null,
      "metadata": {
        "id": "uteEz-Q9HVAn"
      },
      "outputs": [],
      "source": [
        "# ファイルに出力\n",
        "img.save(\"SatanMiracleSpecialUltraSuperMegatonPunch_grid.png\")"
      ]
    },
    {
      "cell_type": "markdown",
      "metadata": {
        "id": "OIlGUGvcdHdk"
      },
      "source": [
        "# カノニカライズ（記述順序の標準化）"
      ]
    },
    {
      "cell_type": "code",
      "execution_count": null,
      "metadata": {
        "id": "S13haoSndiCT"
      },
      "outputs": [],
      "source": [
        "cnt = 0\n",
        "for smile in df[\"Open Babel SMILES\"]:\n",
        "    mol = Chem.MolFromSmiles(smile)  # SMILES を RDKit Mol Object に変換し\n",
        "    new_smile = Chem.MolToSmiles(mol)  # それを SMILES に戻す\n",
        "    if smile != new_smile:  # もとの SMILES と新しい SMILES が違っていたら表示する\n",
        "        cnt += 1\n",
        "        print(cnt, \"\\t\", smile, \"\\t\", new_smile)"
      ]
    },
    {
      "cell_type": "markdown",
      "metadata": {
        "id": "Ngo0Z_nODW1I"
      },
      "source": [
        "# 電荷の中和"
      ]
    },
    {
      "cell_type": "code",
      "execution_count": null,
      "metadata": {
        "id": "3XdicSzjDbBe"
      },
      "outputs": [],
      "source": [
        "from rdkit.Chem import MolStandardize\n",
        "\n",
        "uc = MolStandardize.charge.Uncharger()\n",
        "\n",
        "smile = \"[NH3+][C@@H](Cc1c[nH]cn1)C(=O)[O-]\"\n",
        "before = Chem.MolFromSmiles(smile)\n",
        "after = uc.uncharge(before)\n",
        "smile2 = Chem.MolToSmiles(after)\n",
        "\n",
        "print(smile, \"=>\", smile2)\n",
        "Draw.MolsToGridImage([before, after])"
      ]
    },
    {
      "cell_type": "markdown",
      "metadata": {
        "id": "z34mofO7HJqe"
      },
      "source": [
        "# 脱塩"
      ]
    },
    {
      "cell_type": "code",
      "execution_count": null,
      "metadata": {
        "id": "Mkms846dHLJM"
      },
      "outputs": [],
      "source": [
        "from rdkit.Chem.SaltRemover import SaltRemover\n",
        "\n",
        "remover = SaltRemover(defnData=\"[Cl,Br,Na]\")\n",
        "\n",
        "smile = \"[NH3+][C@@H](Cc1c[nH]cn1)C(=O)[O-].[Na+].[Cl-]\"\n",
        "before = Chem.MolFromSmiles(smile)\n",
        "after = remover.StripMol(before)\n",
        "smile2 = Chem.MolToSmiles(after)\n",
        "\n",
        "print(smile, \"=>\", smile2)\n",
        "Draw.MolsToGridImage([before, after])"
      ]
    },
    {
      "cell_type": "markdown",
      "metadata": {
        "id": "rZTI3LS_IoYK"
      },
      "source": [
        "# 一番大きい分子だけ残す"
      ]
    },
    {
      "cell_type": "code",
      "execution_count": null,
      "metadata": {
        "id": "iHB7XBYiIrQR"
      },
      "outputs": [],
      "source": [
        "from rdkit.Chem import MolStandardize\n",
        "\n",
        "lfc = MolStandardize.fragment.LargestFragmentChooser()\n",
        "\n",
        "smile = \"[NH3+][C@@H](Cc1c[nH]cn1)C(=O)[O-].[Na+].[Cl-].[O-]C(=O)CCC(=O)[O-]\"\n",
        "before = Chem.MolFromSmiles(smile)\n",
        "after = lfc.choose(before)\n",
        "smile2 = Chem.MolToSmiles(after)\n",
        "\n",
        "print(smile, \"=>\", smile2)\n",
        "Draw.MolsToGridImage([before, after])"
      ]
    },
    {
      "cell_type": "markdown",
      "metadata": {
        "id": "D3JN67z0a0Z1"
      },
      "source": [
        "# 前処理を全部やる"
      ]
    },
    {
      "cell_type": "code",
      "execution_count": null,
      "metadata": {
        "id": "9rr_adAxa2iL"
      },
      "outputs": [],
      "source": [
        "from rdkit.Chem import MolStandardize\n",
        "from rdkit.Chem.SaltRemover import SaltRemover\n",
        "\n",
        "uc = MolStandardize.charge.Uncharger()\n",
        "remover = SaltRemover(defnData=\"[Cl,Br,Na]\")\n",
        "lfc = MolStandardize.fragment.LargestFragmentChooser()\n",
        "\n",
        "preprocessed_smiles = []\n",
        "for smile in df[\"Open Babel SMILES\"]:\n",
        "    mol = Chem.MolFromSmiles(smile)\n",
        "    smile = Chem.MolToSmiles(mol)\n",
        "    mol = uc.uncharge(mol)\n",
        "    mol = remover.StripMol(mol)\n",
        "    mol = lfc.choose(mol)\n",
        "    new_smile = Chem.MolToSmiles(mol)\n",
        "    preprocessed_smiles.append(new_smile)\n",
        "    if smile != new_smile:\n",
        "        print(smile, new_smile)"
      ]
    },
    {
      "cell_type": "markdown",
      "metadata": {
        "id": "92WJwsYJMGUO"
      },
      "source": [
        "# 部分構造検索"
      ]
    },
    {
      "cell_type": "code",
      "execution_count": null,
      "metadata": {
        "id": "3Q8fIAzGIKqP"
      },
      "outputs": [],
      "source": [
        "from rdkit.Chem import Draw\n",
        "\n",
        "smile = df[\"Open Babel SMILES\"][0]\n",
        "mol = Chem.MolFromSmiles(smile)\n",
        "mol.SetProp(\"_Name\", \"Recoom Ultra Fighting Miracle Bomber\")\n",
        "\n",
        "# ノートブック上に描画\n",
        "Draw.MolToImage(mol, legend=smile)"
      ]
    },
    {
      "cell_type": "code",
      "execution_count": null,
      "metadata": {
        "id": "mDWOwqOdNEVK"
      },
      "outputs": [],
      "source": [
        "# 検索したい部分構造パターン\n",
        "smart = \"CNC\"\n",
        "patt = Chem.MolFromSmarts(smart)\n",
        "Draw.MolToImage(patt, legend=smart)"
      ]
    },
    {
      "cell_type": "code",
      "execution_count": null,
      "metadata": {
        "id": "i9r4FxRIMyJ6"
      },
      "outputs": [],
      "source": [
        "# 指定した分子中で見つかったパターンのうち最初のもの\n",
        "mol.GetSubstructMatch(patt)"
      ]
    },
    {
      "cell_type": "code",
      "execution_count": null,
      "metadata": {
        "id": "etoMciVDqUOJ"
      },
      "outputs": [],
      "source": [
        "# 指定した原子をハイライトしたい\n",
        "from IPython.display import SVG\n",
        "from rdkit.Chem.Draw import rdMolDraw2D\n",
        "\n",
        "view = rdMolDraw2D.MolDraw2DSVG(300, 350)\n",
        "view.SetFontSize(0.9 * view.FontSize())\n",
        "tm = rdMolDraw2D.PrepareMolForDrawing(mol)\n",
        "option = view.drawOptions()\n",
        "option.multipleBondOffset = 0.07\n",
        "option.padding = 0.11\n",
        "option.legendFontSize = 20\n",
        "view.DrawMolecule(\n",
        "    tm,\n",
        "    highlightAtoms=mol.GetSubstructMatch(patt),\n",
        "    # highlightAtomColors=colors,\n",
        "    # highlightAtomRadii=radii,\n",
        "    legend=str(mol.GetSubstructMatch(patt)),\n",
        ")\n",
        "view.FinishDrawing()\n",
        "# 描画\n",
        "svg = view.GetDrawingText()\n",
        "SVG(svg)"
      ]
    },
    {
      "cell_type": "code",
      "execution_count": null,
      "metadata": {
        "id": "uslSQufZM1nA"
      },
      "outputs": [],
      "source": [
        "# 指定した分子中で見つかったパターン全部\n",
        "mol.GetSubstructMatches(patt)"
      ]
    },
    {
      "cell_type": "code",
      "execution_count": null,
      "metadata": {
        "id": "fVMyulgXrxck"
      },
      "outputs": [],
      "source": [
        "# 指定した原子をハイライトしたい\n",
        "matches = mol.GetSubstructMatches(patt)\n",
        "tm = rdMolDraw2D.PrepareMolForDrawing(mol)\n",
        "yoko = 640\n",
        "tate = 280\n",
        "n_col = 4\n",
        "n_row = 2\n",
        "view = rdMolDraw2D.MolDraw2DSVG(\n",
        "    yoko, tate, int(yoko / n_col * 0.9), int(tate / n_row * 0.9)\n",
        ")\n",
        "\n",
        "view.DrawMolecules(\n",
        "    [tm] * len(matches),\n",
        "    highlightAtoms=matches,\n",
        "    legends=[\",\".join([str(n) for n in match]) for match in matches],\n",
        ")\n",
        "# 描画\n",
        "view.FinishDrawing()\n",
        "svg = view.GetDrawingText()\n",
        "SVG(svg)"
      ]
    },
    {
      "cell_type": "code",
      "execution_count": null,
      "metadata": {
        "id": "Djrz8ivnDv31"
      },
      "outputs": [],
      "source": [
        "# 検索したい部分構造パターン\n",
        "smart = \"c1ccc2[nH]ccc2c1\"\n",
        "patt = Chem.MolFromSmarts(smart)\n",
        "Draw.MolToImage(patt, legend=smart)"
      ]
    },
    {
      "cell_type": "code",
      "execution_count": null,
      "metadata": {
        "id": "aaV8xk6CM6hn"
      },
      "outputs": [],
      "source": [
        "mols = []\n",
        "for smile, id in zip(df[\"Open Babel SMILES\"], df[\"PCCDB-ID\"]):\n",
        "    mol = Chem.MolFromSmiles(smile)\n",
        "    mol.SetProp(\"_Name\", str(id))\n",
        "    if mol.HasSubstructMatch(patt):  # パターンを含む分子のみ mols に格納する\n",
        "        mols.append(mol)\n",
        "\n",
        "len(mols)  # 格納された分子の数"
      ]
    },
    {
      "cell_type": "code",
      "execution_count": null,
      "metadata": {
        "id": "Zckme-F0Nphb"
      },
      "outputs": [],
      "source": [
        "# 描画\n",
        "matches = [mol.GetSubstructMatches(patt)[0] for mol in mols]\n",
        "\n",
        "Draw.MolsToGridImage(\n",
        "    mols,\n",
        "    molsPerRow=5,\n",
        "    subImgSize=(160, 160),\n",
        "    highlightAtomLists=matches,\n",
        "    legends=[x.GetProp(\"_Name\") for x in mols],\n",
        ")"
      ]
    },
    {
      "cell_type": "code",
      "execution_count": null,
      "metadata": {
        "id": "CdQy-LebSXsD"
      },
      "outputs": [],
      "source": [
        "# 指定した部分構造の向きを揃えて描画したい\n",
        "from rdkit.Chem import AllChem\n",
        "\n",
        "mols = []\n",
        "AllChem.Compute2DCoords(patt)  # 部分構造の2D座標を計算する\n",
        "for smile, id in zip(df[\"Open Babel SMILES\"], df[\"PCCDB-ID\"]):\n",
        "    mol = Chem.MolFromSmiles(smile)\n",
        "    mol.SetProp(\"_Name\", str(id))\n",
        "    if mol.HasSubstructMatch(patt):  # パターンを含む分子のみ mols に格納する\n",
        "        AllChem.GenerateDepictionMatching2DStructure(mol, patt)  # 向きを揃える\n",
        "        mols.append(mol)\n",
        "\n",
        "matches = [mol.GetSubstructMatches(patt)[0] for mol in mols]\n",
        "\n",
        "len(mols)  # 格納された分子の数\n",
        "\n",
        "# 描画\n",
        "Draw.MolsToGridImage(\n",
        "    mols[x_start:x_end],\n",
        "    molsPerRow=5,\n",
        "    subImgSize=(160, 160),\n",
        "    highlightAtomLists=matches,\n",
        "    legends=[x.GetProp(\"_Name\") for x in mols],\n",
        ")"
      ]
    },
    {
      "cell_type": "markdown",
      "metadata": {
        "id": "M71dUdFjR69z"
      },
      "source": [
        "## 部分構造検索の注意点\n"
      ]
    },
    {
      "cell_type": "code",
      "execution_count": null,
      "metadata": {
        "id": "US7XdackHPQw"
      },
      "outputs": [],
      "source": [
        "# 検索したい部分構造パターン\n",
        "smart = \"c1ccccc1\"\n",
        "patt = Chem.MolFromSmarts(smart)\n",
        "Draw.MolToImage(patt, legend=smart)"
      ]
    },
    {
      "cell_type": "code",
      "execution_count": null,
      "metadata": {
        "id": "toABgG9QNtAv"
      },
      "outputs": [],
      "source": [
        "ids1 = []\n",
        "patt = Chem.MolFromSmarts(\"c1ccccc1\")  # SMARTSを使ったパターン\n",
        "for smile, id in zip(df[\"Open Babel SMILES\"], df[\"PCCDB-ID\"]):\n",
        "    mol = Chem.MolFromSmiles(smile)\n",
        "    mol.SetProp(\"_Name\", str(id))\n",
        "    if mol.HasSubstructMatch(patt):\n",
        "        ids1.append(id)\n",
        "\n",
        "print(len(ids1))"
      ]
    },
    {
      "cell_type": "code",
      "execution_count": null,
      "metadata": {
        "id": "IfseiYKKN8_F"
      },
      "outputs": [],
      "source": [
        "ids2 = []\n",
        "patt = Chem.MolFromSmiles(\"c1ccccc1\")  # SMILESを使ったパターン\n",
        "for smile, id in zip(df[\"Open Babel SMILES\"], df[\"PCCDB-ID\"]):\n",
        "    mol = Chem.MolFromSmiles(smile)\n",
        "    mol.SetProp(\"_Name\", str(id))\n",
        "    if mol.HasSubstructMatch(patt):\n",
        "        ids2.append(id)\n",
        "\n",
        "print(len(ids2))"
      ]
    },
    {
      "cell_type": "code",
      "execution_count": null,
      "metadata": {
        "id": "422lbu1GODi9"
      },
      "outputs": [],
      "source": [
        "set(ids1) - set(ids2)  # SMARTSとSMILESで結果が異なることがある"
      ]
    },
    {
      "cell_type": "code",
      "execution_count": null,
      "metadata": {
        "id": "l5jV6MDQOz13"
      },
      "outputs": [],
      "source": [
        "# 結果が異なる例を表示\n",
        "for id in set(ids1) - set(ids2):\n",
        "    smile = list(df[df[\"PCCDB-ID\"] == id][\"Open Babel SMILES\"])[0]\n",
        "    print(smile)\n",
        "    mol = Chem.MolFromSmiles(smile)\n",
        "    display(Draw.MolToImage(mol))"
      ]
    },
    {
      "cell_type": "markdown",
      "metadata": {
        "id": "uDvB4q7wSP15"
      },
      "source": [
        "## 部分構造検索における立体化学\n",
        "\n"
      ]
    },
    {
      "cell_type": "code",
      "execution_count": null,
      "metadata": {
        "id": "_VDnqTYKPXI5"
      },
      "outputs": [],
      "source": [
        "mols = []\n",
        "patt = Chem.MolFromSmiles(\"C[C@H](N)CO\")\n",
        "for smile, id in zip(df[\"Open Babel SMILES\"], df[\"PCCDB-ID\"]):\n",
        "    mol = Chem.MolFromSmiles(smile)\n",
        "    mol.SetProp(\"_Name\", str(id))\n",
        "    if mol.HasSubstructMatch(patt, useChirality=True):  # useChirality=True\n",
        "        mols.append(mol)\n",
        "\n",
        "print(len(mols))\n",
        "\n",
        "x_start = 0\n",
        "x_end = 5\n",
        "Draw.MolsToGridImage(\n",
        "    mols[x_start:x_end],\n",
        "    molsPerRow=5,\n",
        "    subImgSize=(200, 200),\n",
        "    legends=[x.GetProp(\"_Name\") for x in mols[x_start:x_end]],\n",
        ")"
      ]
    },
    {
      "cell_type": "code",
      "execution_count": null,
      "metadata": {
        "id": "PhjgoeiHQIzB"
      },
      "outputs": [],
      "source": [
        "mols = []\n",
        "patt = Chem.MolFromSmiles(\"C[C@@H](N)CO\")\n",
        "for smile, id in zip(df[\"Open Babel SMILES\"], df[\"PCCDB-ID\"]):\n",
        "    mol = Chem.MolFromSmiles(smile)\n",
        "    mol.SetProp(\"_Name\", str(id))\n",
        "    if mol.HasSubstructMatch(patt, useChirality=True):  # useChirality=True\n",
        "        mols.append(mol)\n",
        "\n",
        "print(len(mols))\n",
        "\n",
        "x_start = 0\n",
        "x_end = 5\n",
        "Draw.MolsToGridImage(\n",
        "    mols[x_start:x_end],\n",
        "    molsPerRow=5,\n",
        "    subImgSize=(200, 200),\n",
        "    legends=[x.GetProp(\"_Name\") for x in mols[x_start:x_end]],\n",
        ")"
      ]
    },
    {
      "cell_type": "markdown",
      "metadata": {
        "id": "jAZwV6ZAZ4dp"
      },
      "source": [
        "# ３D構造の生成"
      ]
    },
    {
      "cell_type": "code",
      "execution_count": null,
      "metadata": {
        "id": "VKHhnxVrWZX-"
      },
      "outputs": [],
      "source": [
        "from rdkit.Chem import Draw\n",
        "\n",
        "smile = df[\"Open Babel SMILES\"][0]\n",
        "mol = Chem.MolFromSmiles(smile)\n",
        "mol.SetProp(\"_Name\", smile)\n",
        "\n",
        "# ノートブック上に描画\n",
        "Draw.MolToImage(mol, legend=mol.GetProp(\"_Name\"))"
      ]
    },
    {
      "cell_type": "code",
      "execution_count": null,
      "metadata": {
        "id": "ktbkBgBvWd2f"
      },
      "outputs": [],
      "source": [
        "print(Chem.MolToMolBlock(mol))"
      ]
    },
    {
      "cell_type": "code",
      "execution_count": null,
      "metadata": {
        "id": "SVgT9fNFVjGG"
      },
      "outputs": [],
      "source": [
        "mol = Chem.AddHs(mol)\n",
        "AllChem.EmbedMolecule(mol)\n",
        "mol = Chem.RemoveHs(mol)\n",
        "print(Chem.MolToMolBlock(mol))"
      ]
    },
    {
      "cell_type": "markdown",
      "metadata": {
        "id": "-h1lMEuAcYXn"
      },
      "source": [
        "# 3Dの描画\n",
        "\n",
        "参考記事：https://future-chem.com/py3dmol/"
      ]
    },
    {
      "cell_type": "code",
      "execution_count": null,
      "metadata": {
        "id": "OBmZYqrrXEz1"
      },
      "outputs": [],
      "source": [
        "!pip install py3Dmol"
      ]
    },
    {
      "cell_type": "code",
      "execution_count": null,
      "metadata": {
        "id": "CC4If__QYHrs"
      },
      "outputs": [],
      "source": [
        "import py3Dmol\n",
        "from rdkit.Chem.Draw import IPythonConsole\n",
        "\n",
        "view = py3Dmol.view(width=600, height=400, linked=False, viewergrid=(1, 1))\n",
        "view.addModel(Chem.MolToMolBlock(mol), \"sdf\", {\"keepH\": False})\n",
        "view.setStyle({\"stick\": {}}, viewer=(0, 0))\n",
        "# view.setStyle({'sphere': {}}, viewer=(0, 0))\n",
        "# view.setStyle({'line': {'linewidth': 50}}, viewer=(0,0))\n",
        "view.setBackgroundColor(\"#000000\", viewer=(0, 0))\n",
        "view.show()"
      ]
    },
    {
      "cell_type": "code",
      "execution_count": null,
      "metadata": {
        "id": "0c3ypPQoYwR3"
      },
      "outputs": [],
      "source": [
        "mols = []  # 複数の RDKit Mol を格納するリスト\n",
        "for smile, id in zip(df[\"Open Babel SMILES\"], df[\"PCCDB-ID\"]):\n",
        "    mol = Chem.MolFromSmiles(smile)  # SMILES　を　RDKit Mol　に変換\n",
        "    mol.SetProp(\"_Name\", str(id))  # 名前をつける\n",
        "    mols.append(mol)  # リストに格納する\n",
        "\n",
        "add_mols = []\n",
        "for m in mols[:6]:\n",
        "    m_h = Chem.AddHs(m)\n",
        "    AllChem.EmbedMolecule(m_h, AllChem.ETKDGv2())\n",
        "    add_mols.append(m_h)\n",
        "color_scheme = [\"cyanCarbon\", \"blackCarbon\", \"ssPyMOL\", \"ssJmol\", \"Jmol\", \"default\"]\n",
        "view = py3Dmol.view(width=680, height=400, viewergrid=(2, 3), linked=False)\n",
        "for (n, (i, j)), c in zip(\n",
        "    enumerate([(a, b) for a in range(2) for b in range(3)]), color_scheme\n",
        "):\n",
        "    mb = Chem.MolToMolBlock(add_mols[n])\n",
        "    view.addModel(mb, \"sdf\", {\"keepH\": False}, viewer=(i, j))\n",
        "    view.setStyle({\"stick\": {\"colorscheme\": c}}, viewer=(i, j))\n",
        "view.zoomTo()\n",
        "view.show()"
      ]
    },
    {
      "cell_type": "markdown",
      "metadata": {
        "id": "BUpa4O4HXkot"
      },
      "source": [
        "# Recap\n",
        "\n",
        "Recapは、実験室でよく使われる反応を模倣した化学変換のセットを使って、分子を一連の合理的なフラグメントに分解します。\n",
        "\n",
        "Lewell, X.Q.; Judd, D.B.; Watson, S.P.; Hann, M.M. “RECAP-Retrosynthetic Combinatorial Analysis Procedure: A Powerful New Technique for Identifying Privileged Molecular Fragments with Useful Applications in Combinatorial Chemistry” J. Chem. Inf. Comp. Sci. 38:511-22 (1998)."
      ]
    },
    {
      "cell_type": "code",
      "execution_count": null,
      "metadata": {
        "id": "QZlAqTc1YYc8"
      },
      "outputs": [],
      "source": [
        "smile = df[\"Open Babel SMILES\"][0]\n",
        "print(smile)\n",
        "mol = Chem.MolFromSmiles(smile)\n",
        "Draw.MolToImage(mol)"
      ]
    },
    {
      "cell_type": "code",
      "execution_count": null,
      "metadata": {
        "id": "i5wwnuUAXRzr"
      },
      "outputs": [],
      "source": [
        "from rdkit.Chem import Recap\n",
        "\n",
        "# Recap アルゴリズムによる化学フラグメント分解\n",
        "hierarch = Recap.RecapDecompose(mol)\n",
        "ks = hierarch.children\n",
        "ks"
      ]
    },
    {
      "cell_type": "code",
      "execution_count": null,
      "metadata": {
        "id": "oLLBlN2sXxqi"
      },
      "outputs": [],
      "source": [
        "# 得られたフラグメントの描画\n",
        "Draw.MolsToGridImage(\n",
        "    [Chem.MolFromSmiles(k) for k in ks.keys()],\n",
        "    molsPerRow=5,\n",
        "    subImgSize=(200, 200),\n",
        "    legends=list(ks.keys()),\n",
        ")"
      ]
    },
    {
      "cell_type": "markdown",
      "metadata": {
        "id": "EBChUCSBZoZ1"
      },
      "source": [
        "# BRICS\n",
        "\n",
        "BRICSは合成的に利用可能な結合に沿って分子をフラグメント化するもう一つの方法です\n",
        "\n",
        "Degen, J.; Wegscheid-Gerlach, C.; Zaliani, A; Rarey, M. \"On the Art of Compiling and Using ‘Drug-Like’ Chemical Fragment Spaces.\" ChemMedChem 3:1503–7 (2008)"
      ]
    },
    {
      "cell_type": "code",
      "execution_count": null,
      "metadata": {
        "id": "S4hzsiqPYoJ3"
      },
      "outputs": [],
      "source": [
        "from rdkit.Chem import BRICS\n",
        "\n",
        "# BRICS アルゴリズムによる化学フラグメント分解\n",
        "fragments = BRICS.BRICSDecompose(mol)\n",
        "\n",
        "# 得られたフラグメントの描画\n",
        "Draw.MolsToGridImage(\n",
        "    [Chem.MolFromSmiles(k) for k in list(fragments)],\n",
        "    molsPerRow=5,\n",
        "    subImgSize=(200, 200),\n",
        "    legends=list(fragments),\n",
        ")"
      ]
    },
    {
      "cell_type": "code",
      "execution_count": null,
      "metadata": {
        "id": "9Bd2DVSWZuwr"
      },
      "outputs": [],
      "source": [
        "# フラグメント化したい分子の集合を作る\n",
        "mols = []\n",
        "for smile, id in zip(df[\"Open Babel SMILES\"], df[\"PCCDB-ID\"]):\n",
        "    mol = Chem.MolFromSmiles(smile)\n",
        "    mol.SetProp(\"_Name\", str(id))\n",
        "    mols.append(mol)\n",
        "\n",
        "x_start = 0\n",
        "x_end = 10\n",
        "Draw.MolsToGridImage(\n",
        "    mols[x_start:x_end],\n",
        "    molsPerRow=5,\n",
        "    subImgSize=(200, 200),\n",
        "    legends=[x.GetProp(\"_Name\") for x in mols[x_start:x_end]],\n",
        ")"
      ]
    },
    {
      "cell_type": "code",
      "execution_count": null,
      "metadata": {
        "id": "VfexQ3D-a2Xm"
      },
      "outputs": [],
      "source": [
        "# 分子の集合から、フラグメントの集合を得る\n",
        "allfrags = set()\n",
        "for mol in mols[x_start:x_end]:\n",
        "    fragment = BRICS.BRICSDecompose(mol)\n",
        "    allfrags.update(fragment)\n",
        "\n",
        "print(len(allfrags))  # 得られたフラグメントの数\n",
        "\n",
        "# フラグメントの集合の描画\n",
        "Draw.MolsToGridImage(\n",
        "    [Chem.MolFromSmiles(f) for f in allfrags],\n",
        "    molsPerRow=5,\n",
        "    subImgSize=(200, 200),\n",
        "    legends=list(allfrags),\n",
        ")"
      ]
    },
    {
      "cell_type": "code",
      "execution_count": null,
      "metadata": {
        "id": "zuCNF85IbYTF"
      },
      "outputs": [],
      "source": [
        "# フラグメントの集合にBRICSのルールを適用して新しい分子を生成する\n",
        "fragms = [Chem.MolFromSmiles(x) for x in allfrags]\n",
        "\n",
        "products = []\n",
        "for mol in BRICS.BRICSBuild(fragms):\n",
        "    mol.UpdatePropertyCache(strict=False)\n",
        "    products.append(mol)\n",
        "    if len(products) >= 25:\n",
        "        break\n",
        "\n",
        "# 得られた新しい分子の描画\n",
        "Draw.MolsToGridImage(\n",
        "    products,\n",
        "    molsPerRow=5,\n",
        "    subImgSize=(200, 200),\n",
        "    legends=[Chem.MolToSmiles(mol) for mol in products],\n",
        ")"
      ]
    },
    {
      "cell_type": "markdown",
      "metadata": {
        "id": "g9OGueYDJ0E1"
      },
      "source": [
        "# 分子ごとの化学記述子"
      ]
    },
    {
      "cell_type": "code",
      "execution_count": null,
      "metadata": {
        "id": "6VZmPGRJJ4LL"
      },
      "outputs": [],
      "source": [
        "smile = df[\"Open Babel SMILES\"][0]\n",
        "print(smile)\n",
        "mol = Chem.MolFromSmiles(smile)\n",
        "Draw.MolToImage(mol)"
      ]
    },
    {
      "cell_type": "markdown",
      "metadata": {
        "id": "FfnxeFvNXmVy"
      },
      "source": [
        "トポロジカル極性表面積"
      ]
    },
    {
      "cell_type": "code",
      "execution_count": null,
      "metadata": {
        "id": "XK5qLF6iJ7QN"
      },
      "outputs": [],
      "source": [
        "from rdkit.Chem import Descriptors\n",
        "\n",
        "Descriptors.TPSA(mol)"
      ]
    },
    {
      "cell_type": "markdown",
      "metadata": {
        "id": "pcM7CUjQXxCQ"
      },
      "source": [
        "Crippenらによる原子ベースのLogP指標"
      ]
    },
    {
      "cell_type": "code",
      "execution_count": null,
      "metadata": {
        "id": "TTtenbEtJ9_t"
      },
      "outputs": [],
      "source": [
        "from rdkit.Chem import Descriptors\n",
        "\n",
        "Descriptors.MolLogP(mol)"
      ]
    },
    {
      "cell_type": "markdown",
      "metadata": {
        "id": "sI7BAYKEX-P4"
      },
      "source": [
        "分子量"
      ]
    },
    {
      "cell_type": "code",
      "execution_count": null,
      "metadata": {
        "id": "-Y_07Jc4CcJZ"
      },
      "outputs": [],
      "source": [
        "from rdkit.Chem import Descriptors\n",
        "\n",
        "Descriptors.MolWt(mol)"
      ]
    },
    {
      "cell_type": "markdown",
      "metadata": {
        "id": "L4TdiHjQYnmG"
      },
      "source": [
        "非水素原子の数"
      ]
    },
    {
      "cell_type": "code",
      "execution_count": null,
      "metadata": {
        "id": "thXZ4oOeCu9O"
      },
      "outputs": [],
      "source": [
        "from rdkit.Chem import Descriptors\n",
        "\n",
        "Descriptors.HeavyAtomCount(mol)"
      ]
    },
    {
      "cell_type": "markdown",
      "metadata": {
        "id": "7I0y1DgVYsgm"
      },
      "source": [
        "水素結合アクセプターの数"
      ]
    },
    {
      "cell_type": "code",
      "execution_count": null,
      "metadata": {
        "id": "KlomW4VrC4oB"
      },
      "outputs": [],
      "source": [
        "from rdkit.Chem import Descriptors\n",
        "\n",
        "Descriptors.NumHAcceptors(mol)"
      ]
    },
    {
      "cell_type": "markdown",
      "metadata": {
        "id": "2fDGNUGEZIfx"
      },
      "source": [
        "水素結合ドナーの数"
      ]
    },
    {
      "cell_type": "code",
      "execution_count": null,
      "metadata": {
        "id": "7bWcIFKNC-Wc"
      },
      "outputs": [],
      "source": [
        "from rdkit.Chem import Descriptors\n",
        "\n",
        "Descriptors.NumHDonors(mol)"
      ]
    },
    {
      "cell_type": "markdown",
      "metadata": {
        "id": "KcG7WVXEZNs1"
      },
      "source": [
        "へテロ元素の数"
      ]
    },
    {
      "cell_type": "code",
      "execution_count": null,
      "metadata": {
        "id": "zNy_9w3tDChU"
      },
      "outputs": [],
      "source": [
        "from rdkit.Chem import Descriptors\n",
        "\n",
        "Descriptors.NumHeteroatoms(mol)"
      ]
    },
    {
      "cell_type": "markdown",
      "metadata": {
        "id": "E2p94zT4ZTPN"
      },
      "source": [
        "回転可能な結合数"
      ]
    },
    {
      "cell_type": "code",
      "execution_count": null,
      "metadata": {
        "id": "1wZtoWq8DH1D"
      },
      "outputs": [],
      "source": [
        "from rdkit.Chem import Descriptors\n",
        "\n",
        "Descriptors.NumRotatableBonds(mol)"
      ]
    },
    {
      "cell_type": "markdown",
      "metadata": {
        "id": "Z1PJJWNAZYy_"
      },
      "source": [
        "環の数"
      ]
    },
    {
      "cell_type": "code",
      "execution_count": null,
      "metadata": {
        "id": "DBf8NK8MDLLB"
      },
      "outputs": [],
      "source": [
        "from rdkit.Chem import Descriptors\n",
        "\n",
        "Descriptors.RingCount(mol)"
      ]
    },
    {
      "cell_type": "markdown",
      "metadata": {
        "id": "DM5GkjR_ZlS4"
      },
      "source": [
        "全炭素数におけるsp3炭素の割合"
      ]
    },
    {
      "cell_type": "code",
      "execution_count": null,
      "metadata": {
        "id": "Cf_jIJIGDVPU"
      },
      "outputs": [],
      "source": [
        "from rdkit.Chem import Descriptors\n",
        "\n",
        "Descriptors.FractionCSP3(mol)"
      ]
    },
    {
      "cell_type": "markdown",
      "metadata": {
        "id": "uv9bfNBnG06s"
      },
      "source": [
        "## 計算可能な記述子を列挙してマトリクスを作る\n"
      ]
    },
    {
      "cell_type": "code",
      "execution_count": null,
      "metadata": {
        "id": "CnabRD7eEWSE"
      },
      "outputs": [],
      "source": [
        "desc_names = [x[0] for x in Descriptors._descList if x[0]]\n",
        "print(desc_names)"
      ]
    },
    {
      "cell_type": "code",
      "execution_count": null,
      "metadata": {
        "id": "xHH7mcvLaYWF"
      },
      "outputs": [],
      "source": [
        "len(desc_names)"
      ]
    },
    {
      "cell_type": "code",
      "execution_count": null,
      "metadata": {
        "id": "zQ4vRhZ3EgKx"
      },
      "outputs": [],
      "source": [
        "from rdkit.Chem import MolStandardize\n",
        "from rdkit.Chem.SaltRemover import SaltRemover\n",
        "from rdkit.ML.Descriptors import MoleculeDescriptors\n",
        "\n",
        "uc = MolStandardize.charge.Uncharger()\n",
        "remover = SaltRemover(defnData=\"[Cl,Br,Na]\")\n",
        "lfc = MolStandardize.fragment.LargestFragmentChooser()\n",
        "calc = MoleculeDescriptors.MolecularDescriptorCalculator(desc_names)\n",
        "\n",
        "matrix = []\n",
        "for smile, id in zip(df[\"Open Babel SMILES\"], df[\"PCCDB-ID\"]):\n",
        "    row = []\n",
        "    row.append(id)\n",
        "    mol = Chem.MolFromSmiles(smile)\n",
        "    mol = uc.uncharge(mol)\n",
        "    mol = remover.StripMol(mol)\n",
        "    mol = lfc.choose(mol)\n",
        "    row.append(Chem.MolToSmiles(mol))\n",
        "    for d in calc.CalcDescriptors(mol):\n",
        "        row.append(d)\n",
        "    matrix.append(row)\n",
        "\n",
        "desc_df = pd.DataFrame(matrix, columns=[\"ID\", \"SMILES\"] + desc_names)\n",
        "desc_df"
      ]
    },
    {
      "cell_type": "markdown",
      "metadata": {
        "id": "PPumV8nlfCT5"
      },
      "source": [
        "# 原子ごとの物理化学的特徴\n"
      ]
    },
    {
      "cell_type": "code",
      "execution_count": null,
      "metadata": {
        "id": "NdF8Mb9QfOgO"
      },
      "outputs": [],
      "source": [
        "smile = df[\"Open Babel SMILES\"][0]\n",
        "print(smile)\n",
        "mol = Chem.MolFromSmiles(smile)\n",
        "Draw.MolToImage(mol)"
      ]
    },
    {
      "cell_type": "code",
      "execution_count": null,
      "metadata": {
        "id": "rGuxxLC1KATF"
      },
      "outputs": [],
      "source": [
        "from rdkit.Chem import AllChem\n",
        "\n",
        "AllChem.ComputeGasteigerCharges(mol)\n",
        "for id, atom in enumerate(mol.GetAtoms()):\n",
        "    print(id + 1, atom.GetSymbol(), atom.GetProp(\"_GasteigerCharge\"))"
      ]
    },
    {
      "cell_type": "code",
      "execution_count": null,
      "metadata": {
        "id": "23u5QL57d2qw"
      },
      "outputs": [],
      "source": [
        "import os\n",
        "\n",
        "from rdkit import RDConfig\n",
        "from rdkit.Chem import ChemicalFeatures\n",
        "\n",
        "fdefName = os.path.join(RDConfig.RDDataDir, \"BaseFeatures.fdef\")\n",
        "factory = ChemicalFeatures.BuildFeatureFactory(fdefName)\n",
        "\n",
        "for i, feat in enumerate(factory.GetFeaturesForMol(mol)):\n",
        "    print(i, feat.GetFamily(), feat.GetType(), feat.GetAtomIds())"
      ]
    },
    {
      "cell_type": "markdown",
      "metadata": {
        "id": "eNDABSY1hwtz"
      },
      "source": [
        "## SASA (solvent accessible surface area)\n",
        "\n"
      ]
    },
    {
      "cell_type": "code",
      "execution_count": null,
      "metadata": {
        "id": "DoCt1m5zgS8C"
      },
      "outputs": [],
      "source": [
        "from rdkit.Chem import rdFreeSASA\n",
        "\n",
        "mol = Chem.AddHs(mol)\n",
        "AllChem.EmbedMolecule(mol)\n",
        "\n",
        "radii = rdFreeSASA.classifyAtoms(mol)\n",
        "rdFreeSASA.CalcSASA(mol, radii)"
      ]
    },
    {
      "cell_type": "code",
      "execution_count": null,
      "metadata": {
        "id": "QaqomdKhg3by"
      },
      "outputs": [],
      "source": [
        "atoms = mol.GetAtoms()\n",
        "for i in range(len(atoms)):\n",
        "    print(i, atoms[i].GetSymbol(), atoms[i].GetProp(\"SASA\"))"
      ]
    },
    {
      "cell_type": "markdown",
      "metadata": {
        "id": "DQ63laQBPlM7"
      },
      "source": [
        "# 2Dファーマコフォアフィンガープリント"
      ]
    },
    {
      "cell_type": "code",
      "execution_count": null,
      "metadata": {
        "id": "Op4trm1IO7EQ"
      },
      "outputs": [],
      "source": [
        "from rdkit import Chem\n",
        "from rdkit.Chem import ChemicalFeatures\n",
        "from rdkit.Chem.Pharm2D.SigFactory import SigFactory\n",
        "\n",
        "fdefName = os.path.join(RDConfig.RDDataDir, \"BaseFeatures.fdef\")\n",
        "featFactory = ChemicalFeatures.BuildFeatureFactory(fdefName)\n",
        "sigFactory = SigFactory(featFactory, minPointCount=2, maxPointCount=3)\n",
        "\n",
        "# 距離をビン分割して、それぞれのファーマコフォアに一意の整数値のIDを割り当てる\n",
        "sigFactory.SetBins([(0, 2), (2, 5), (5, 8)])\n",
        "sigFactory.Init()\n",
        "sigFactory.GetSigSize()"
      ]
    },
    {
      "cell_type": "code",
      "execution_count": null,
      "metadata": {
        "id": "xLpxcEiNQQTn"
      },
      "outputs": [],
      "source": [
        "# 2Dファーマコフォアフィンガープリントの作成\n",
        "from rdkit.Chem.Pharm2D import Generate\n",
        "\n",
        "fp = Generate.Gen2DFingerprint(mol, sigFactory)\n",
        "len(fp)  # フィンガープリントの長さ"
      ]
    },
    {
      "cell_type": "code",
      "execution_count": null,
      "metadata": {
        "id": "YWutt_ELQiFW"
      },
      "outputs": [],
      "source": [
        "fp.GetNumOnBits()  # 立っているビットの数"
      ]
    },
    {
      "cell_type": "code",
      "execution_count": null,
      "metadata": {
        "id": "4P2CGH-gQj3J"
      },
      "outputs": [],
      "source": [
        "# 立っているビットの内訳\n",
        "for bit in list(fp.GetOnBits()):\n",
        "    print(bit, sigFactory.GetBitDescription(bit))"
      ]
    },
    {
      "cell_type": "markdown",
      "metadata": {
        "id": "MaJJOU6qQN9v"
      },
      "source": [
        "Gobbi & Poppinger 定義の２Dファーマコフォアを用いる\n",
        "\n",
        "Gobbi, A. & Poppinger, D. \"Genetic optimization of combinatorial libraries.\" Biotechnology and Bioengineering 61:47-54 (1998)."
      ]
    },
    {
      "cell_type": "code",
      "execution_count": null,
      "metadata": {
        "id": "7ESMwYEQQyj7"
      },
      "outputs": [],
      "source": [
        "from rdkit import Chem\n",
        "from rdkit.Chem.Pharm2D import Generate, Gobbi_Pharm2D\n",
        "\n",
        "fp = Generate.Gen2DFingerprint(mol, Gobbi_Pharm2D.factory)\n",
        "len(fp)  # フィンガープリントの長さ"
      ]
    },
    {
      "cell_type": "code",
      "execution_count": null,
      "metadata": {
        "id": "rTckGut7K967"
      },
      "outputs": [],
      "source": [
        "fp.GetNumOnBits()  # 立っているビットの数"
      ]
    },
    {
      "cell_type": "code",
      "execution_count": null,
      "metadata": {
        "id": "NLtavmBQQ1pL"
      },
      "outputs": [],
      "source": [
        "# 立っているビットの内訳\n",
        "for bit in list(fp.GetOnBits()):\n",
        "    print(bit, Gobbi_Pharm2D.factory.GetBitDescription(bit))"
      ]
    },
    {
      "cell_type": "markdown",
      "metadata": {
        "id": "v9tt3Cj6mSCg"
      },
      "source": [
        "# フィンガープリントを用いた類似分子検索\n",
        "\n"
      ]
    },
    {
      "cell_type": "code",
      "execution_count": null,
      "metadata": {
        "id": "TIV8uEaRkiQO"
      },
      "outputs": [],
      "source": [
        "smile = df[\"Open Babel SMILES\"][0]\n",
        "print(smile)\n",
        "query_mol = Chem.MolFromSmiles(smile)\n",
        "Draw.MolToImage(query_mol)"
      ]
    },
    {
      "cell_type": "code",
      "execution_count": null,
      "metadata": {
        "id": "c6FF4ir4ktLU"
      },
      "outputs": [],
      "source": [
        "from rdkit import DataStructs\n",
        "from rdkit.Avalon import pyAvalonTools\n",
        "from rdkit.Chem import AllChem, MACCSkeys\n",
        "from rdkit.Chem.AtomPairs import Pairs, Torsions\n",
        "from rdkit.Chem.Fingerprints import FingerprintMols\n",
        "\n",
        "# フィンガープリントいろいろ\n",
        "get_fp = lambda mol: MACCSkeys.GenMACCSKeys(mol)\n",
        "# get_fp = lambda mol: AllChem.GetMorganFingerprintAsBitVect(mol, 2, nBits=1024)\n",
        "# get_fp = lambda mol: AllChem.GetMorganFingerprintAsBitVect(mol, 2, nBits=1024, useFeatures=True)\n",
        "# get_fp = lambda mol: AllChem.GetMorganFingerprintAsBitVect(mol, 4, nBits=1024)\n",
        "# get_fp = lambda mol: AllChem.GetMorganFingerprintAsBitVect(mol, 4, nBits=1024, useFeatures=True)\n",
        "# get_fp = lambda mol: Pairs.GetAtomPairFingerprintAsBitVect(mol)\n",
        "# get_fp = lambda mol: FingerprintMols.FingerprintMol(mol) #Topological Fingerprint\n",
        "# get_fp = lambda mol: Torsions.GetTopologicalTorsionFingerprintAsIntVect(mol)\n",
        "# get_fp = lambda mol: pyAvalonTools.GetAvalonFP(mol)\n",
        "\n",
        "# 類似性指標もいろいろ\n",
        "metric = DataStructs.TanimotoSimilarity\n",
        "# metric = DataStructs.DiceSimilarity\n",
        "# metric = DataStructs.CosineSimilarity\n",
        "# metric = DataStructs.SokalSimilarity\n",
        "# metric = DataStructs.RusselSimilarity\n",
        "# metric = DataStructs.KulczynskiSimilarity\n",
        "# metric = DataStructs.McConnaugheySimilarity"
      ]
    },
    {
      "cell_type": "code",
      "execution_count": null,
      "metadata": {
        "id": "f2_R8qxvUXhZ"
      },
      "outputs": [],
      "source": [
        "query_fp = get_fp(query_mol)\n",
        "\n",
        "mols = []\n",
        "fps = []  # 複数のリンガープリントを格納するリスト\n",
        "for smile, id in zip(df[\"Open Babel SMILES\"], df[\"PCCDB-ID\"]):\n",
        "    mol = Chem.MolFromSmiles(smile)  # SMILES　を　RDKit Mol　に変換\n",
        "    mol.SetProp(\"_Name\", str(id))  # 名前をつける\n",
        "    fp = get_fp(mol)\n",
        "    fps.append(fp)  # リストに格納する\n",
        "    mols.append(mol)\n",
        "\n",
        "results = []\n",
        "for i, fp in enumerate(fps):\n",
        "    results.append([DataStructs.FingerprintSimilarity(query_fp, fp, metric=metric), i])\n",
        "\n",
        "searched_mols = []\n",
        "similarity_values = []\n",
        "for sim, i in reversed(sorted(results)):\n",
        "    searched_mols.append(mols[i])\n",
        "    similarity_values.append(sim)\n",
        "\n",
        "x_start = 0  # 表示したい最初の化合物\n",
        "x_end = 10  # 表示したい最後の化合物の次\n",
        "Draw.MolsToGridImage(\n",
        "    searched_mols[x_start:x_end],  # スライスで範囲を指定\n",
        "    molsPerRow=5,  # 列の数\n",
        "    subImgSize=(200, 200),  # 画像サイズ\n",
        "    legends=[str(v) for v in similarity_values],  # 注釈\n",
        ")"
      ]
    },
    {
      "cell_type": "markdown",
      "metadata": {
        "id": "4cnvzkoRx-1u"
      },
      "source": [
        "# 最大共通部分構造"
      ]
    },
    {
      "cell_type": "code",
      "execution_count": null,
      "metadata": {
        "id": "xleMxj9pkv89"
      },
      "outputs": [],
      "source": [
        "from rdkit.Chem import rdFMCS\n",
        "\n",
        "mcs = rdFMCS.FindMCS([query_mol, mol], timeout=60)\n",
        "mcs.numAtoms, mcs.numBonds  # 最大共通部分構造に含まれる原子数、結合数"
      ]
    },
    {
      "cell_type": "code",
      "execution_count": null,
      "metadata": {
        "id": "Anny6w0tzUHz"
      },
      "outputs": [],
      "source": [
        "mol_mcs = Chem.MolFromSmarts(mcs.smartsString)\n",
        "mcs1 = query_mol.GetSubstructMatch(mol_mcs)\n",
        "mcs2 = mol.GetSubstructMatch(mol_mcs)\n",
        "mcs1, mcs2  # それぞれで一致した原子番号の一覧"
      ]
    },
    {
      "cell_type": "code",
      "execution_count": null,
      "metadata": {
        "id": "QWietWs0lZoj"
      },
      "outputs": [],
      "source": [
        "Draw.MolsToGridImage(\n",
        "    [query_mol, mol],\n",
        "    molsPerRow=2,\n",
        "    subImgSize=(400, 400),\n",
        "    highlightAtomLists=[mcs1, mcs2],\n",
        ")"
      ]
    },
    {
      "cell_type": "code",
      "execution_count": null,
      "metadata": {
        "id": "iQoHwJfXqCRe"
      },
      "outputs": [],
      "source": [
        "# 最大共通部分構造の大きさに基づいた類似性検索\n",
        "\n",
        "mols = []\n",
        "for smile, id in zip(df[\"Open Babel SMILES\"], df[\"PCCDB-ID\"]):\n",
        "    mol = Chem.MolFromSmiles(smile)  # SMILES　を　RDKit Mol　に変換\n",
        "    mol.SetProp(\"_Name\", str(id))  # 名前をつける\n",
        "    mols.append(mol)\n",
        "\n",
        "results = []\n",
        "for i, mol in enumerate(mols):\n",
        "    mcs = rdFMCS.FindMCS([query_mol, mol], timeout=60)\n",
        "    results.append([mcs.numAtoms, mcs.numBonds, i])\n",
        "\n",
        "searched_mols = []\n",
        "similarity_values = []\n",
        "highlight_atom_lists = []\n",
        "for n_atom, n_bond, i in reversed(sorted(results)):\n",
        "    searched_mols.append(mols[i])\n",
        "    similarity_values.append(str(n_atom) + \",\" + str(n_bond))\n",
        "    mcs = rdFMCS.FindMCS([query_mol, mols[i]], timeout=60)\n",
        "    mol_mcs = Chem.MolFromSmarts(mcs.smartsString)\n",
        "    mcs2 = mols[i].GetSubstructMatch(mol_mcs)\n",
        "    highlight_atom_lists.append(mcs2)\n",
        "\n",
        "x_start = 0  # 表示したい最初の化合物\n",
        "x_end = 10  # 表示したい最後の化合物の次\n",
        "Draw.MolsToGridImage(\n",
        "    searched_mols[x_start:x_end],  # スライスで範囲を指定\n",
        "    molsPerRow=5,  # 列の数\n",
        "    subImgSize=(160, 160),  # 画像サイズ\n",
        "    highlightAtomLists=highlight_atom_lists[x_start:x_end],\n",
        "    legends=similarity_values,  # 注釈\n",
        ")"
      ]
    }
  ],
  "metadata": {
    "colab": {
      "collapsed_sections": [
        "8qMkdSdiyU89"
      ],
      "provenance": [],
      "include_colab_link": true
    },
    "kernelspec": {
      "display_name": "Python 3 (ipykernel)",
      "language": "python",
      "name": "python3"
    },
    "language_info": {
      "codemirror_mode": {
        "name": "ipython",
        "version": 3
      },
      "file_extension": ".py",
      "mimetype": "text/x-python",
      "name": "python",
      "nbconvert_exporter": "python",
      "pygments_lexer": "ipython3",
      "version": "3.9.12"
    }
  },
  "nbformat": 4,
  "nbformat_minor": 0
}